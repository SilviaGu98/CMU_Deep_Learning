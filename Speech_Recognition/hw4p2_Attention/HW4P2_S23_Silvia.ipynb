{
  "nbformat": 4,
  "nbformat_minor": 0,
  "metadata": {
    "colab": {
      "provenance": []
    },
    "kernelspec": {
      "name": "python3",
      "display_name": "Python 3"
    },
    "language_info": {
      "name": "python"
    },
    "widgets": {
      "application/vnd.jupyter.widget-state+json": {
        "994812fe26194f5b822af36d54af7cd9": {
          "model_module": "@jupyter-widgets/controls",
          "model_name": "VBoxModel",
          "model_module_version": "1.5.0",
          "state": {
            "_dom_classes": [],
            "_model_module": "@jupyter-widgets/controls",
            "_model_module_version": "1.5.0",
            "_model_name": "VBoxModel",
            "_view_count": null,
            "_view_module": "@jupyter-widgets/controls",
            "_view_module_version": "1.5.0",
            "_view_name": "VBoxView",
            "box_style": "",
            "children": [
              "IPY_MODEL_c49ab99fd794403fb7975343697f037c",
              "IPY_MODEL_b279df84b7fb4c009d7e2fbcf4472d13"
            ],
            "layout": "IPY_MODEL_16bc50c4aebb4e89a4952f9e228bde01"
          }
        },
        "c49ab99fd794403fb7975343697f037c": {
          "model_module": "@jupyter-widgets/controls",
          "model_name": "LabelModel",
          "model_module_version": "1.5.0",
          "state": {
            "_dom_classes": [],
            "_model_module": "@jupyter-widgets/controls",
            "_model_module_version": "1.5.0",
            "_model_name": "LabelModel",
            "_view_count": null,
            "_view_module": "@jupyter-widgets/controls",
            "_view_module_version": "1.5.0",
            "_view_name": "LabelView",
            "description": "",
            "description_tooltip": null,
            "layout": "IPY_MODEL_3fab1b177a3e4c339b9e40d48b59246d",
            "placeholder": "​",
            "style": "IPY_MODEL_686ec5bd26b54aef95aa65a6d294bd7e",
            "value": "263.302 MB of 263.310 MB uploaded (0.000 MB deduped)\r"
          }
        },
        "b279df84b7fb4c009d7e2fbcf4472d13": {
          "model_module": "@jupyter-widgets/controls",
          "model_name": "FloatProgressModel",
          "model_module_version": "1.5.0",
          "state": {
            "_dom_classes": [],
            "_model_module": "@jupyter-widgets/controls",
            "_model_module_version": "1.5.0",
            "_model_name": "FloatProgressModel",
            "_view_count": null,
            "_view_module": "@jupyter-widgets/controls",
            "_view_module_version": "1.5.0",
            "_view_name": "ProgressView",
            "bar_style": "",
            "description": "",
            "description_tooltip": null,
            "layout": "IPY_MODEL_8156b92d3d53463f80cb0d35b7066663",
            "max": 1,
            "min": 0,
            "orientation": "horizontal",
            "style": "IPY_MODEL_3a91fb5e676f4a2e89115eb232083959",
            "value": 0.9999715502069833
          }
        },
        "16bc50c4aebb4e89a4952f9e228bde01": {
          "model_module": "@jupyter-widgets/base",
          "model_name": "LayoutModel",
          "model_module_version": "1.2.0",
          "state": {
            "_model_module": "@jupyter-widgets/base",
            "_model_module_version": "1.2.0",
            "_model_name": "LayoutModel",
            "_view_count": null,
            "_view_module": "@jupyter-widgets/base",
            "_view_module_version": "1.2.0",
            "_view_name": "LayoutView",
            "align_content": null,
            "align_items": null,
            "align_self": null,
            "border": null,
            "bottom": null,
            "display": null,
            "flex": null,
            "flex_flow": null,
            "grid_area": null,
            "grid_auto_columns": null,
            "grid_auto_flow": null,
            "grid_auto_rows": null,
            "grid_column": null,
            "grid_gap": null,
            "grid_row": null,
            "grid_template_areas": null,
            "grid_template_columns": null,
            "grid_template_rows": null,
            "height": null,
            "justify_content": null,
            "justify_items": null,
            "left": null,
            "margin": null,
            "max_height": null,
            "max_width": null,
            "min_height": null,
            "min_width": null,
            "object_fit": null,
            "object_position": null,
            "order": null,
            "overflow": null,
            "overflow_x": null,
            "overflow_y": null,
            "padding": null,
            "right": null,
            "top": null,
            "visibility": null,
            "width": null
          }
        },
        "3fab1b177a3e4c339b9e40d48b59246d": {
          "model_module": "@jupyter-widgets/base",
          "model_name": "LayoutModel",
          "model_module_version": "1.2.0",
          "state": {
            "_model_module": "@jupyter-widgets/base",
            "_model_module_version": "1.2.0",
            "_model_name": "LayoutModel",
            "_view_count": null,
            "_view_module": "@jupyter-widgets/base",
            "_view_module_version": "1.2.0",
            "_view_name": "LayoutView",
            "align_content": null,
            "align_items": null,
            "align_self": null,
            "border": null,
            "bottom": null,
            "display": null,
            "flex": null,
            "flex_flow": null,
            "grid_area": null,
            "grid_auto_columns": null,
            "grid_auto_flow": null,
            "grid_auto_rows": null,
            "grid_column": null,
            "grid_gap": null,
            "grid_row": null,
            "grid_template_areas": null,
            "grid_template_columns": null,
            "grid_template_rows": null,
            "height": null,
            "justify_content": null,
            "justify_items": null,
            "left": null,
            "margin": null,
            "max_height": null,
            "max_width": null,
            "min_height": null,
            "min_width": null,
            "object_fit": null,
            "object_position": null,
            "order": null,
            "overflow": null,
            "overflow_x": null,
            "overflow_y": null,
            "padding": null,
            "right": null,
            "top": null,
            "visibility": null,
            "width": null
          }
        },
        "686ec5bd26b54aef95aa65a6d294bd7e": {
          "model_module": "@jupyter-widgets/controls",
          "model_name": "DescriptionStyleModel",
          "model_module_version": "1.5.0",
          "state": {
            "_model_module": "@jupyter-widgets/controls",
            "_model_module_version": "1.5.0",
            "_model_name": "DescriptionStyleModel",
            "_view_count": null,
            "_view_module": "@jupyter-widgets/base",
            "_view_module_version": "1.2.0",
            "_view_name": "StyleView",
            "description_width": ""
          }
        },
        "8156b92d3d53463f80cb0d35b7066663": {
          "model_module": "@jupyter-widgets/base",
          "model_name": "LayoutModel",
          "model_module_version": "1.2.0",
          "state": {
            "_model_module": "@jupyter-widgets/base",
            "_model_module_version": "1.2.0",
            "_model_name": "LayoutModel",
            "_view_count": null,
            "_view_module": "@jupyter-widgets/base",
            "_view_module_version": "1.2.0",
            "_view_name": "LayoutView",
            "align_content": null,
            "align_items": null,
            "align_self": null,
            "border": null,
            "bottom": null,
            "display": null,
            "flex": null,
            "flex_flow": null,
            "grid_area": null,
            "grid_auto_columns": null,
            "grid_auto_flow": null,
            "grid_auto_rows": null,
            "grid_column": null,
            "grid_gap": null,
            "grid_row": null,
            "grid_template_areas": null,
            "grid_template_columns": null,
            "grid_template_rows": null,
            "height": null,
            "justify_content": null,
            "justify_items": null,
            "left": null,
            "margin": null,
            "max_height": null,
            "max_width": null,
            "min_height": null,
            "min_width": null,
            "object_fit": null,
            "object_position": null,
            "order": null,
            "overflow": null,
            "overflow_x": null,
            "overflow_y": null,
            "padding": null,
            "right": null,
            "top": null,
            "visibility": null,
            "width": null
          }
        },
        "3a91fb5e676f4a2e89115eb232083959": {
          "model_module": "@jupyter-widgets/controls",
          "model_name": "ProgressStyleModel",
          "model_module_version": "1.5.0",
          "state": {
            "_model_module": "@jupyter-widgets/controls",
            "_model_module_version": "1.5.0",
            "_model_name": "ProgressStyleModel",
            "_view_count": null,
            "_view_module": "@jupyter-widgets/base",
            "_view_module_version": "1.2.0",
            "_view_name": "StyleView",
            "bar_color": null,
            "description_width": ""
          }
        }
      }
    }
  },
  "cells": [
    {
      "cell_type": "markdown",
      "source": [
        "# HW4P2: Attention-based Speech Recognition\n",
        "\n",
        "<img src=\"https://cdn.shopify.com/s/files/1/0272/2080/3722/products/SmileBumperSticker_5400x.jpg\" alt=\"A cute cat\" width=\"600\">\n",
        "\n",
        "\n",
        "Welcome to the final assignment in 11785. In this HW, you will work on building a speech recognition system with <i>attention</i>. <br> <br>\n",
        "\n",
        "<center>\n",
        "<img src=\"https://popmn.org/wp-content/uploads/2020/03/pay-attention.jpg\" alt=\"A cute cat\" height=\"100\">\n",
        "</center>\n",
        "\n",
        "HW Writeup: On Piazza/Course Website <br>\n",
        "Kaggle Competition Link: https://www.kaggle.com/competitions/11-785-s23-hw4p2/ <br>\n",
        "Kaggle Dataset Link: https://www.kaggle.com/datasets/varunjain3/11-785-s23-hw4p2-dataset\n",
        "<br>\n",
        "LAS Paper: https://arxiv.org/pdf/1508.01211.pdf <br>\n",
        "Attention is all you need:https://arxiv.org/pdf/1706.03762.pdf"
      ],
      "metadata": {
        "id": "8XpNMS7Vk6Df"
      }
    },
    {
      "cell_type": "markdown",
      "source": [
        "# Read this section importantly!"
      ],
      "metadata": {
        "id": "vwIdDTTmmZVe"
      }
    },
    {
      "cell_type": "markdown",
      "source": [
        "1. By now, we believe that you are already a great deep learning practitioner, Congratulations. 🎉\n",
        "\n",
        "2. You are allowed to use code from your previous homeworks for this homework. We will only provide, aspects that are necessary and new with this homework. \n",
        "\n",
        "3. There are a lot of resources provided in this notebook, that will help you check if you are running your implementations correctly."
      ],
      "metadata": {
        "id": "y9qsVrRemgh7"
      }
    },
    {
      "cell_type": "code",
      "source": [
        "!nvidia-smi"
      ],
      "metadata": {
        "id": "8UK7J-dp5iN5",
        "colab": {
          "base_uri": "https://localhost:8080/"
        },
        "outputId": "8807794c-e98c-4faa-b9ff-8e2980e64bfd"
      },
      "execution_count": 1,
      "outputs": [
        {
          "output_type": "stream",
          "name": "stdout",
          "text": [
            "Tue May  2 13:03:34 2023       \n",
            "+-----------------------------------------------------------------------------+\n",
            "| NVIDIA-SMI 525.85.12    Driver Version: 525.85.12    CUDA Version: 12.0     |\n",
            "|-------------------------------+----------------------+----------------------+\n",
            "| GPU  Name        Persistence-M| Bus-Id        Disp.A | Volatile Uncorr. ECC |\n",
            "| Fan  Temp  Perf  Pwr:Usage/Cap|         Memory-Usage | GPU-Util  Compute M. |\n",
            "|                               |                      |               MIG M. |\n",
            "|===============================+======================+======================|\n",
            "|   0  Tesla T4            Off  | 00000000:00:04.0 Off |                    0 |\n",
            "| N/A   73C    P0    30W /  70W |      0MiB / 15360MiB |      0%      Default |\n",
            "|                               |                      |                  N/A |\n",
            "+-------------------------------+----------------------+----------------------+\n",
            "                                                                               \n",
            "+-----------------------------------------------------------------------------+\n",
            "| Processes:                                                                  |\n",
            "|  GPU   GI   CI        PID   Type   Process name                  GPU Memory |\n",
            "|        ID   ID                                                   Usage      |\n",
            "|=============================================================================|\n",
            "|  No running processes found                                                 |\n",
            "+-----------------------------------------------------------------------------+\n"
          ]
        }
      ]
    },
    {
      "cell_type": "code",
      "source": [
        "# Install some required libraries\n",
        "# Feel free to add more if you want\n",
        "!pip install -q python-levenshtein torchsummaryX wandb kaggle pytorch-nlp "
      ],
      "metadata": {
        "id": "nYgaLmgy5iqR"
      },
      "execution_count": 2,
      "outputs": []
    },
    {
      "cell_type": "markdown",
      "source": [
        "# Imports"
      ],
      "metadata": {
        "id": "yEkA_GGG-tTB"
      }
    },
    {
      "cell_type": "code",
      "source": [
        "# Import Necessary Modules you require for this HW here"
      ],
      "metadata": {
        "id": "p0aXmrxM-usO"
      },
      "execution_count": 3,
      "outputs": []
    },
    {
      "cell_type": "markdown",
      "source": [
        "# Toy Dataset Download"
      ],
      "metadata": {
        "id": "h7Rd-7SJEKX-"
      }
    },
    {
      "cell_type": "code",
      "source": [
        "# !wget -q https://cmu.box.com/shared/static/om4qpzd4tf1xo4h7230k4v1pbdyueghe --content-disposition --show-progress\n",
        "# !unzip -q hw4p2_toy.zip -d ./"
      ],
      "metadata": {
        "id": "emvEV0KwEKDX"
      },
      "execution_count": 4,
      "outputs": []
    },
    {
      "cell_type": "markdown",
      "source": [
        "# Kaggle Dataset Download"
      ],
      "metadata": {
        "id": "-njBvl2Opd6I"
      }
    },
    {
      "cell_type": "code",
      "source": [
        "# api_token = '{\"username\":\"yunxingu\",\"key\":\"b0d791b8d8e9237e047196d9e5f3c070\"}'\n",
        "\n",
        "# # set up kaggle.json\n",
        "# # TODO: Use the same Kaggle code from HW1P2, HW2P2, HW3P2\n",
        "# !mkdir /root/.kaggle/\n",
        "\n",
        "# with open(\"/root/.kaggle/kaggle.json\", \"w+\") as f:\n",
        "#     f.write(api_token) # Put your kaggle username & key here\n",
        "\n",
        "# !chmod 600 /root/.kaggle/kaggle.json"
      ],
      "metadata": {
        "id": "PTyWR2sIp0Ns"
      },
      "execution_count": 5,
      "outputs": []
    },
    {
      "cell_type": "code",
      "source": [
        "# # To download the dataset\n",
        "# !kaggle datasets download -d varunjain3/11-785-s23-hw4p2-dataset"
      ],
      "metadata": {
        "id": "F581gjfnqE2C"
      },
      "execution_count": 6,
      "outputs": []
    },
    {
      "cell_type": "code",
      "source": [
        "# # To unzip data quickly and quietly\n",
        "# !unzip -q 11-785-s23-hw4p2-dataset.zip -d ./data"
      ],
      "metadata": {
        "id": "7ko7QN16qF2V"
      },
      "execution_count": 7,
      "outputs": []
    },
    {
      "cell_type": "markdown",
      "source": [
        "# Dataset and Dataloaders\n",
        "\n",
        "We have given you 2 datasets. One is a toy dataset, and the other is the standard LibriSpeech dataset. The toy dataset is to help you get your code implemented and tested and debugged easily, to verify that your attention diagonal is produced correctly. Note however that it's task (phonetic transcription) is drawn from HW3P2, it is meant to be familiar and help you understand how to transition from phonetic transcription to alphabet transcription, with a working attention module.\n",
        "\n",
        "Please make sure you use the right constants in your code implementation for future modules, (SOS_TOKEN vs SOS_TOKEN_TOY) when working with either dataset. We have defined the constants accordingly below. Before you come to OH or post on piazza, make sure you aren't misuing the constants for either dataset in your code. "
      ],
      "metadata": {
        "id": "zUJyBBwIqQs6"
      }
    },
    {
      "cell_type": "markdown",
      "source": [
        "## Toy Dataset"
      ],
      "metadata": {
        "id": "G_8wdpm3WrT9"
      }
    },
    {
      "cell_type": "markdown",
      "source": [
        "The toy dataset is a dataset of fixed length speech sequences that have phonetic transcripts. The reason we made it with phonetic transcripts was to help you understand how attention can work with phonetic transcription that you have done in HW3P2"
      ],
      "metadata": {
        "id": "kCzEdHVZWyga"
      }
    },
    {
      "cell_type": "code",
      "source": [
        "# # Load the toy dataset\n",
        "# import numpy as np\n",
        "# import torch\n",
        "# X_train = np.load(\"hw4p2_toy/f0176_mfccs_train_new.npy\")\n",
        "# X_valid = np.load(\"hw4p2_toy/f0176_mfccs_dev_new.npy\")\n",
        "# Y_train = np.load(\"hw4p2_toy/f0176_hw3p2_train.npy\")\n",
        "# Y_valid = np.load(\"hw4p2_toy/f0176_hw3p2_dev.npy\")\n",
        "\n",
        "# # This is how you actually need to find out the different trancripts in a dataset. \n",
        "# # Can you think whats going on here? Why are we using a np.unique?\n",
        "# VOCAB_MAP_TOY           = dict(zip(np.unique(Y_valid), range(len(np.unique(Y_valid))))) \n",
        "# VOCAB_MAP_TOY[\"[PAD]\"]  = len(VOCAB_MAP_TOY)\n",
        "# VOCAB_TOY               = list(VOCAB_MAP_TOY.keys())\n",
        "\n",
        "# SOS_TOKEN_TOY = VOCAB_MAP_TOY[\"[SOS]\"]\n",
        "# EOS_TOKEN_TOY = VOCAB_MAP_TOY[\"[EOS]\"]\n",
        "# PAD_TOKEN_TOY = VOCAB_MAP_TOY[\"[PAD]\"]\n",
        "\n",
        "# Y_train = [np.array([VOCAB_MAP_TOY[p] for p in seq]) for seq in Y_train]\n",
        "# Y_valid = [np.array([VOCAB_MAP_TOY[p] for p in seq]) for seq in Y_valid]"
      ],
      "metadata": {
        "id": "oLhnu3Y2WvFa"
      },
      "execution_count": 8,
      "outputs": []
    },
    {
      "cell_type": "code",
      "source": [
        "# class ToyDataset(torch.utils.data.Dataset):\n",
        "\n",
        "#     def __init__(self, partition):\n",
        "\n",
        "#         if partition == \"train\":\n",
        "#             self.mfccs = X_train\n",
        "#             self.transcripts = Y_train\n",
        "\n",
        "#         elif partition == \"valid\":\n",
        "#             self.mfccs = X_valid\n",
        "#             self.transcripts = Y_valid\n",
        "\n",
        "#         assert len(self.mfccs) == len(self.transcripts)\n",
        "\n",
        "#         self.length = len(self.mfccs)\n",
        "\n",
        "#     def __len__(self):\n",
        "\n",
        "#         return self.length\n",
        "\n",
        "#     def __getitem__(self, i):\n",
        "\n",
        "#         x = torch.FloatTensor(self.mfccs[i])\n",
        "#         y = torch.LongTensor(self.transcripts[i])\n",
        "\n",
        "#         return x, y\n",
        "\n",
        "#     def collate_fn(self, batch):\n",
        "\n",
        "#         x_batch, y_batch = list(zip(*batch))\n",
        "\n",
        "#         x_lens      = [x.shape[0] for x in x_batch] \n",
        "#         y_lens      = [y.shape[0] for y in y_batch] \n",
        "\n",
        "#         x_batch_pad = torch.nn.utils.rnn.pad_sequence(x_batch, batch_first=True, padding_value= EOS_TOKEN_TOY)\n",
        "#         y_batch_pad = torch.nn.utils.rnn.pad_sequence(y_batch, batch_first=True, padding_value= EOS_TOKEN_TOY) \n",
        "        \n",
        "#         return x_batch_pad, y_batch_pad, torch.tensor(x_lens), torch.tensor(y_lens)"
      ],
      "metadata": {
        "id": "U5ub4PLbWsaT"
      },
      "execution_count": 9,
      "outputs": []
    },
    {
      "cell_type": "code",
      "source": [
        "# config = {}\n",
        "# config['batch_size'] = 128\n",
        "# train_toy_dataset   = ToyDataset(partition= 'train')\n",
        "# valid_toy_dataset   = ToyDataset(partition= 'valid')\n",
        "\n",
        "# train_toy_loader    = torch.utils.data.DataLoader(\n",
        "#     dataset     = train_toy_dataset, \n",
        "#     batch_size  = config['batch_size'], \n",
        "#     shuffle     = True,\n",
        "#     num_workers = 4, \n",
        "#     pin_memory  = True,\n",
        "#     collate_fn  = train_toy_dataset.collate_fn\n",
        "# )\n",
        "\n",
        "# valid_toy_loader    = torch.utils.data.DataLoader(\n",
        "#     dataset     = valid_toy_dataset, \n",
        "#     batch_size  = config['batch_size'], \n",
        "#     shuffle     = False,\n",
        "#     num_workers = 2, \n",
        "#     pin_memory  = True,\n",
        "#     collate_fn  = valid_toy_dataset.collate_fn\n",
        "# )\n",
        "\n",
        "# print(\"No. of train mfccs   : \", train_toy_dataset.__len__())\n",
        "# print(\"Batch size           : \", config['batch_size'])\n",
        "# print(\"Train batches        : \", train_toy_loader.__len__())\n",
        "# print(\"Valid batches        : \", valid_toy_loader.__len__())"
      ],
      "metadata": {
        "id": "KSpirO0MZnON"
      },
      "execution_count": 10,
      "outputs": []
    },
    {
      "cell_type": "code",
      "source": [
        "# valid_toy_dataset.__len__()"
      ],
      "metadata": {
        "id": "1jXOolqJGhDT"
      },
      "execution_count": 11,
      "outputs": []
    },
    {
      "cell_type": "code",
      "source": [
        "# print(\"\\nChecking the shapes of the data...\")\n",
        "# for batch in train_toy_loader:\n",
        "#     x, y, lx, ly = batch\n",
        "#     print(x.shape, y.shape, lx.shape, ly.shape)\n",
        "#     break"
      ],
      "metadata": {
        "id": "ALSq3CTyYVth"
      },
      "execution_count": 12,
      "outputs": []
    },
    {
      "cell_type": "markdown",
      "source": [
        "## LibriSpeech\n",
        "\n",
        "In terms of the dataset, the dataset structure for HW3P2 and HW4P2 dataset are very similar. Can you spot out the differences? What all will be required?? \n",
        "\n",
        "Hints:\n",
        "\n",
        "- Check how big is the dataset (do you require memory efficient loading techniques??)\n",
        "- How do we load mfccs? Do we need to normalise them? \n",
        "- Does the data have \\<SOS> and \\<EOS> tokens in each sequences? Do we remove them or do we not remove them? (Read writeup)\n",
        "- Would we want a collating function? Ask yourself: Why did we need a collate function last time?\n",
        "- Observe the VOCAB, is the dataset same as HW3P2? \n",
        "- Should you add augmentations, if yes which augmentations? When should you add augmentations? (Check bootcamp for answer)\n"
      ],
      "metadata": {
        "id": "1sjsbFuKWp7q"
      }
    },
    {
      "cell_type": "code",
      "execution_count": 13,
      "metadata": {
        "colab": {
          "base_uri": "https://localhost:8080/"
        },
        "id": "MBMLGYX-kZcd",
        "outputId": "c8eed7d5-1ebf-4ae3-8903-8d7095240bae"
      },
      "outputs": [
        {
          "output_type": "stream",
          "name": "stdout",
          "text": [
            "Length of vocab: 31\n",
            "Vocab: ['<pad>', '<sos>', '<eos>', 'A', 'B', 'C', 'D', 'E', 'F', 'G', 'H', 'I', 'J', 'K', 'L', 'M', 'N', 'O', 'P', 'Q', 'R', 'S', 'T', 'U', 'V', 'W', 'X', 'Y', 'Z', \"'\", ' ']\n",
            "PAD_TOKEN: 0\n",
            "SOS_TOKEN: 1\n",
            "EOS_TOKEN: 2\n"
          ]
        }
      ],
      "source": [
        "config = {\n",
        "  'batch_size': 128,\n",
        "  'lr':1e-3,\n",
        "  'epochs': 30,\n",
        "}\n",
        "\n",
        "VOCAB = ['<pad>', '<sos>', '<eos>', \n",
        "         'A',   'B',    'C',    'D',    \n",
        "         'E',   'F',    'G',    'H',    \n",
        "         'I',   'J',    'K',    'L',       \n",
        "         'M',   'N',    'O',    'P',    \n",
        "         'Q',   'R',    'S',    'T', \n",
        "         'U',   'V',    'W',    'X', \n",
        "         'Y',   'Z',    \"'\",    ' ', \n",
        "         ]\n",
        "\n",
        "VOCAB_MAP = {VOCAB[i]:i for i in range(0, len(VOCAB))}\n",
        "\n",
        "PAD_TOKEN = VOCAB_MAP[\"<pad>\"]\n",
        "SOS_TOKEN = VOCAB_MAP[\"<sos>\"]\n",
        "EOS_TOKEN = VOCAB_MAP[\"<eos>\"]\n",
        "\n",
        "print(f\"Length of vocab: {len(VOCAB)}\")\n",
        "print(f\"Vocab: {VOCAB}\")\n",
        "print(f\"PAD_TOKEN: {PAD_TOKEN}\")\n",
        "print(f\"SOS_TOKEN: {SOS_TOKEN}\")\n",
        "print(f\"EOS_TOKEN: {EOS_TOKEN}\")"
      ]
    },
    {
      "cell_type": "code",
      "source": [
        "import torch"
      ],
      "metadata": {
        "id": "VuneWaTStdF2"
      },
      "execution_count": 14,
      "outputs": []
    },
    {
      "cell_type": "code",
      "source": [
        "import os\n",
        "from torch.nn.utils.rnn import pad_sequence, pack_padded_sequence, pad_packed_sequence\n",
        "import torchaudio.transforms as tat"
      ],
      "metadata": {
        "id": "ST70QOkw5epk"
      },
      "execution_count": 15,
      "outputs": []
    },
    {
      "cell_type": "code",
      "source": [
        "# Utils for network\n",
        "torch.cuda.empty_cache()\n",
        "\n",
        "class PermuteBlock(torch.nn.Module):\n",
        "    def forward(self, x):\n",
        "        return x.transpose(1, 2)"
      ],
      "metadata": {
        "id": "YftdX0P5DCMw"
      },
      "execution_count": 16,
      "outputs": []
    },
    {
      "cell_type": "code",
      "execution_count": 17,
      "metadata": {
        "id": "afd0_vlbJmr_"
      },
      "outputs": [],
      "source": [
        "class SpeechDataset(torch.utils.data.Dataset):\n",
        "\n",
        "\n",
        "    def __init__(self, root, VOCAB_MAP, BATCH_SIZE): \n",
        "        '''\n",
        "        Initializes the dataset.\n",
        "\n",
        "        '''\n",
        "\n",
        "        # Load the directory and all files in them\n",
        "\n",
        "        self.mfcc_dir = root+'/mfcc/' \n",
        "        self.transcript_dir = root+'/transcripts/' \n",
        "\n",
        "        self.mfcc_files = sorted(os.listdir(self.mfcc_dir))\n",
        "        self.transcript_files = sorted(os.listdir(self.transcript_dir))\n",
        "\n",
        "        self.VOCAB_MAP = VOCAB_MAP\n",
        "\n",
        "        # WHAT SHOULD THE LENGTH OF THE DATASET BE?\n",
        "        self.length = len(self.mfcc_files)\n",
        "        \n",
        "\n",
        "        #TODO\n",
        "        # CREATE AN ARRAY OF ALL FEATUERS AND LABELS\n",
        "        \n",
        "        self.mfccs, self.transcripts = [], []\n",
        "        mfcc_maxlen, trans_maxlen = 0, 0\n",
        "        mfcc_lengths, trans_lengths = [],[]\n",
        "\n",
        "        # Iterate through mfccs and transcripts\n",
        "        for i in range(len(self.mfcc_files)):\n",
        "        #   Load a single mfcc\n",
        "            mfcc        = np.load(self.mfcc_dir + self.mfcc_files[i])\n",
        "        #   Do Cepstral Normalization of mfcc \n",
        "\n",
        "            normalized_mfcc = (mfcc - np.mean(mfcc, axis = 0))/np.std(mfcc, axis = 0)\n",
        "        #   Load the corresponding transcript\n",
        "            transcript  = np.load(self.transcript_dir + self.transcript_files[i]) \n",
        "            # transcript = transcript[1:-1] # Don't Remove [SOS] and [EOS] from the transcript \n",
        "            transcript = [self.VOCAB_MAP[p] for p in transcript]\n",
        "         \n",
        "\n",
        "        #   Append each mfcc to self.mfcc, transcript to self.transcript\n",
        "            self.mfccs.append(mfcc)\n",
        "            self.transcripts.append(transcript)   \n",
        "\n",
        "            mfcc_lengths.append(len(mfcc))\n",
        "            mfcc_maxlen = max(mfcc_maxlen, len(mfcc))\n",
        "            \n",
        "            trans_lengths.append(len(transcript))\n",
        "            trans_maxlen = max(trans_maxlen, len(transcript))\n",
        "        print('train data')\n",
        "        print('max mfcc length:', mfcc_maxlen)\n",
        "        print('mean mfcc length:', np.mean(np.array(mfcc_lengths)))\n",
        "        print('max trans length:', trans_maxlen)\n",
        "        print('mean trans length:', np.mean(np.array(trans_lengths))) \n",
        "        '''\n",
        "        You may decide to do this in __getitem__ if you wish.\n",
        "        However, doing this here will make the __init__ function take the load of\n",
        "        loading the data, and shift it away from training.\n",
        "        '''\n",
        "       \n",
        "\n",
        "    def __len__(self):\n",
        "        \n",
        "        '''\n",
        "        TODO: What do we return here?\n",
        "        '''\n",
        "        return self.length\n",
        "\n",
        "    def __getitem__(self, ind):\n",
        "        '''\n",
        "        TODO: RETURN THE MFCC COEFFICIENTS AND ITS CORRESPONDING LABELS\n",
        "\n",
        "        If you didn't do the loading and processing of the data in __init__,\n",
        "        do that here.\n",
        "\n",
        "        Once done, return a tuple of features and labels.\n",
        "        '''\n",
        "\n",
        "        mfcc = self.mfccs[ind] \n",
        "        transcript = self.transcripts[ind] \n",
        "        return torch.FloatTensor(mfcc), torch.tensor(transcript)\n",
        "\n",
        "\n",
        "    def collate_fn(self,batch):\n",
        "        '''\n",
        "        TODO:\n",
        "        1.  Extract the features and labels from 'batch'\n",
        "        2.  We will additionally need to pad both features and labels,\n",
        "            look at pytorch's docs for pad_sequence\n",
        "        3.  This is a good place to perform transforms, if you so wish. \n",
        "            Performing them on batches will speed the process up a bit.\n",
        "        4.  Return batch of features, labels, lenghts of features, \n",
        "            and lengths of labels.\n",
        "          '''\n",
        "        batch_mfcc, batch_transcript, = [], []\n",
        "        lengths_mfcc, lengths_transcript = [], []\n",
        "        \n",
        "        for (_mfcc,_transcript) in batch:\n",
        "          batch_mfcc.append(_mfcc)       \n",
        "          lengths_mfcc.append(len(_mfcc))\n",
        "          \n",
        "          batch_transcript.append(_transcript)\n",
        "          lengths_transcript.append(len(_transcript))       \n",
        "\n",
        "       \n",
        "        batch_mfcc_pad = pad_sequence(batch_mfcc, batch_first = True)\n",
        "        \n",
        "        batch_transcript_pad = pad_sequence(batch_transcript, batch_first = True)\n",
        "\n",
        "        # You may apply some transformation, Time and Frequency masking, here in the collate function;\n",
        "        # Food for thought -> Why are we applying the transformation here and not in the __getitem__?\n",
        "        #                  -> Would we apply transformation on the validation set as well?\n",
        "        #                  -> Is the order of axes / dimensions as expected for the transform functions?\n",
        "        \n",
        "        # audio_transforms = torch.nn.Sequential(\n",
        "        #     PermuteBlock(), \n",
        "        #     tat.FrequencyMasking(freq_mask_param=5),\n",
        "        #     tat.TimeMasking(time_mask_param=50),\n",
        "        #     PermuteBlock()\n",
        "        # )\n",
        "        \n",
        "        # batch_mfcc_pad = audio_transforms(batch_mfcc_pad)\n",
        "        \n",
        "        # Return the following values: padded features, padded labels, actual length of features, actual length of the labels\n",
        "        return batch_mfcc_pad, batch_transcript_pad, torch.tensor(lengths_mfcc), torch.tensor(lengths_transcript)\n",
        "\n",
        "       "
      ]
    },
    {
      "cell_type": "code",
      "source": [
        "import numpy as np"
      ],
      "metadata": {
        "id": "-DRJexYiX6oj"
      },
      "execution_count": 18,
      "outputs": []
    },
    {
      "cell_type": "code",
      "execution_count": 19,
      "metadata": {
        "id": "-KjBg_0iX69o"
      },
      "outputs": [],
      "source": [
        "class SpeechDatasetValid(torch.utils.data.Dataset):\n",
        "\n",
        "\n",
        "    def __init__(self, root, VOCAB_MAP, BATCH_SIZE): \n",
        "        '''\n",
        "        Initializes the dataset.\n",
        "\n",
        "        '''\n",
        "\n",
        "        # Load the directory and all files in them\n",
        "\n",
        "        self.mfcc_dir = root+'/mfcc/' \n",
        "        self.transcript_dir = root+'/transcripts/' \n",
        "\n",
        "        self.mfcc_files = sorted(os.listdir(self.mfcc_dir))\n",
        "        self.transcript_files = sorted(os.listdir(self.transcript_dir))\n",
        "\n",
        "        self.VOCAB_MAP = VOCAB_MAP\n",
        "\n",
        "        # WHAT SHOULD THE LENGTH OF THE DATASET BE?\n",
        "        self.length = len(self.mfcc_files)\n",
        "        \n",
        "\n",
        "        #TODO\n",
        "        # CREATE AN ARRAY OF ALL FEATUERS AND LABELS\n",
        "        \n",
        "        self.mfccs, self.transcripts = [], []\n",
        "        mfcc_maxlen, trans_maxlen = 0, 0\n",
        "        mfcc_lengths, trans_lengths = [],[]\n",
        "\n",
        "        # Iterate through mfccs and transcripts\n",
        "        for i in range(len(self.mfcc_files)):\n",
        "        #   Load a single mfcc\n",
        "            mfcc        = np.load(self.mfcc_dir + self.mfcc_files[i])\n",
        "        #   Do Cepstral Normalization of mfcc \n",
        "\n",
        "            normalized_mfcc = (mfcc - np.mean(mfcc, axis = 0))/np.std(mfcc, axis = 0)\n",
        "        #   Load the corresponding transcript\n",
        "            transcript  = np.load(self.transcript_dir + self.transcript_files[i]) \n",
        "            # transcript = transcript[1:-1] # Don't Remove [SOS] and [EOS] from the transcript \n",
        "            transcript = [self.VOCAB_MAP[p] for p in transcript]\n",
        "         \n",
        "\n",
        "        #   Append each mfcc to self.mfcc, transcript to self.transcript\n",
        "            self.mfccs.append(mfcc)\n",
        "            self.transcripts.append(transcript) \n",
        "\n",
        "            mfcc_lengths.append(len(mfcc))\n",
        "            mfcc_maxlen = max(mfcc_maxlen, len(mfcc))\n",
        "            \n",
        "            trans_lengths.append(len(transcript))\n",
        "            trans_maxlen = max(trans_maxlen, len(transcript))\n",
        "        print('valid data')\n",
        "        print('max mfcc length:', mfcc_maxlen)\n",
        "        print('mean mfcc length:', np.mean(np.array(mfcc_lengths)))\n",
        "        print('max trans length:', trans_maxlen)\n",
        "        print('mean trans length:', np.mean(np.array(trans_lengths))) \n",
        "\n",
        "    def __len__(self):\n",
        "    \n",
        "        return self.length\n",
        "\n",
        "    def __getitem__(self, ind):\n",
        "\n",
        "        mfcc = self.mfccs[ind] \n",
        "        transcript = self.transcripts[ind] \n",
        "        return torch.FloatTensor(mfcc), torch.tensor(transcript)\n",
        "\n",
        "\n",
        "    def collate_fn(self,batch):\n",
        "\n",
        "        batch_mfcc, batch_transcript, = [], []\n",
        "        lengths_mfcc, lengths_transcript = [], []\n",
        "        mfcc_maxlen, trans_maxlen = 0,0\n",
        "        for (_mfcc,_transcript) in batch:\n",
        "          batch_mfcc.append(_mfcc)\n",
        "          lengths_mfcc.append(len(_mfcc))\n",
        "          \n",
        "          batch_transcript.append(_transcript)\n",
        "          lengths_transcript.append(len(_transcript))\n",
        "          \n",
        "       \n",
        "        batch_mfcc_pad = pad_sequence(batch_mfcc, batch_first = True)\n",
        "        \n",
        "        batch_transcript_pad = pad_sequence(batch_transcript, batch_first = True)\n",
        "        \n",
        "        \n",
        "        # Return the following values: padded features, padded labels, actual length of features, actual length of the labels\n",
        "        return batch_mfcc_pad, batch_transcript_pad, torch.tensor(lengths_mfcc), torch.tensor(lengths_transcript)\n",
        "\n",
        "       "
      ]
    },
    {
      "cell_type": "code",
      "source": [],
      "metadata": {
        "id": "gFe-kXFXYBcm"
      },
      "execution_count": 19,
      "outputs": []
    },
    {
      "cell_type": "code",
      "execution_count": 20,
      "metadata": {
        "id": "bzckGj1GYHs3"
      },
      "outputs": [],
      "source": [
        "class SpeechDatasetTest(torch.utils.data.Dataset):\n",
        "\n",
        "\n",
        "    def __init__(self, root, VOCAB_MAP, BATCH_SIZE): \n",
        "\n",
        "        self.mfcc_dir = root+'/mfcc/' \n",
        "        self.mfcc_files = sorted(os.listdir(self.mfcc_dir))\n",
        "        self.VOCAB_MAP = VOCAB_MAP\n",
        "\n",
        "        # WHAT SHOULD THE LENGTH OF THE DATASET BE?\n",
        "        self.length = len(self.mfcc_files)\n",
        "        \n",
        "        self.mfccs, self.transcripts = [], []\n",
        "        mfcc_maxlen = 0\n",
        "        lengths_mfcc = []\n",
        "        # Iterate through mfccs and transcripts\n",
        "        for i in range(len(self.mfcc_files)):\n",
        "        #   Load a single mfcc\n",
        "            mfcc        = np.load(self.mfcc_dir + self.mfcc_files[i])\n",
        "        #   Do Cepstral Normalization of mfcc \n",
        "\n",
        "            normalized_mfcc = (mfcc - np.mean(mfcc, axis = 0))/np.std(mfcc, axis = 0)\n",
        "\n",
        "        #   Append each mfcc to self.mfcc, transcript to self.transcript\n",
        "            self.mfccs.append(mfcc)\n",
        "            lengths_mfcc.append(len(mfcc))\n",
        "            mfcc_maxlen = max(mfcc_maxlen, len(mfcc))\n",
        "        print('test data')\n",
        "        print('max mfcc length:', mfcc_maxlen)\n",
        "        print('max mfcc length:', np.mean(np.array(lengths_mfcc)))\n",
        "\n",
        "\n",
        "    def __len__(self):\n",
        "\n",
        "        return self.length\n",
        "\n",
        "    def __getitem__(self, ind):\n",
        "\n",
        "        mfcc = self.mfccs[ind] \n",
        "        \n",
        "        return torch.FloatTensor(mfcc)\n",
        "\n",
        "\n",
        "    def collate_fn(self,batch):\n",
        "\n",
        "        batch_mfcc = []\n",
        "        lengths_mfcc= []\n",
        "        mfcc_maxlen= 0\n",
        "        for _mfcc in batch:\n",
        "          batch_mfcc.append(_mfcc)\n",
        "          lengths_mfcc.append(len(_mfcc))\n",
        "          mfcc_maxlen = max(mfcc_maxlen, len(_mfcc))\n",
        "        \n",
        "        batch_mfcc_pad = pad_sequence(batch_mfcc, batch_first = True)\n",
        "\n",
        "        return batch_mfcc_pad,  torch.tensor(lengths_mfcc)\n",
        "\n",
        "       "
      ]
    },
    {
      "cell_type": "code",
      "source": [
        "dev_dataset = SpeechDatasetValid('/content/data/dev-clean', VOCAB_MAP, config['batch_size'])\n",
        "train_dataset = SpeechDataset('/content/data/train-clean-100', VOCAB_MAP, config['batch_size'])\n",
        "test_dataset = SpeechDatasetTest('/content/data/test-clean', VOCAB_MAP, config['batch_size'])\n",
        "\n",
        "dev_loader = torch.utils.data.DataLoader(\n",
        "    dataset     = dev_dataset, \n",
        "    num_workers = 4,\n",
        "    batch_size  = config['batch_size'], \n",
        "    pin_memory  = True,\n",
        "    shuffle     = False,\n",
        "    collate_fn = dev_dataset.collate_fn\n",
        ")\n",
        "train_loader = torch.utils.data.DataLoader(\n",
        "    dataset     = train_dataset, \n",
        "    num_workers = 4,\n",
        "    batch_size  = config['batch_size'], \n",
        "    pin_memory  = True,\n",
        "    shuffle     = False,\n",
        "    collate_fn = train_dataset.collate_fn\n",
        ")\n",
        "test_loader = torch.utils.data.DataLoader(\n",
        "    dataset     = test_dataset, \n",
        "    num_workers = 4,\n",
        "    batch_size  = config['batch_size'], \n",
        "    pin_memory  = True,\n",
        "    shuffle     = False,\n",
        "    collate_fn = test_dataset.collate_fn\n",
        ")\n",
        "\n",
        "print(\"\\nChecking the shapes of the data...\")\n",
        "for batch in dev_loader:\n",
        "    x, y, x_len, y_len = batch\n",
        "    print(x.shape, y.shape, x_len.shape, y_len.shape)\n",
        "    break"
      ],
      "metadata": {
        "id": "tzuIXCyAuNvo",
        "colab": {
          "base_uri": "https://localhost:8080/"
        },
        "outputId": "649ac30a-fac0-475b-8d8e-85b12f9f676d"
      },
      "execution_count": 21,
      "outputs": [
        {
          "output_type": "stream",
          "name": "stdout",
          "text": [
            "valid data\n",
            "max mfcc length: 3260\n",
            "mean mfcc length: 713.3570107288198\n",
            "max trans length: 518\n",
            "mean trans length: 108.71698113207547\n",
            "train data\n",
            "max mfcc length: 2448\n",
            "mean mfcc length: 1264.6258453344547\n",
            "max trans length: 400\n",
            "mean trans length: 186.65321139493324\n",
            "test data\n",
            "max mfcc length: 3491\n",
            "max mfcc length: 738.2206106870229\n",
            "\n",
            "Checking the shapes of the data...\n",
            "torch.Size([128, 2936, 27]) torch.Size([128, 364]) torch.Size([128]) torch.Size([128])\n"
          ]
        }
      ]
    },
    {
      "cell_type": "code",
      "source": [
        "\n",
        "# print(\"\\nChecking the shapes of the data...\")\n",
        "# for batch in dev_loader:\n",
        "#     x, y, x_len, y_len = batch\n",
        "#     print(x.shape, y.shape, x_len.shape, y_len.shape)\n",
        "#     break"
      ],
      "metadata": {
        "id": "EsHej6ZH9744"
      },
      "execution_count": 22,
      "outputs": []
    },
    {
      "cell_type": "code",
      "source": [
        "# train_dataset.__len__()"
      ],
      "metadata": {
        "id": "1W2Lf24fDn2q"
      },
      "execution_count": 23,
      "outputs": []
    },
    {
      "cell_type": "markdown",
      "source": [
        "Check if you are loading the data correctly with the following:\n",
        "\n",
        "(Note: These are outputs from loading your data in the dataset class, not your dataloader which will have padded sequences)\n",
        "\n",
        "- Train Dataset\n",
        "```\n",
        "Partition loaded:  train-clean-100\n",
        "Max mfcc length:  2448\n",
        "Average mfcc length:  1264.6258453344547\n",
        "Max transcript:  400\n",
        "Average transcript length:  186.65321139493324\n",
        "```\n",
        "\n",
        "- Dev Dataset\n",
        "```\n",
        "Partition loaded:  dev-clean\n",
        "Max mfcc length:  3260\n",
        "Average mfcc length:  713.3570107288198\n",
        "Max transcript:  518\n",
        "Average transcript length:  108.71698113207547\n",
        "```\n",
        "\n",
        "- Test Dataset\n",
        "```\n",
        "Partition loaded:  test-clean\n",
        "Max mfcc length:  3491\n",
        "Average mfcc length:  738.2206106870229\n",
        "```\n",
        "\n",
        "If your values is not matching, read hints, think what could have gone wrong. Then approach TAs."
      ],
      "metadata": {
        "id": "i_n3pqt7ud4t"
      }
    },
    {
      "cell_type": "code",
      "source": [],
      "metadata": {
        "id": "nc2vkVEZ8NyM"
      },
      "execution_count": 23,
      "outputs": []
    },
    {
      "cell_type": "code",
      "execution_count": 63,
      "metadata": {
        "id": "OmdyXI6KMUzz"
      },
      "outputs": [],
      "source": [
        "class pBLSTM(torch.nn.Module):\n",
        "\n",
        "    '''\n",
        "    Pyramidal BiLSTM\n",
        "\n",
        "    '''\n",
        "    \n",
        "    def __init__(self, input_size, hidden_size):\n",
        "        super(pBLSTM, self).__init__()\n",
        "\n",
        "        self.blstm = torch.nn.LSTM(input_size = 2*input_size, hidden_size = hidden_size, num_layers = 1, \n",
        "                             bidirectional = True, dropout = 0.1, batch_first = True) \n",
        "        # TODO: Initialize a single layer bidirectional LSTM with the given input_size and hidden_size\n",
        "\n",
        "    def forward(self, x_packed): # x_packed is a PackedSequence\n",
        "\n",
        "        # TODO: Pad Packed Sequence\n",
        "        \n",
        "        x , lens_unpacked = pad_packed_sequence(x_packed, batch_first = True)\n",
        "        \n",
        "        # Call self.trunc_reshape() which downsamples the time steps of x and increases the feature dimensions as mentioned above\n",
        "        x, x_lens = self.trunc_reshape(x, lens_unpacked)\n",
        "        # TODO: Pack Padded Sequence. \n",
        "        x = pack_padded_sequence(x, x_lens, batch_first = True, enforce_sorted= False)\n",
        "        # TODO: Pass the sequence through bLSTM\n",
        "        x , hidden= self.blstm(x)\n",
        "\n",
        "        return x\n",
        "\n",
        "    def trunc_reshape(self, x, x_lens): \n",
        "        # TODO: If you have odd number of timesteps, how can you handle it? (Hint: You can exclude them)\n",
        "        # TODO: Reshape x. When reshaping x, you have to reduce number of timesteps by a downsampling factor while increasing number of features by the same factor\n",
        "        # TODO: Reduce lengths by the same downsampling factor\n",
        "        \n",
        "        if x.shape[1]%2 != 0:\n",
        "            x= x[:,:-1,:]\n",
        "\n",
        "        x = x.reshape(x.shape[0],x.shape[1]//2, x.shape[2]*2)\n",
        "        x_lens  = x_lens//2\n",
        "        \n",
        "        return x, x_lens"
      ]
    },
    {
      "cell_type": "code",
      "source": [
        "class PackLockedDropout(torch.nn.Module):\n",
        "    def __init__(self, drop_prob):\n",
        "        super(PackLockedDropout, self).__init__()\n",
        "        self.prob = drop_prob\n",
        "    def forward(self, x):\n",
        "        if not self.training or not self.prob: # turn it off during inference\n",
        "            return x\n",
        "        x, x_lens = pad_packed_sequence(x, batch_first = True)\n",
        "        m = x.new_empty(x.size(0), 1, x.size(2),requires_grad=False).bernoulli_(1 - self.prob)\n",
        "        mask = m / (1 - self.prob)\n",
        "        mask = mask.expand_as(x)\n",
        "        out = x * mask\n",
        "        out = pack_padded_sequence(out,x_lens, batch_first = True, enforce_sorted= False)\n",
        "        return out\n",
        "\n"
      ],
      "metadata": {
        "id": "dN5HKackdtRW"
      },
      "execution_count": 25,
      "outputs": []
    },
    {
      "cell_type": "markdown",
      "source": [
        "# THE MODEL \n",
        "\n",
        "### Listen, Attend and Spell\n",
        "Listen, Attend and Spell (LAS) is a neural network model used for speech recognition and synthesis tasks.\n",
        "\n",
        "- LAS is designed to handle long input sequences and is robust to noisy speech signals.\n",
        "- LAS is known for its high accuracy and ability to improve over time with additional training data.\n",
        "- It consists of an <b>listener, an attender and a speller</b>, which work together to convert an input speech signal into a corresponding output text.\n",
        "\n",
        "#### The Dataflow:\n",
        "<center>\n",
        "<img src=\"https://github.com/varunjain3/11785_s23_h4p2/raw/main/DataFlow.png\" alt=\"data flow\" height=\"100\">\n",
        "</center>\n",
        "\n",
        "#### The Listener: \n",
        "- converts the input speech signal into a sequence of hidden states.\n",
        "\n",
        "#### The Attender:\n",
        "- Decides how the sequence of Encoder hidden state is propogated to decoder.\n",
        "\n",
        "#### The Speller:\n",
        "- A language model, that incorporates the \"context of attender\"(output of attender) to predict sequence of words.\n",
        "\n",
        "\n",
        "\n",
        "\n"
      ],
      "metadata": {
        "id": "M8q9wt4TwzPt"
      }
    },
    {
      "cell_type": "markdown",
      "source": [
        "## The Listener:"
      ],
      "metadata": {
        "id": "aPL08W_Z3R18"
      }
    },
    {
      "cell_type": "markdown",
      "source": [
        "Psuedocode:\n",
        "```python\n",
        "class Listner:\n",
        "  def init():\n",
        "    feature_embedder = #Few layers of 1DConv-batchnorm-activation (Don't overdo)\n",
        "    pblstm_encoder = #Cascaded pblstm layers (Take pblstm from #HW3P2), \n",
        "    #can add more sequential lstms \n",
        "    dropout = #As per your liking\n",
        "\n",
        "  def forward(x,lx):\n",
        "    embedding = feature_embedder(x) #optional\n",
        "    encoding, encoding_len = pblstm_encoder(embedding/x,lx)\n",
        "    #Regularization if needed\n",
        "    return encoding, encoding_len\n",
        "```\n",
        "\n"
      ],
      "metadata": {
        "id": "_ewKlVQF3edC"
      }
    },
    {
      "cell_type": "code",
      "source": [
        "from torch import nn"
      ],
      "metadata": {
        "id": "znzCBVv5Y8s8"
      },
      "execution_count": 26,
      "outputs": []
    },
    {
      "cell_type": "code",
      "source": [
        "class Listener(torch.nn.Module):\n",
        "    def __init__(self, input_size, encoder_hidden_size, expand_dims = [128, 256], dropout_rate = 0.4):\n",
        "        super().__init__()\n",
        "        self.expand_dim = expand_dims\n",
        "                    \n",
        "        self.embedding = torch.nn.Sequential(\n",
        "            PermuteBlock(), \n",
        "            nn.Conv1d(in_channels= input_size, out_channels = self.expand_dim[0], kernel_size = 3, stride = 1, padding = 1),\n",
        "            nn.BatchNorm1d(num_features =self.expand_dim[0]),\n",
        "            nn.GELU(),\n",
        "            nn.Conv1d(in_channels= self.expand_dim[0], out_channels = self.expand_dim[1], kernel_size = 3, stride = 1, padding = 1),\n",
        "            nn.BatchNorm1d(num_features =self.expand_dim[1]),\n",
        "            PermuteBlock())\n",
        "        self.pBLSTMs = torch.nn.Sequential(\n",
        "                # Hint: You are downsampling timesteps by a factor of 2, upsampling features by a factor of 2 and the LSTM is bidirectional)\n",
        "                # Optional: Dropout/Locked Dropout after each pBLSTM \n",
        "                pBLSTM(input_size = self.expand_dim[1], hidden_size = encoder_hidden_size),\n",
        "                PackLockedDropout(dropout_rate),\n",
        "                pBLSTM(input_size =  2*encoder_hidden_size, hidden_size = encoder_hidden_size),\n",
        "                \n",
        "                PackLockedDropout(dropout_rate)\n",
        "            )\n",
        "      \n",
        "        \n",
        "         \n",
        "    def forward(self, x, x_lens):\n",
        "        # Where are x and x_lens coming from? The dataloader\n",
        "        #TODO: Call the embedding layer\n",
        "        x = self.embedding(x)      \n",
        "        # TODO: Pack Padded Sequence\n",
        "        # TODO: Pass Sequence through the pyramidal Bi-LSTM layer\n",
        "        # TODO: Pad Packed Sequence\n",
        "\n",
        "        clamped_lx = x_lens.clamp(max=x.shape[1]) # to match the embedding\n",
        "\n",
        "        x = pack_padded_sequence(x,clamped_lx, batch_first = True, enforce_sorted= False)\n",
        "        \n",
        "        x = self.pBLSTMs(x)\n",
        "        \n",
        "        encoder_outputs, encoder_lens = pad_packed_sequence(x, batch_first = True)\n",
        "        \n",
        "\n",
        "        return encoder_outputs, encoder_lens\n",
        "  \n"
      ],
      "metadata": {
        "id": "jTQHiB1jvM6_"
      },
      "execution_count": 64,
      "outputs": []
    },
    {
      "cell_type": "markdown",
      "source": [
        "## Attention\n",
        "\n",
        "### Different ways to compute Attention\n",
        "\n",
        "1. Dot-product attention\n",
        "    * raw_weights = bmm(key, query) \n",
        "    * Optional: Scaled dot-product by normalizing with sqrt key dimension \n",
        "    * Check \"Attention is All You Need\" Section 3.2.1\n",
        "    * 1st way is what most TAs are comfortable with, but if you want to explore, check out other methods below\n",
        "\n",
        "\n",
        "2. Cosine attention\n",
        "    * raw_weights = cosine(query, key) # almost the same as dot-product xD \n",
        "\n",
        "3. Bi-linear attention\n",
        "    * W = Linear transformation (learnable parameter): d_k -> d_q\n",
        "    * raw_weights = bmm(key @ W, query)\n",
        "\n",
        "4. Multi-layer perceptron\n",
        "    * Check \"Neural Machine Translation and Sequence-to-sequence Models: A Tutorial\" Section 8.4\n",
        "\n",
        "5. Multi-Head Attention\n",
        "    * Check \"Attention is All You Need\" Section 3.2.2\n",
        "    * h = Number of heads\n",
        "    * W_Q, W_K, W_V: Weight matrix for Q, K, V (h of them in total)\n",
        "    * W_O: d_v -> d_v\n",
        "    * Reshape K: (B, T, d_k) to (B, T, h, d_k // h) and transpose to (B, h, T, d_k // h)\n",
        "    * Reshape V: (B, T, d_v) to (B, T, h, d_v // h) and transpose to (B, h, T, d_v // h)\n",
        "    * Reshape Q: (B, d_q) to (B, h, d_q // h) `\n",
        "    * raw_weights = Q @ K^T\n",
        "    * masked_raw_weights = mask(raw_weights)\n",
        "    * attention = softmax(masked_raw_weights)\n",
        "    * multi_head = attention @ V\n",
        "    * multi_head = multi_head reshaped to (B, d_v)\n",
        "    * context = multi_head @ W_O"
      ],
      "metadata": {
        "id": "5fG9jDZBVklL"
      }
    },
    {
      "cell_type": "markdown",
      "source": [
        "Pseudocode:\n",
        "\n",
        "```python\n",
        "class Attention:\n",
        "    '''\n",
        "    Attention is calculated using the key, value (from encoder embeddings) and query from decoder.\n",
        "\n",
        "    After obtaining the raw weights, compute and return attention weights and context as follows.:\n",
        "\n",
        "    attention_weights   = softmax(raw_weights)\n",
        "    attention_context   = einsum(\"thinkwhatwouldbetheequationhere\",attention, value) #take hint from raw_weights calculation\n",
        "\n",
        "    At the end, you can pass context through a linear layer too.\n",
        "    '''\n",
        "\n",
        "    def init(listener_hidden_size,\n",
        "              speller_hidden_size,\n",
        "              projection_size):\n",
        "\n",
        "        VW = Linear(listener_hidden_size,projection_size)\n",
        "        KW = Linear(listener_hidden_size,projection_size)\n",
        "        QW = Linear(speller_hidden_size,projection_size)\n",
        "\n",
        "    def set_key_value(encoder_outputs):\n",
        "        '''\n",
        "        In this function we take the encoder embeddings and make key and values from it.\n",
        "        key.shape   = (batch_size, timesteps, projection_size)\n",
        "        value.shape = (batch_size, timesteps, projection_size)\n",
        "        '''\n",
        "        key = KW(encoder_outputs)\n",
        "        value = VW(encoder_outputs)\n",
        "      \n",
        "    def compute_context(decoder_context):\n",
        "        '''\n",
        "        In this function from decoder context, we make the query, and then we\n",
        "         multiply the queries with the keys to find the attention logits, \n",
        "         finally we take a softmax to calculate attention energy which gets \n",
        "         multiplied to the generted values and then gets summed.\n",
        "\n",
        "        key.shape   = (batch_size, timesteps, projection_size)\n",
        "        value.shape = (batch_size, timesteps, projection_size)\n",
        "        query.shape = (batch_size, projection_size)\n",
        "\n",
        "        You are also recomended to check out Abu's Lecture 19 to understand Attention better.\n",
        "        '''\n",
        "        query = QW(decoder_context) #(batch_size, projection_size)\n",
        "\n",
        "        raw_weights = #using bmm or einsum. We need to perform batch matrix multiplication. It is important you do this step correctly.\n",
        "        #What will be the shape of raw_weights?\n",
        "\n",
        "        attention_weights = #What makes raw_weights -> attention_weights\n",
        "\n",
        "        attention_context = #Multiply attention weights to values\n",
        "\n",
        "        return attention_context, attention_weights \n",
        "```"
      ],
      "metadata": {
        "id": "QyO03fO5VotY"
      }
    },
    {
      "cell_type": "code",
      "source": [
        "class Attention(torch.nn.Module):\n",
        "  def __init__(self, listener_hidden_size, speller_hidden_size, projection_size):\n",
        "    super().__init__()\n",
        "    self.VW = torch.nn.Linear(listener_hidden_size,projection_size)\n",
        "    self.KW = torch.nn.Linear(listener_hidden_size,projection_size)\n",
        "    self.QW = torch.nn.Linear(speller_hidden_size,projection_size)\n",
        "    self.projection_size = projection_size\n",
        "  \n",
        "  def set_key_value(self, encoder_outputs):\n",
        "    '''\n",
        "    In this function we take the encoder embeddings and make key and values from it.\n",
        "    key.shape   = (batch_size, timesteps, projection_size)\n",
        "    value.shape = (batch_size, timesteps, projection_size)\n",
        "    '''\n",
        "    self.key = self.KW(encoder_outputs)\n",
        "    self.value = self.VW(encoder_outputs)\n",
        "\n",
        "  def compute_context(self, decoder_context):\n",
        "    '''\n",
        "    In this function from decoder context, we make the query, and then we\n",
        "      multiply the queries with the keys to find the attention logits, \n",
        "      finally we take a softmax to calculate attention energy which gets \n",
        "      multiplied to the generted values and then gets summed.\n",
        "\n",
        "    key.shape   = (batch_size, timesteps, projection_size)\n",
        "    value.shape = (batch_size, timesteps, projection_size)\n",
        "    query.shape = (batch_size, projection_size)\n",
        "\n",
        "    You are also recomended to check out Abu's Lecture 19 to understand Attention better.\n",
        "    '''\n",
        "    query = self.QW(decoder_context).unsqueeze(dim =1) #(batch_size, projection_size)\n",
        "    query_length = self.projection_size\n",
        "    # print(query.shape)\n",
        "    \n",
        "    raw_weights = (1/np.sqrt(query_length))*torch.bmm(query, self.key.transpose(2,1))  #(batch_size, projection_size, time_step)\n",
        "    #using bmm or einsum. We need to perform batch matrix multiplication. It is important you do this step correctly.\n",
        "    #What will be the shape of raw_weights?\n",
        "    # print('raw_weights',raw_weights.shape)\n",
        "    attention_weights = torch.nn.functional.softmax(raw_weights, dim = 2) #What makes raw_weights -> attention_weights\n",
        "    # print('attention_weights',attention_weights.shape)\n",
        "    #(batch_size, time_step)\n",
        "\n",
        "    attention_context = torch.bmm(attention_weights, self.value) #Multiply attention weights to values\n",
        "    #(batch_size, projection_size)\n",
        "\n",
        "    return attention_context, attention_weights "
      ],
      "metadata": {
        "id": "771TXxn7ViOW"
      },
      "execution_count": 28,
      "outputs": []
    },
    {
      "cell_type": "markdown",
      "source": [
        "## The Speller\n",
        "\n",
        "Similar to the language model that you coded up for HW4P1, you have to code a language model for HW4P2 as well. This time, we will also call the attention context step, within the decoder to get the attended-encoder-embeddings.\n",
        "\n",
        "\n",
        "What you have coded till now:\n",
        "\n",
        "<center>\n",
        "<img src=\"https://github.com/varunjain3/11785_s23_h4p2/raw/main/EncoderAttention.png\" alt=\"data flow\" height=\"400\">\n",
        "</center>\n",
        "\n",
        "For the Speller, what we have to code:\n",
        "\n",
        "\n",
        "<center>\n",
        "<img src=\"https://github.com/varunjain3/11785_s23_h4p2/raw/main/Decoder.png\" alt=\"data flow\" height=\"400\">\n",
        "</center>"
      ],
      "metadata": {
        "id": "4Sp1WywZmm1L"
      }
    },
    {
      "cell_type": "code",
      "source": [],
      "metadata": {
        "id": "K3QbIGuUd80e"
      },
      "execution_count": 28,
      "outputs": []
    },
    {
      "cell_type": "code",
      "source": [
        "class LockedDropout(torch.nn.Module):\n",
        "\n",
        "    def __init__(self, drop_prob = 0.1):\n",
        "        super(LockedDropout, self).__init__()\n",
        "        self.prob = drop_prob\n",
        "\n",
        "    def forward(self, x):\n",
        "\n",
        "        if not self.training or not self.prob:\n",
        "            return x\n",
        "        \n",
        "        mask = x.new_empty(x.size(0), 1, requires_grad=False).bernoulli_(1 - self.prob)\n",
        "        mask = mask/(1 - self.prob)\n",
        "        mask = mask.expand_as(x)\n",
        "\n",
        "        out = x * mask\n",
        "        return out\n"
      ],
      "metadata": {
        "id": "wKTmCWB6KeMX"
      },
      "execution_count": 65,
      "outputs": []
    },
    {
      "cell_type": "code",
      "source": [
        "def embedding_dropout(embed, x, drop_prob=0.05):\n",
        "\n",
        "    mask = embed.weight.data.new_empty(embed.weight.size(0),1).bernoulli_(1 - drop_prob)\n",
        "    mask = mask/(1 - drop_prob)\n",
        "    mask = mask.expand_as(embed.weight)\n",
        "\n",
        "    masked_weight = mask*embed.weight\n",
        "\n",
        "    x = torch.nn.functional.embedding(x, masked_weight)\n",
        "  \n",
        "    return x"
      ],
      "metadata": {
        "id": "rDsUvO_Hd_Wr"
      },
      "execution_count": 66,
      "outputs": []
    },
    {
      "cell_type": "code",
      "source": [
        "class Speller(torch.nn.Module):\n",
        "\n",
        "  # Refer to your HW4P1 implementation for help with setting up the language model.\n",
        "  # The only thing you need to implement on top of your HW4P1 model is the attention module and teacher forcing.\n",
        "\n",
        "  def __init__(self, attender:Attention, vocab_size, embed_dim, hid_dim, projection_size):\n",
        "    super(). __init__()\n",
        "\n",
        "    self.attend = attender # Attention object in speller\n",
        "    self.projection_size = projection_size\n",
        "    self.max_timesteps = 550 # Max timesteps\n",
        "     \n",
        "\n",
        "    self.lockeddropout = LockedDropout()\n",
        "\n",
        "    self.embed_dim = embed_dim\n",
        "    self.hid_dim = hid_dim\n",
        "\n",
        "    self.embedding =  torch.nn.Embedding(num_embeddings= vocab_size, \n",
        "                                         embedding_dim = embed_dim)# Embedding layer to convert token to latent space\n",
        "    self.lstm_cells =  self.lstm_cells         = torch.nn.Sequential(\n",
        "        torch.nn.LSTMCell(input_size = embed_dim + projection_size, hidden_size = hid_dim), \n",
        "        torch.nn.LSTMCell(input_size = hid_dim, hidden_size = hid_dim)\n",
        "    )\n",
        "    # For CDN (Feel free to change)\n",
        "    self.output_to_char = torch.nn.Linear(hid_dim+projection_size, embed_dim)\n",
        "    # Linear module to convert outputs to correct hidden size (Optional: TO make dimensions match)\n",
        "    # self.activation = torch.nn.Softmax(dim = 1)# Check which activation is suggested\n",
        "    self.char_prob = torch.nn.Linear(embed_dim, vocab_size)# Linear layer to convert hidden space back to logits for token classification\n",
        "    self.char_prob.weight = self.embedding.weight# Weight tying (From embedding layer)\n",
        "\n",
        "\n",
        "  def lstm_step(self, input_word, hidden_state):\n",
        "\n",
        "    for i in range(len(self.lstm_cells)):\n",
        "        # TODO: Forward pass through each LSTMCell\n",
        "        \n",
        "        hx, cx = self.lstm_cells[i](input_word, hidden_state[-1])\n",
        "        hidden_state[i]=(hx,cx)\n",
        "        # embedding = hx\n",
        "        input_word = self.lockeddropout(hx)\n",
        "  \n",
        "    return input_word, hidden_state # What information does forward() need?\n",
        "\n",
        "    \n",
        "  def CDN(self,concated_states):\n",
        "    # Make the CDN here, you can add the output-to-char\n",
        "    # (batch, embed_dim)\n",
        "    # concated_states = torch.cat([hidden, context], dim = 1)\n",
        "    char = self.output_to_char(concated_states)\n",
        "    prob = torch.nn.functional.tanh(char)\n",
        "    prob_list = self.char_prob(prob)\n",
        "    # prob_list = torch.nn.functional.softmax(prob, dim = 1)\n",
        "    \n",
        "\n",
        "    return prob_list\n",
        "    \n",
        "  def forward (self, batch_size, y=None, teacher_forcing_ratio=1, hidden_states_list = None):\n",
        "\n",
        "\n",
        "    attn_context = torch.zeros((batch_size,self.projection_size)).to(DEVICE)# initial context tensor for time t = 0\n",
        "    # SOS_TOKEN = 'SOS'\n",
        "    output_symbol = torch.LongTensor([SOS_TOKEN]*batch_size).to(DEVICE) # Set it to SOS for time t = 0\n",
        "    raw_outputs = []  \n",
        "    attention_plot = []\n",
        "      \n",
        "    if y is None: # in the testing process, no label\n",
        "    #   print('inference')\n",
        "      timesteps = self.max_timesteps\n",
        "      teacher_forcing_ratio = 0 #Why does it become zero?\n",
        "\n",
        "    else:\n",
        "      timesteps = y.shape[1] # How many timesteps are we predicting for?\n",
        "\n",
        "    hidden_states_list = [None]*len(self.lstm_cells) if hidden_states_list == None else hidden_states_list\n",
        "    # Initialize your hidden_states list here similar to HW4P1\n",
        "\n",
        "    for t in range(timesteps):\n",
        "      p = np.random.uniform(0.01,1)# generate a probability p between 0 and 1\n",
        "    #   print(p)\n",
        "\n",
        "      if p < teacher_forcing_ratio and t > 0: # Why do we consider cases only when t > 0? What is considered when t == 0? Pass 'sos'\n",
        "        # print('y', y.shape)\n",
        "        output_symbol = y[:,t-1] # Take from y, else draw from probability distribution(last sequence predicted)\n",
        "    #   else:\n",
        "    #     output_symbol = output_symbol\n",
        "      \n",
        "\n",
        "      char_embed = self.embedding(output_symbol).to(DEVICE) # Embed the character symbol\n",
        "    #   print('output_symbel',output_symbol.shape)\n",
        "    #   print('char_embed',char_embed.shape)\n",
        "    #   print('attn_contect',attn_context.shape)\n",
        "\n",
        "      # Concatenate the character embedding and context from attention, as shown in the diagram\n",
        "      lstm_input = torch.concat([char_embed, attn_context], dim = 1)\n",
        "\n",
        "      lstm_out, hidden_states_list = self.lstm_step(lstm_input, hidden_states_list) # Feed the input through LSTM Cells and attention.\n",
        "      # What should we retrieve from forward_step to prepare for the next timestep?\n",
        "\n",
        "      attn_context, attn_weights = self.attend.compute_context(lstm_out) # Feed the resulting hidden state into attention\n",
        "\n",
        "      attn_context = attn_context.squeeze(dim = 1)\n",
        "\n",
        "    #   print(lstm_out.shape)\n",
        "    #   print(attn_context.shape)\n",
        "\n",
        "      cdn_input = torch.concat([lstm_out, attn_context], dim =1)\n",
        "      # TODO: You need to concatenate the context from the attention module with the LSTM output hidden state, as shown in the diagram\n",
        "\n",
        "      raw_pred = self.CDN(cdn_input) # call CDN with cdn_input\n",
        "    #   print('raw pred', raw_pred.shape)\n",
        "\n",
        "      # Generate a prediction for this timestep and collect it in output_symbols\n",
        "      output_symbol = torch.argmax(raw_pred, dim = 1)# Draw correctly from raw_pred\n",
        "      \n",
        "    #   print('predicted symbol', output_symbol)\n",
        "      \n",
        "\n",
        "      raw_outputs.append(raw_pred) # for loss calculation\n",
        "      attention_plot.append(attn_weights) # for plotting attention plot\n",
        "    # print('weight',attn_weights.shape)\n",
        "\n",
        "    # print(attention_plot.shape)\n",
        "    attention_plot = torch.stack(attention_plot, dim=1)\n",
        "    # print(attention_plot.shape)\n",
        "    raw_outputs = torch.stack(raw_outputs, dim=1)\n",
        "\n",
        "    return raw_outputs, attention_plot"
      ],
      "metadata": {
        "id": "nFkc6MbnlUPu"
      },
      "execution_count": 67,
      "outputs": []
    },
    {
      "cell_type": "markdown",
      "source": [
        "## LAS"
      ],
      "metadata": {
        "id": "bgOQlDRI-E4z"
      }
    },
    {
      "cell_type": "markdown",
      "source": [
        "Here we finally build the LAS model, comibining the listener, attender and speller together, we have given a template, but you are free to read the paper and implement it yourself."
      ],
      "metadata": {
        "id": "ZuAjQFlTBVED"
      }
    },
    {
      "cell_type": "code",
      "source": [
        "class LAS(torch.nn.Module):\n",
        "  def __init__(self, listener_embed_dims, listener_hid_size, speller_hid_size, projection_size, \n",
        "               vocab_size, speller_embed_dim): # add parameters\n",
        "    super().__init__()\n",
        "\n",
        "    # Pass the right parameters here\n",
        "    self.listener = Listener(27, listener_hid_size, expand_dims = listener_embed_dims).to(DEVICE)\n",
        "    self.attend = Attention(2*listener_hid_size, speller_hid_size, projection_size).to(DEVICE)\n",
        "    self.speller = Speller(self.attend, vocab_size, speller_embed_dim, speller_hid_size, projection_size).to(DEVICE)\n",
        "\n",
        "  def forward(self, x,lx,y=None,teacher_forcing_ratio=1):\n",
        "    # Encode speech features\n",
        "    encoder_outputs, _ = self.listener(x,lx)\n",
        "    batch_size = x.shape[0] # for initialize attention context when doing inference\n",
        "\n",
        "    # We want to compute keys and values ahead of the decoding step, as they are constant for all timesteps\n",
        "    # Set keys and values using the encoder outputs\n",
        "    self.attend.set_key_value(encoder_outputs)\n",
        "\n",
        "    # Decode text with the speller using context from the attention\n",
        "    raw_outputs, attention_plots = self.speller(batch_size, y=y, teacher_forcing_ratio=teacher_forcing_ratio)\n",
        "\n",
        "    return raw_outputs, attention_plots"
      ],
      "metadata": {
        "id": "scvB2cI-OSof"
      },
      "execution_count": 68,
      "outputs": []
    },
    {
      "cell_type": "markdown",
      "source": [
        "# Model Setup "
      ],
      "metadata": {
        "id": "bPZD3vqdUisj"
      }
    },
    {
      "cell_type": "code",
      "source": [
        "DEVICE = \"cuda\" if torch.cuda.is_available() else \"cpu\""
      ],
      "metadata": {
        "id": "-k3b8f0LWv4j"
      },
      "execution_count": 33,
      "outputs": []
    },
    {
      "cell_type": "code",
      "source": [
        "from torchsummaryX import summary"
      ],
      "metadata": {
        "id": "WwyeS7cQW3gn"
      },
      "execution_count": 34,
      "outputs": []
    },
    {
      "cell_type": "code",
      "source": [
        "# Baseline LAS has the following configuration:\n",
        "# Encoder bLSTM/pbLSTM Hidden Dimension of 512 (256 per direction)\n",
        "# Decoder Embedding Layer Dimension of 256\n",
        "# Decoder Hidden Dimension of 512 \n",
        "# Attention Projection Size of 128\n",
        "# Feel Free to Experiment with this \n",
        "\n",
        "model = LAS(\n",
        "    # Initialize your model \n",
        "    # Read the paper and think about what dimensions should be used\n",
        "    # You can experiment on these as well, but they are not requried for the early submission\n",
        "    # Remember that if you are using weight tying, some sizes need to be the same\n",
        "    listener_embed_dims = [256, 512],\n",
        "    listener_hid_size = 512, speller_hid_size =512, projection_size = 256, \n",
        "    vocab_size = len(VOCAB_MAP), speller_embed_dim = 512\n",
        ")\n",
        "\n",
        "model = model.to(DEVICE)\n",
        "print(model)\n",
        "\n",
        "summary(model, \n",
        "        x.to(DEVICE),\n",
        "        x_len, \n",
        "        y.to(DEVICE))"
      ],
      "metadata": {
        "id": "a9LN0l5VUk_s",
        "colab": {
          "base_uri": "https://localhost:8080/",
          "height": 1000
        },
        "outputId": "b59e19c3-4949-4b8e-9315-eb393a396949"
      },
      "execution_count": 69,
      "outputs": [
        {
          "output_type": "stream",
          "name": "stderr",
          "text": [
            "/usr/local/lib/python3.9/dist-packages/torch/nn/modules/rnn.py:71: UserWarning: dropout option adds dropout after all but last recurrent layer, so non-zero dropout expects num_layers greater than 1, but got dropout=0.1 and num_layers=1\n",
            "  warnings.warn(\"dropout option adds dropout after all but last \"\n"
          ]
        },
        {
          "output_type": "stream",
          "name": "stdout",
          "text": [
            "LAS(\n",
            "  (listener): Listener(\n",
            "    (embedding): Sequential(\n",
            "      (0): PermuteBlock()\n",
            "      (1): Conv1d(27, 256, kernel_size=(3,), stride=(1,), padding=(1,))\n",
            "      (2): BatchNorm1d(256, eps=1e-05, momentum=0.1, affine=True, track_running_stats=True)\n",
            "      (3): GELU(approximate='none')\n",
            "      (4): Conv1d(256, 512, kernel_size=(3,), stride=(1,), padding=(1,))\n",
            "      (5): BatchNorm1d(512, eps=1e-05, momentum=0.1, affine=True, track_running_stats=True)\n",
            "      (6): PermuteBlock()\n",
            "    )\n",
            "    (pBLSTMs): Sequential(\n",
            "      (0): pBLSTM(\n",
            "        (blstm): LSTM(1024, 512, batch_first=True, dropout=0.1, bidirectional=True)\n",
            "      )\n",
            "      (1): PackLockedDropout()\n",
            "      (2): pBLSTM(\n",
            "        (blstm): LSTM(2048, 512, batch_first=True, dropout=0.1, bidirectional=True)\n",
            "      )\n",
            "      (3): PackLockedDropout()\n",
            "    )\n",
            "  )\n",
            "  (attend): Attention(\n",
            "    (VW): Linear(in_features=1024, out_features=256, bias=True)\n",
            "    (KW): Linear(in_features=1024, out_features=256, bias=True)\n",
            "    (QW): Linear(in_features=512, out_features=256, bias=True)\n",
            "  )\n",
            "  (speller): Speller(\n",
            "    (attend): Attention(\n",
            "      (VW): Linear(in_features=1024, out_features=256, bias=True)\n",
            "      (KW): Linear(in_features=1024, out_features=256, bias=True)\n",
            "      (QW): Linear(in_features=512, out_features=256, bias=True)\n",
            "    )\n",
            "    (lockeddropout): LockedDropout()\n",
            "    (embedding): Embedding(31, 512)\n",
            "    (lstm_cells): Sequential(\n",
            "      (0): LSTMCell(768, 512)\n",
            "      (1): LSTMCell(512, 512)\n",
            "    )\n",
            "    (output_to_char): Linear(in_features=768, out_features=512, bias=True)\n",
            "    (char_prob): Linear(in_features=512, out_features=31, bias=True)\n",
            "  )\n",
            ")\n"
          ]
        },
        {
          "output_type": "stream",
          "name": "stderr",
          "text": [
            "/usr/local/lib/python3.9/dist-packages/torchsummaryX/torchsummaryX.py:101: FutureWarning: Dropping of nuisance columns in DataFrame reductions (with 'numeric_only=None') is deprecated; in a future version this will raise TypeError.  Select only valid columns before calling the reduction.\n",
            "  df_sum = df.sum()\n"
          ]
        },
        {
          "output_type": "stream",
          "name": "stdout",
          "text": [
            "===================================================================================================\n",
            "                                           Kernel Shape      Output Shape  \\\n",
            "Layer                                                                       \n",
            "0_listener.embedding.PermuteBlock_0                   -   [128, 27, 2936]   \n",
            "1_listener.embedding.Conv1d_1              [27, 256, 3]  [128, 256, 2936]   \n",
            "2_listener.embedding.BatchNorm1d_2                [256]  [128, 256, 2936]   \n",
            "3_listener.embedding.GELU_3                           -  [128, 256, 2936]   \n",
            "4_listener.embedding.Conv1d_4             [256, 512, 3]  [128, 512, 2936]   \n",
            "...                                                 ...               ...   \n",
            "3286_speller.LockedDropout_lockeddropout              -        [128, 512]   \n",
            "3287_speller.attend.Linear_QW                [512, 256]        [128, 256]   \n",
            "3288_speller.attend.Linear_QW                [512, 256]        [128, 256]   \n",
            "3289_speller.Linear_output_to_char           [768, 512]        [128, 512]   \n",
            "3290_speller.Linear_char_prob                 [512, 31]         [128, 31]   \n",
            "\n",
            "                                            Params     Mult-Adds  \n",
            "Layer                                                             \n",
            "0_listener.embedding.PermuteBlock_0              -             -  \n",
            "1_listener.embedding.Conv1d_1              20.992k    60.880896M  \n",
            "2_listener.embedding.BatchNorm1d_2           512.0         256.0  \n",
            "3_listener.embedding.GELU_3                      -             -  \n",
            "4_listener.embedding.Conv1d_4             393.728k  1.154482176G  \n",
            "...                                            ...           ...  \n",
            "3286_speller.LockedDropout_lockeddropout         -             -  \n",
            "3287_speller.attend.Linear_QW                    -      131.072k  \n",
            "3288_speller.attend.Linear_QW                    -      131.072k  \n",
            "3289_speller.Linear_output_to_char               -      393.216k  \n",
            "3290_speller.Linear_char_prob                    -       15.872k  \n",
            "\n",
            "[3291 rows x 4 columns]\n",
            "---------------------------------------------------------------------------------------------------\n",
            "                            Totals\n",
            "Total params            23.018271M\n",
            "Trainable params        23.018271M\n",
            "Non-trainable params           0.0\n",
            "Mult-Adds             3.200862976G\n",
            "===================================================================================================\n"
          ]
        },
        {
          "output_type": "execute_result",
          "data": {
            "text/plain": [
              "                                           Kernel Shape      Output Shape  \\\n",
              "Layer                                                                       \n",
              "0_listener.embedding.PermuteBlock_0                   -   [128, 27, 2936]   \n",
              "1_listener.embedding.Conv1d_1              [27, 256, 3]  [128, 256, 2936]   \n",
              "2_listener.embedding.BatchNorm1d_2                [256]  [128, 256, 2936]   \n",
              "3_listener.embedding.GELU_3                           -  [128, 256, 2936]   \n",
              "4_listener.embedding.Conv1d_4             [256, 512, 3]  [128, 512, 2936]   \n",
              "...                                                 ...               ...   \n",
              "3286_speller.LockedDropout_lockeddropout              -        [128, 512]   \n",
              "3287_speller.attend.Linear_QW                [512, 256]        [128, 256]   \n",
              "3288_speller.attend.Linear_QW                [512, 256]        [128, 256]   \n",
              "3289_speller.Linear_output_to_char           [768, 512]        [128, 512]   \n",
              "3290_speller.Linear_char_prob                 [512, 31]         [128, 31]   \n",
              "\n",
              "                                            Params     Mult-Adds  \n",
              "Layer                                                             \n",
              "0_listener.embedding.PermuteBlock_0            NaN           NaN  \n",
              "1_listener.embedding.Conv1d_1              20992.0  6.088090e+07  \n",
              "2_listener.embedding.BatchNorm1d_2           512.0  2.560000e+02  \n",
              "3_listener.embedding.GELU_3                    NaN           NaN  \n",
              "4_listener.embedding.Conv1d_4             393728.0  1.154482e+09  \n",
              "...                                            ...           ...  \n",
              "3286_speller.LockedDropout_lockeddropout       NaN           NaN  \n",
              "3287_speller.attend.Linear_QW                  NaN  1.310720e+05  \n",
              "3288_speller.attend.Linear_QW                  NaN  1.310720e+05  \n",
              "3289_speller.Linear_output_to_char             NaN  3.932160e+05  \n",
              "3290_speller.Linear_char_prob                  NaN  1.587200e+04  \n",
              "\n",
              "[3291 rows x 4 columns]"
            ],
            "text/html": [
              "\n",
              "  <div id=\"df-b1ca91c3-55f0-4aec-ab7e-a1b4068eb030\">\n",
              "    <div class=\"colab-df-container\">\n",
              "      <div>\n",
              "<style scoped>\n",
              "    .dataframe tbody tr th:only-of-type {\n",
              "        vertical-align: middle;\n",
              "    }\n",
              "\n",
              "    .dataframe tbody tr th {\n",
              "        vertical-align: top;\n",
              "    }\n",
              "\n",
              "    .dataframe thead th {\n",
              "        text-align: right;\n",
              "    }\n",
              "</style>\n",
              "<table border=\"1\" class=\"dataframe\">\n",
              "  <thead>\n",
              "    <tr style=\"text-align: right;\">\n",
              "      <th></th>\n",
              "      <th>Kernel Shape</th>\n",
              "      <th>Output Shape</th>\n",
              "      <th>Params</th>\n",
              "      <th>Mult-Adds</th>\n",
              "    </tr>\n",
              "    <tr>\n",
              "      <th>Layer</th>\n",
              "      <th></th>\n",
              "      <th></th>\n",
              "      <th></th>\n",
              "      <th></th>\n",
              "    </tr>\n",
              "  </thead>\n",
              "  <tbody>\n",
              "    <tr>\n",
              "      <th>0_listener.embedding.PermuteBlock_0</th>\n",
              "      <td>-</td>\n",
              "      <td>[128, 27, 2936]</td>\n",
              "      <td>NaN</td>\n",
              "      <td>NaN</td>\n",
              "    </tr>\n",
              "    <tr>\n",
              "      <th>1_listener.embedding.Conv1d_1</th>\n",
              "      <td>[27, 256, 3]</td>\n",
              "      <td>[128, 256, 2936]</td>\n",
              "      <td>20992.0</td>\n",
              "      <td>6.088090e+07</td>\n",
              "    </tr>\n",
              "    <tr>\n",
              "      <th>2_listener.embedding.BatchNorm1d_2</th>\n",
              "      <td>[256]</td>\n",
              "      <td>[128, 256, 2936]</td>\n",
              "      <td>512.0</td>\n",
              "      <td>2.560000e+02</td>\n",
              "    </tr>\n",
              "    <tr>\n",
              "      <th>3_listener.embedding.GELU_3</th>\n",
              "      <td>-</td>\n",
              "      <td>[128, 256, 2936]</td>\n",
              "      <td>NaN</td>\n",
              "      <td>NaN</td>\n",
              "    </tr>\n",
              "    <tr>\n",
              "      <th>4_listener.embedding.Conv1d_4</th>\n",
              "      <td>[256, 512, 3]</td>\n",
              "      <td>[128, 512, 2936]</td>\n",
              "      <td>393728.0</td>\n",
              "      <td>1.154482e+09</td>\n",
              "    </tr>\n",
              "    <tr>\n",
              "      <th>...</th>\n",
              "      <td>...</td>\n",
              "      <td>...</td>\n",
              "      <td>...</td>\n",
              "      <td>...</td>\n",
              "    </tr>\n",
              "    <tr>\n",
              "      <th>3286_speller.LockedDropout_lockeddropout</th>\n",
              "      <td>-</td>\n",
              "      <td>[128, 512]</td>\n",
              "      <td>NaN</td>\n",
              "      <td>NaN</td>\n",
              "    </tr>\n",
              "    <tr>\n",
              "      <th>3287_speller.attend.Linear_QW</th>\n",
              "      <td>[512, 256]</td>\n",
              "      <td>[128, 256]</td>\n",
              "      <td>NaN</td>\n",
              "      <td>1.310720e+05</td>\n",
              "    </tr>\n",
              "    <tr>\n",
              "      <th>3288_speller.attend.Linear_QW</th>\n",
              "      <td>[512, 256]</td>\n",
              "      <td>[128, 256]</td>\n",
              "      <td>NaN</td>\n",
              "      <td>1.310720e+05</td>\n",
              "    </tr>\n",
              "    <tr>\n",
              "      <th>3289_speller.Linear_output_to_char</th>\n",
              "      <td>[768, 512]</td>\n",
              "      <td>[128, 512]</td>\n",
              "      <td>NaN</td>\n",
              "      <td>3.932160e+05</td>\n",
              "    </tr>\n",
              "    <tr>\n",
              "      <th>3290_speller.Linear_char_prob</th>\n",
              "      <td>[512, 31]</td>\n",
              "      <td>[128, 31]</td>\n",
              "      <td>NaN</td>\n",
              "      <td>1.587200e+04</td>\n",
              "    </tr>\n",
              "  </tbody>\n",
              "</table>\n",
              "<p>3291 rows × 4 columns</p>\n",
              "</div>\n",
              "      <button class=\"colab-df-convert\" onclick=\"convertToInteractive('df-b1ca91c3-55f0-4aec-ab7e-a1b4068eb030')\"\n",
              "              title=\"Convert this dataframe to an interactive table.\"\n",
              "              style=\"display:none;\">\n",
              "        \n",
              "  <svg xmlns=\"http://www.w3.org/2000/svg\" height=\"24px\"viewBox=\"0 0 24 24\"\n",
              "       width=\"24px\">\n",
              "    <path d=\"M0 0h24v24H0V0z\" fill=\"none\"/>\n",
              "    <path d=\"M18.56 5.44l.94 2.06.94-2.06 2.06-.94-2.06-.94-.94-2.06-.94 2.06-2.06.94zm-11 1L8.5 8.5l.94-2.06 2.06-.94-2.06-.94L8.5 2.5l-.94 2.06-2.06.94zm10 10l.94 2.06.94-2.06 2.06-.94-2.06-.94-.94-2.06-.94 2.06-2.06.94z\"/><path d=\"M17.41 7.96l-1.37-1.37c-.4-.4-.92-.59-1.43-.59-.52 0-1.04.2-1.43.59L10.3 9.45l-7.72 7.72c-.78.78-.78 2.05 0 2.83L4 21.41c.39.39.9.59 1.41.59.51 0 1.02-.2 1.41-.59l7.78-7.78 2.81-2.81c.8-.78.8-2.07 0-2.86zM5.41 20L4 18.59l7.72-7.72 1.47 1.35L5.41 20z\"/>\n",
              "  </svg>\n",
              "      </button>\n",
              "      \n",
              "  <style>\n",
              "    .colab-df-container {\n",
              "      display:flex;\n",
              "      flex-wrap:wrap;\n",
              "      gap: 12px;\n",
              "    }\n",
              "\n",
              "    .colab-df-convert {\n",
              "      background-color: #E8F0FE;\n",
              "      border: none;\n",
              "      border-radius: 50%;\n",
              "      cursor: pointer;\n",
              "      display: none;\n",
              "      fill: #1967D2;\n",
              "      height: 32px;\n",
              "      padding: 0 0 0 0;\n",
              "      width: 32px;\n",
              "    }\n",
              "\n",
              "    .colab-df-convert:hover {\n",
              "      background-color: #E2EBFA;\n",
              "      box-shadow: 0px 1px 2px rgba(60, 64, 67, 0.3), 0px 1px 3px 1px rgba(60, 64, 67, 0.15);\n",
              "      fill: #174EA6;\n",
              "    }\n",
              "\n",
              "    [theme=dark] .colab-df-convert {\n",
              "      background-color: #3B4455;\n",
              "      fill: #D2E3FC;\n",
              "    }\n",
              "\n",
              "    [theme=dark] .colab-df-convert:hover {\n",
              "      background-color: #434B5C;\n",
              "      box-shadow: 0px 1px 3px 1px rgba(0, 0, 0, 0.15);\n",
              "      filter: drop-shadow(0px 1px 2px rgba(0, 0, 0, 0.3));\n",
              "      fill: #FFFFFF;\n",
              "    }\n",
              "  </style>\n",
              "\n",
              "      <script>\n",
              "        const buttonEl =\n",
              "          document.querySelector('#df-b1ca91c3-55f0-4aec-ab7e-a1b4068eb030 button.colab-df-convert');\n",
              "        buttonEl.style.display =\n",
              "          google.colab.kernel.accessAllowed ? 'block' : 'none';\n",
              "\n",
              "        async function convertToInteractive(key) {\n",
              "          const element = document.querySelector('#df-b1ca91c3-55f0-4aec-ab7e-a1b4068eb030');\n",
              "          const dataTable =\n",
              "            await google.colab.kernel.invokeFunction('convertToInteractive',\n",
              "                                                     [key], {});\n",
              "          if (!dataTable) return;\n",
              "\n",
              "          const docLinkHtml = 'Like what you see? Visit the ' +\n",
              "            '<a target=\"_blank\" href=https://colab.research.google.com/notebooks/data_table.ipynb>data table notebook</a>'\n",
              "            + ' to learn more about interactive tables.';\n",
              "          element.innerHTML = '';\n",
              "          dataTable['output_type'] = 'display_data';\n",
              "          await google.colab.output.renderOutput(dataTable, element);\n",
              "          const docLink = document.createElement('div');\n",
              "          docLink.innerHTML = docLinkHtml;\n",
              "          element.appendChild(docLink);\n",
              "        }\n",
              "      </script>\n",
              "    </div>\n",
              "  </div>\n",
              "  "
            ]
          },
          "metadata": {},
          "execution_count": 69
        }
      ]
    },
    {
      "cell_type": "markdown",
      "source": [
        "# Loss Function, Optimizers, Scheduler"
      ],
      "metadata": {
        "id": "23DMfXsaU6kj"
      }
    },
    {
      "cell_type": "code",
      "source": [
        "import torch"
      ],
      "metadata": {
        "id": "HHZD3QiZYGwp"
      },
      "execution_count": 36,
      "outputs": []
    },
    {
      "cell_type": "code",
      "source": [
        "optimizer   = torch.optim.Adam(model.parameters(), lr= 1e-3) # Feel free to experiment if needed\n",
        "criterion   = torch.nn.CrossEntropyLoss(reduction='mean',ignore_index=VOCAB_MAP['<pad>']) #check how would you fill these values : https://pytorch.org/docs/stable/generated/torch.nn.CrossEntropyLoss.html\n",
        "# ignore the attention mask - pad\n",
        "scaler      = torch.cuda.amp.GradScaler()\n",
        "# scheduler   = torch.optim.lr_scheduler.ReduceLROnPlateau(optimizer, mode = 'min', patience = 3, threshold=1e-3)\n",
        "scheduler = torch.optim.lr_scheduler.CosineAnnealingLR(optimizer, T_max= 30, eta_min = 1e-4)\n",
        "# Optional (but Recommended): Create a custom class for a Teacher Force Schedule"
      ],
      "metadata": {
        "id": "216ukmHbU-ol"
      },
      "execution_count": 70,
      "outputs": []
    },
    {
      "cell_type": "markdown",
      "source": [
        "# Levenshtein Distance"
      ],
      "metadata": {
        "id": "ZWQnB8lUVY4f"
      }
    },
    {
      "cell_type": "code",
      "source": [
        "import Levenshtein"
      ],
      "metadata": {
        "id": "nHsM5QVOEigG"
      },
      "execution_count": 38,
      "outputs": []
    },
    {
      "cell_type": "code",
      "source": [
        "# We have given you this utility function which takes a sequence of indices and converts them to a list of characters\n",
        "def indices_to_chars(indices, vocab):\n",
        "    tokens = []\n",
        "    for i in indices: # This loops through all the indices\n",
        "        if int(i) == SOS_TOKEN: # If SOS is encountered, dont add it to the final list\n",
        "            continue\n",
        "        elif int(i) == EOS_TOKEN: # If EOS is encountered, stop the decoding process\n",
        "            break\n",
        "        else:\n",
        "            # print(i)\n",
        "            tokens.append(vocab[int(i)])\n",
        "    return tokens\n",
        "\n",
        "# To make your life more easier, we have given the Levenshtein distantce / Edit distance calculation code\n",
        "def calc_edit_distance(predictions, y, ly, vocab= VOCAB, print_example= False):\n",
        "\n",
        "    dist                = 0\n",
        "    batch_size, seq_len = predictions.shape\n",
        "\n",
        "    for batch_idx in range(batch_size): \n",
        "\n",
        "        y_sliced    = indices_to_chars(y[batch_idx,0:ly[batch_idx]], vocab)\n",
        "        pred_sliced = indices_to_chars(predictions[batch_idx], vocab)\n",
        "\n",
        "        # Strings - When you are using characters from the AudioDataset\n",
        "        y_string    = ''.join(y_sliced)\n",
        "        pred_string = ''.join(pred_sliced)\n",
        "        \n",
        "        dist        += Levenshtein.distance(pred_string, y_string)\n",
        "        # Comment the above and uncomment below for toy dataset, as the toy dataset has a list of phonemes to compare\n",
        "        # dist      += Levenshtein.distance(y_sliced, pred_sliced)\n",
        "\n",
        "    if print_example: \n",
        "        # Print y_sliced and pred_sliced if you are using the toy dataset\n",
        "        print(\"Ground Truth : \", y_string)\n",
        "        print(\"Prediction   : \", pred_string)\n",
        "        \n",
        "    dist/=batch_size\n",
        "    return dist"
      ],
      "metadata": {
        "id": "rSsiCdxPVeZW"
      },
      "execution_count": 39,
      "outputs": []
    },
    {
      "cell_type": "markdown",
      "source": [
        "# Train and Validation functions \n"
      ],
      "metadata": {
        "id": "Pu4MrSMUUIyp"
      }
    },
    {
      "cell_type": "code",
      "source": [
        "from tqdm import tqdm"
      ],
      "metadata": {
        "id": "Qullge5kwhvv"
      },
      "execution_count": 40,
      "outputs": []
    },
    {
      "cell_type": "code",
      "source": [
        "def train(model, dataloader, criterion, optimizer, teacher_forcing_ratio):\n",
        "    global scaler\n",
        "\n",
        "    model.train()\n",
        "    batch_bar = tqdm(total=len(dataloader), dynamic_ncols=True, leave=False, position=0, desc='Train')\n",
        "\n",
        "    running_loss        = 0.0\n",
        "    running_perplexity  = 0.0\n",
        "    \n",
        "    for i, (x, y, lx, ly) in enumerate(dataloader):\n",
        "\n",
        "        optimizer.zero_grad()\n",
        "\n",
        "        x, y, lx, ly = x.to(DEVICE), y.to(DEVICE), lx, ly\n",
        "\n",
        "        with torch.cuda.amp.autocast():\n",
        "\n",
        "            raw_predictions, attention_plot = model(x, lx, y= y, teacher_forcing_ratio= teacher_forcing_ratio)\n",
        "\n",
        "            # Predictions are of Shape (batch_size, timesteps, vocab_size). \n",
        "            # Transcripts are of shape (batch_size, timesteps) Which means that you have batch_size amount of batches with timestep number of tokens.\n",
        "            # So in total, you have batch_size*timesteps amount of characters.\n",
        "            # Similarly, in predictions, you have batch_size*timesteps amount of probability distributions.\n",
        "            # How do you need to modify transcipts and predictions so that you can calculate the CrossEntropyLoss? Hint: Use Reshape/View and read the docs\n",
        "            # Also we recommend you plot the attention weights, you should get convergence in around 10 epochs, if not, there could be something wrong with \n",
        "            # your implementation\n",
        "            # print(raw_predictions.type)\n",
        "            # print(y.shape)\n",
        "            loss        =  criterion(raw_predictions.contiguous().view(-1, len(VOCAB_MAP)), y.view(-1))# TODO: Cross Entropy Loss\n",
        "            # print(loss)\n",
        "            # print('raw_prediction shape', raw_predictions.view(-1, len(VOCAB_MAP_TOY)).shape)\n",
        "            # print('y shape', y.view(-1).shape)\n",
        "            \n",
        "            perplexity  = torch.exp(loss) # Perplexity is defined the exponential of the loss\n",
        "\n",
        "            running_loss        += loss.item()\n",
        "            running_perplexity  += perplexity.item()\n",
        "        \n",
        "        # Backward on the masked loss\n",
        "        scaler.scale(loss).backward()\n",
        "\n",
        "        # Optional: Use torch.nn.utils.clip_grad_norm to clip gradients to prevent them from exploding, if necessary\n",
        "        # If using with mixed precision, unscale the Optimizer First before doing gradient clipping\n",
        "        \n",
        "        scaler.unscale_(optimizer)\n",
        "        \n",
        "        torch.nn.utils.clip_grad_norm_(model.parameters(), max_norm=10)\n",
        "        \n",
        "        scaler.step(optimizer)\n",
        "        scaler.update()\n",
        "        \n",
        "\n",
        "        batch_bar.set_postfix(\n",
        "            loss=\"{:.04f}\".format(running_loss/(i+1)),\n",
        "            perplexity=\"{:.04f}\".format(running_perplexity/(i+1)),\n",
        "            lr=\"{:.04f}\".format(float(optimizer.param_groups[0]['lr'])),\n",
        "            tf_rate='{:.02f}'.format(teacher_forcing_ratio))\n",
        "        batch_bar.update()\n",
        "\n",
        "        del x, y, lx, ly\n",
        "        torch.cuda.empty_cache()\n",
        "\n",
        "    running_loss /= len(dataloader)\n",
        "    running_perplexity /= len(dataloader)\n",
        "    batch_bar.close()\n",
        "\n",
        "    return running_loss, running_perplexity, attention_plot"
      ],
      "metadata": {
        "id": "sKOdI0J5Tpem"
      },
      "execution_count": 41,
      "outputs": []
    },
    {
      "cell_type": "code",
      "source": [
        "def validate(model, dataloader):\n",
        "\n",
        "    model.eval()\n",
        "\n",
        "    batch_bar = tqdm(total=len(dataloader), dynamic_ncols=True, position=0, leave=False, desc=\"Val\")\n",
        "\n",
        "    running_lev_dist = 0.0\n",
        "\n",
        "    for i, (x, y, lx, ly) in enumerate(dataloader):\n",
        "\n",
        "        x, y, lx, ly = x.to(DEVICE), y.to(DEVICE), lx, ly\n",
        "\n",
        "        with torch.inference_mode():\n",
        "            raw_predictions, attentions = model(x, lx, y = None)\n",
        "        \n",
        "        # print('valid raw',raw_predictions.shape)\n",
        "\n",
        "        # Greedy Decoding\n",
        "        greedy_predictions   =  torch.argmax(raw_predictions, dim = 2)# TODO: How do you get the most likely character from each distribution in the batch?\n",
        "\n",
        "        # Calculate Levenshtein Distance\n",
        "        running_lev_dist    += calc_edit_distance(greedy_predictions, y, ly, VOCAB, print_example = False) # You can use print_example = True for one specific index i in your batches if you want\n",
        "\n",
        "        batch_bar.set_postfix(\n",
        "            dist=\"{:.04f}\".format(running_lev_dist/(i+1)))\n",
        "        batch_bar.update()\n",
        "\n",
        "        del x, y, lx, ly\n",
        "        torch.cuda.empty_cache()\n",
        "\n",
        "    batch_bar.close()\n",
        "    running_lev_dist /= len(dataloader)\n",
        "\n",
        "    return running_lev_dist"
      ],
      "metadata": {
        "id": "YmBLhP8cWm6n"
      },
      "execution_count": 42,
      "outputs": []
    },
    {
      "cell_type": "markdown",
      "source": [
        "# Experiment"
      ],
      "metadata": {
        "id": "JmZhxhNseaIr"
      }
    },
    {
      "cell_type": "code",
      "source": [
        "# Login to Wandb\n",
        "# Initialize your Wandb Run Here\n",
        "# Save your model architecture in a txt file, and save the file to Wandb\n",
        "import wandb\n",
        "wandb.login(key=\"eac70e317e1b0b232f1e96dda29ff11405e8b4bc\")"
      ],
      "metadata": {
        "id": "sZcCV2BIW2R6",
        "colab": {
          "base_uri": "https://localhost:8080/"
        },
        "outputId": "8e0c7cf2-7dab-46e7-b05e-f2c706856b3b"
      },
      "execution_count": 43,
      "outputs": [
        {
          "output_type": "stream",
          "name": "stderr",
          "text": [
            "\u001b[34m\u001b[1mwandb\u001b[0m: Currently logged in as: \u001b[33msilviagu\u001b[0m (\u001b[33m11785-team\u001b[0m). Use \u001b[1m`wandb login --relogin`\u001b[0m to force relogin\n",
            "\u001b[34m\u001b[1mwandb\u001b[0m: \u001b[33mWARNING\u001b[0m If you're specifying your api key in code, ensure this code is not shared publicly.\n",
            "\u001b[34m\u001b[1mwandb\u001b[0m: \u001b[33mWARNING\u001b[0m Consider setting the WANDB_API_KEY environment variable, or running `wandb login` from the command line.\n",
            "\u001b[34m\u001b[1mwandb\u001b[0m: Appending key for api.wandb.ai to your netrc file: /root/.netrc\n"
          ]
        },
        {
          "output_type": "execute_result",
          "data": {
            "text/plain": [
              "True"
            ]
          },
          "metadata": {},
          "execution_count": 43
        }
      ]
    },
    {
      "cell_type": "code",
      "source": [
        "model_name = 'silvia-largerproj'"
      ],
      "metadata": {
        "id": "BDJ_C4YWuxF-"
      },
      "execution_count": 44,
      "outputs": []
    },
    {
      "cell_type": "code",
      "source": [
        "run = wandb.init(\n",
        "    name = model_name, ## Wandb creates random run names if you skip this field\n",
        "    reinit = True, ### Allows reinitalizing runs when you re-run this cell\n",
        "    # run_id = ### Insert specific run id here if you want to resume a previous run\n",
        "    # resume = \"must\" ### You need this to resume previous runs, but comment out reinit = True when using this\n",
        "    project = \"hw4p2-ablations\", ### Project should be created in your wandb account \n",
        "    config = config ### Wandb Config for your run\n",
        ")"
      ],
      "metadata": {
        "colab": {
          "base_uri": "https://localhost:8080/",
          "height": 122
        },
        "id": "PYzP4n7Dtbdw",
        "outputId": "8a7bf61f-b82c-4173-f456-5cc41393ba07"
      },
      "execution_count": 84,
      "outputs": [
        {
          "output_type": "display_data",
          "data": {
            "text/plain": [
              "<IPython.core.display.HTML object>"
            ],
            "text/html": [
              "wandb version 0.15.1 is available!  To upgrade, please run:\n",
              " $ pip install wandb --upgrade"
            ]
          },
          "metadata": {}
        },
        {
          "output_type": "display_data",
          "data": {
            "text/plain": [
              "<IPython.core.display.HTML object>"
            ],
            "text/html": [
              "Tracking run with wandb version 0.15.0"
            ]
          },
          "metadata": {}
        },
        {
          "output_type": "display_data",
          "data": {
            "text/plain": [
              "<IPython.core.display.HTML object>"
            ],
            "text/html": [
              "Run data is saved locally in <code>/content/wandb/run-20230503_020623-d5v8g8e1</code>"
            ]
          },
          "metadata": {}
        },
        {
          "output_type": "display_data",
          "data": {
            "text/plain": [
              "<IPython.core.display.HTML object>"
            ],
            "text/html": [
              "Syncing run <strong><a href='https://wandb.ai/11785-team/hw4p2-ablations/runs/d5v8g8e1' target=\"_blank\">silvia-largerproj</a></strong> to <a href='https://wandb.ai/11785-team/hw4p2-ablations' target=\"_blank\">Weights & Biases</a> (<a href='https://wandb.me/run' target=\"_blank\">docs</a>)<br/>"
            ]
          },
          "metadata": {}
        },
        {
          "output_type": "display_data",
          "data": {
            "text/plain": [
              "<IPython.core.display.HTML object>"
            ],
            "text/html": [
              " View project at <a href='https://wandb.ai/11785-team/hw4p2-ablations' target=\"_blank\">https://wandb.ai/11785-team/hw4p2-ablations</a>"
            ]
          },
          "metadata": {}
        },
        {
          "output_type": "display_data",
          "data": {
            "text/plain": [
              "<IPython.core.display.HTML object>"
            ],
            "text/html": [
              " View run at <a href='https://wandb.ai/11785-team/hw4p2-ablations/runs/d5v8g8e1' target=\"_blank\">https://wandb.ai/11785-team/hw4p2-ablations/runs/d5v8g8e1</a>"
            ]
          },
          "metadata": {}
        }
      ]
    },
    {
      "cell_type": "code",
      "source": [
        "import gc \n",
        "gc.collect()"
      ],
      "metadata": {
        "colab": {
          "base_uri": "https://localhost:8080/"
        },
        "id": "Z5aOx01EtmsR",
        "outputId": "0eb76f6c-f62c-47e2-cfb0-41e329c42c97"
      },
      "execution_count": 85,
      "outputs": [
        {
          "output_type": "execute_result",
          "data": {
            "text/plain": [
              "12722"
            ]
          },
          "metadata": {},
          "execution_count": 85
        }
      ]
    },
    {
      "cell_type": "code",
      "source": [
        "def save_model(model, optimizer, scheduler, metric, epoch, path):\n",
        "    torch.save(\n",
        "        {'model_state_dict'         : model.state_dict(),\n",
        "         'optimizer_state_dict'     : optimizer.state_dict(),\n",
        "         'scheduler_state_dict'     : scheduler.state_dict(),\n",
        "         metric[0]                  : metric[1], \n",
        "         'epoch'                    : epoch}, \n",
        "         path\n",
        "    )\n",
        "\n",
        "def load_model(path, model, metric= 'valid_dist', optimizer= None, scheduler= None):\n",
        "\n",
        "    checkpoint = torch.load(path)\n",
        "    model.load_state_dict(checkpoint['model_state_dict'])\n",
        "\n",
        "    if optimizer != None:\n",
        "        optimizer.load_state_dict(checkpoint['optimizer_state_dict'])\n",
        "    if scheduler != None:\n",
        "        scheduler.load_state_dict(checkpoint['scheduler_state_dict'])\n",
        "        \n",
        "    epoch   = checkpoint['epoch']\n",
        "    metric  = checkpoint[metric]\n",
        "\n",
        "    return [model, optimizer, scheduler, epoch, metric]"
      ],
      "metadata": {
        "id": "x4zyB9j-uDRu"
      },
      "execution_count": 47,
      "outputs": []
    },
    {
      "cell_type": "code",
      "source": [
        "# ! mkdir /content/model"
      ],
      "metadata": {
        "id": "xGzcMqsVQ3Bx"
      },
      "execution_count": 48,
      "outputs": []
    },
    {
      "cell_type": "code",
      "source": [
        "model = load_model('/content/model/silvia-largerproj_epoch.pt', model)[0]"
      ],
      "metadata": {
        "id": "rSmIa1vDXJTy"
      },
      "execution_count": 71,
      "outputs": []
    },
    {
      "cell_type": "code",
      "source": [
        "last_epoch_completed = 0\n",
        "start = last_epoch_completed\n",
        "end = config[\"epochs\"]\n",
        "best_lev_dist = float(\"inf\") # if you're restarting from some checkpoint, use what you saw there.\n",
        "epoch_model_path = '/content/model/'+ model_name+'_epoch.pt' \n",
        "#TODO set the model path( Optional, you can just store best one. Make sure to make the changes below)\n",
        "best_model_path = '/content/model/'+ model_name+'_epoch.pt'"
      ],
      "metadata": {
        "id": "mTxAE3zDuvII"
      },
      "execution_count": 50,
      "outputs": []
    },
    {
      "cell_type": "code",
      "source": [
        "from matplotlib import pyplot as plt\n",
        "import seaborn as sns\n",
        "def plot_attention(attention): \n",
        "    # Function for plotting attention\n",
        "    # You need to get a diagonal plot\n",
        "    plt.clf()\n",
        "    sns.heatmap(attention, cmap='GnBu')\n",
        "    plt.show()"
      ],
      "metadata": {
        "id": "IgJdA9jrZwid"
      },
      "execution_count": 51,
      "outputs": []
    },
    {
      "cell_type": "code",
      "source": [
        "# best_lev_dist = float(\"inf\")\n",
        "tf_rate = 0.95\n",
        "\n",
        "# for epoch in range(0, config['epochs']):\n",
        "for epoch in range(0, 5):\n",
        "\n",
        "    \n",
        "    print(\"\\nEpoch: {}/{}\".format(epoch+1, config['epochs']))\n",
        "    curr_lr = float(optimizer.param_groups[0]['lr']) \n",
        "\n",
        "    # Call train and validate, get attention weights from training\n",
        "    \n",
        "\n",
        "    train_loss, running_perplexity, attention_plot =  train(model, train_loader, criterion, optimizer, teacher_forcing_ratio = tf_rate) #TODO\n",
        "   \n",
        "    valid_dist  = validate(model, dev_loader) #TODO\n",
        "    # scheduler.step(valid_dist)\n",
        "    scheduler.step()\n",
        "    if valid_dist < 200:\n",
        "        # if epoch < 8:\n",
        "        #    tf_rate = 1\n",
        "        \n",
        "        if epoch < 15:\n",
        "            tf_rate = 0.85\n",
        "        else:\n",
        "            tf_rate -= 0.01\n",
        "\n",
        "    # Print your metrics\n",
        "    print(\"Learning Rate {:.07f}\".format(curr_lr))\n",
        "    print(\"\\tTrain Loss {:.04f}\\t Running_perplexity {:.04f}\".format(train_loss, running_perplexity))\n",
        "    print(\"\\tVal Dist {:.04f}\".format(valid_dist))\n",
        "    print(\"\\t Teacher Forcing Rate{:.02f}\".format(tf_rate))\n",
        "\n",
        "    # Plot Attention for a single item in the batch\n",
        "    plot_attention(attention_plot[0].cpu().detach().numpy().squeeze(1))\n",
        "    np.save('/content/model/weight.txt',attention_plot[0].cpu().detach().numpy().squeeze(1))\n",
        "\n",
        "    # Log metrics to Wandb\n",
        "    wandb.log({\n",
        "        'train_loss': train_loss,  \n",
        "        'valid_dist': valid_dist, \n",
        "        'lr'        : curr_lr,\n",
        "        'tf': tf_rate\n",
        "    })\n",
        "\n",
        "    # Optional: Scheduler Step / Teacher Force Schedule Step\n",
        "\n",
        "\n",
        "    if valid_dist <= best_lev_dist:\n",
        "        best_lev_dist = valid_dist\n",
        "        # Save your model checkpoint here\n",
        "        save_model(model, optimizer, scheduler, ['valid_dist', valid_dist], epoch, best_model_path)\n",
        "        wandb.save(best_model_path)\n",
        "        print(\"Saved best model\")\n",
        "\n",
        "run.finish()"
      ],
      "metadata": {
        "id": "eDWGFIcjddz-",
        "colab": {
          "base_uri": "https://localhost:8080/",
          "height": 1000,
          "referenced_widgets": [
            "994812fe26194f5b822af36d54af7cd9",
            "c49ab99fd794403fb7975343697f037c",
            "b279df84b7fb4c009d7e2fbcf4472d13",
            "16bc50c4aebb4e89a4952f9e228bde01",
            "3fab1b177a3e4c339b9e40d48b59246d",
            "686ec5bd26b54aef95aa65a6d294bd7e",
            "8156b92d3d53463f80cb0d35b7066663",
            "3a91fb5e676f4a2e89115eb232083959"
          ]
        },
        "outputId": "680dd18c-9898-4b82-f020-8ebd28051d5f"
      },
      "execution_count": 86,
      "outputs": [
        {
          "metadata": {
            "tags": null
          },
          "name": "stdout",
          "output_type": "stream",
          "text": [
            "\n",
            "Epoch: 1/30\n"
          ]
        },
        {
          "output_type": "stream",
          "name": "stderr",
          "text": []
        },
        {
          "output_type": "stream",
          "name": "stdout",
          "text": [
            "Learning Rate 0.0002855\n",
            "\tTrain Loss 0.3327\t Running_perplexity 1.3948\n",
            "\tVal Dist 10.4536\n",
            "\t Teacher Forcing Rate0.85\n"
          ]
        },
        {
          "output_type": "display_data",
          "data": {
            "text/plain": [
              "<Figure size 640x480 with 2 Axes>"
            ],
            "image/png": "[encoded data removed]"
          },
          "metadata": {}
        },
        {
          "output_type": "stream",
          "name": "stdout",
          "text": [
            "Saved best model\n",
            "\n",
            "Epoch: 2/30\n"
          ]
        },
        {
          "output_type": "stream",
          "name": "stderr",
          "text": []
        },
        {
          "output_type": "stream",
          "name": "stdout",
          "text": [
            "Learning Rate 0.0002489\n",
            "\tTrain Loss 0.3445\t Running_perplexity 1.4114\n",
            "\tVal Dist 10.8863\n",
            "\t Teacher Forcing Rate0.85\n"
          ]
        },
        {
          "output_type": "display_data",
          "data": {
            "text/plain": [
              "<Figure size 640x480 with 2 Axes>"
            ],
            "image/png": "[encoded data removed]"
          },
          "metadata": {}
        },
        {
          "output_type": "stream",
          "name": "stdout",
          "text": [
            "\n",
            "Epoch: 3/30\n"
          ]
        },
        {
          "output_type": "stream",
          "name": "stderr",
          "text": []
        },
        {
          "output_type": "stream",
          "name": "stdout",
          "text": [
            "Learning Rate 0.0002156\n",
            "\tTrain Loss 0.3420\t Running_perplexity 1.4080\n",
            "\tVal Dist 10.1690\n",
            "\t Teacher Forcing Rate0.85\n"
          ]
        },
        {
          "output_type": "display_data",
          "data": {
            "text/plain": [
              "<Figure size 640x480 with 2 Axes>"
            ],
            "image/png": "[encoded data removed]"
          },
          "metadata": {}
        },
        {
          "output_type": "stream",
          "name": "stdout",
          "text": [
            "Saved best model\n",
            "\n",
            "Epoch: 4/30\n"
          ]
        },
        {
          "output_type": "stream",
          "name": "stderr",
          "text": []
        },
        {
          "output_type": "stream",
          "name": "stdout",
          "text": [
            "Learning Rate 0.0001859\n",
            "\tTrain Loss 0.3404\t Running_perplexity 1.4057\n",
            "\tVal Dist 9.8774\n",
            "\t Teacher Forcing Rate0.85\n"
          ]
        },
        {
          "output_type": "display_data",
          "data": {
            "text/plain": [
              "<Figure size 640x480 with 2 Axes>"
            ],
            "image/png": "[encoded data removed]"
          },
          "metadata": {}
        },
        {
          "output_type": "stream",
          "name": "stdout",
          "text": [
            "Saved best model\n",
            "\n",
            "Epoch: 5/30\n"
          ]
        },
        {
          "output_type": "stream",
          "name": "stderr",
          "text": []
        },
        {
          "output_type": "stream",
          "name": "stdout",
          "text": [
            "Learning Rate 0.0001603\n",
            "\tTrain Loss 0.3380\t Running_perplexity 1.4022\n",
            "\tVal Dist 10.0579\n",
            "\t Teacher Forcing Rate0.85\n"
          ]
        },
        {
          "output_type": "display_data",
          "data": {
            "text/plain": [
              "<Figure size 640x480 with 2 Axes>"
            ],
            "image/png": "[encoded data removed]"
          },
          "metadata": {}
        },
        {
          "output_type": "display_data",
          "data": {
            "text/plain": [
              "<IPython.core.display.HTML object>"
            ],
            "text/html": [
              "Waiting for W&B process to finish... <strong style=\"color:green\">(success).</strong>"
            ]
          },
          "metadata": {}
        },
        {
          "output_type": "display_data",
          "data": {
            "text/plain": [
              "VBox(children=(Label(value='263.299 MB of 263.299 MB uploaded (0.000 MB deduped)\\r'), FloatProgress(value=1.0,…"
            ],
            "application/vnd.jupyter.widget-view+json": {
              "version_major": 2,
              "version_minor": 0,
              "model_id": "994812fe26194f5b822af36d54af7cd9"
            }
          },
          "metadata": {}
        },
        {
          "output_type": "display_data",
          "data": {
            "text/plain": [
              "<IPython.core.display.HTML object>"
            ],
            "text/html": [
              "<style>\n",
              "    table.wandb td:nth-child(1) { padding: 0 10px; text-align: left ; width: auto;} td:nth-child(2) {text-align: left ; width: 100%}\n",
              "    .wandb-row { display: flex; flex-direction: row; flex-wrap: wrap; justify-content: flex-start; width: 100% }\n",
              "    .wandb-col { display: flex; flex-direction: column; flex-basis: 100%; flex: 1; padding: 10px; }\n",
              "    </style>\n",
              "<div class=\"wandb-row\"><div class=\"wandb-col\"><h3>Run history:</h3><br/><table class=\"wandb\"><tr><td>lr</td><td>█▆▄▂▁</td></tr><tr><td>tf</td><td>▁▁▁▁▁</td></tr><tr><td>train_loss</td><td>▁█▇▆▄</td></tr><tr><td>valid_dist</td><td>▅█▃▁▂</td></tr></table><br/></div><div class=\"wandb-col\"><h3>Run summary:</h3><br/><table class=\"wandb\"><tr><td>lr</td><td>0.00016</td></tr><tr><td>tf</td><td>0.85</td></tr><tr><td>train_loss</td><td>0.33798</td></tr><tr><td>valid_dist</td><td>10.05786</td></tr></table><br/></div></div>"
            ]
          },
          "metadata": {}
        },
        {
          "output_type": "display_data",
          "data": {
            "text/plain": [
              "<IPython.core.display.HTML object>"
            ],
            "text/html": [
              " View run <strong style=\"color:#cdcd00\">silvia-largerproj</strong> at: <a href='https://wandb.ai/11785-team/hw4p2-ablations/runs/d5v8g8e1' target=\"_blank\">https://wandb.ai/11785-team/hw4p2-ablations/runs/d5v8g8e1</a><br/>Synced 5 W&B file(s), 0 media file(s), 0 artifact file(s) and 1 other file(s)"
            ]
          },
          "metadata": {}
        },
        {
          "output_type": "display_data",
          "data": {
            "text/plain": [
              "<IPython.core.display.HTML object>"
            ],
            "text/html": [
              "Find logs at: <code>./wandb/run-20230503_020623-d5v8g8e1/logs</code>"
            ]
          },
          "metadata": {}
        }
      ]
    },
    {
      "cell_type": "markdown",
      "source": [
        "# Testing"
      ],
      "metadata": {
        "id": "hgFYFaBGeBqM"
      }
    },
    {
      "cell_type": "code",
      "source": [
        "# Optional: Load your best model Checkpoint here\n",
        "best_model = load_model(best_model_path,model)[0]\n",
        "# TODO: Create a testing function similar to validation \n",
        "# TODO: Create a file with all predictions \n",
        "# TODO: Submit to Kaggle"
      ],
      "metadata": {
        "id": "VxEFx7ipeCqJ"
      },
      "execution_count": 87,
      "outputs": []
    },
    {
      "cell_type": "code",
      "source": [],
      "metadata": {
        "id": "qmyiAqft8C3P"
      },
      "execution_count": null,
      "outputs": []
    },
    {
      "cell_type": "code",
      "source": [
        "def test(model, dataloader, vocab = VOCAB):\n",
        "\n",
        "    model.eval()\n",
        "    results = []\n",
        "\n",
        "    batch_bar = tqdm(total=len(dataloader), dynamic_ncols=True, position=0, leave=False, desc=\"Val\")\n",
        "\n",
        "    running_lev_dist = 0.0\n",
        "\n",
        "    for i, (x, lx) in enumerate(dataloader):\n",
        "\n",
        "        x, lx= x.to(DEVICE), lx\n",
        "\n",
        "        with torch.inference_mode():\n",
        "            raw_predictions, attentions = model(x, lx, y = None)\n",
        "        \n",
        "\n",
        "        # Greedy Decoding\n",
        "        # print(raw_predictions.shape)\n",
        "        greedy_predictions   =  torch.argmax(raw_predictions, dim = 2)# TODO: How do you get the most likely character from each distribution in the batch?\n",
        "        # print(greedy_predictions.shape)\n",
        "        for b in range(x.shape[0]):\n",
        "            char_predictions = indices_to_chars(greedy_predictions[b], VOCAB)\n",
        "            \n",
        "            predictions = ''.join(char_predictions)\n",
        "            # print('b',predictions)\n",
        "            results.append(predictions)\n",
        "            # print(results)\n",
        "\n",
        "\n",
        "        batch_bar.update()\n",
        "\n",
        "        # results.extend(predictions)\n",
        "        del x, lx\n",
        "        torch.cuda.empty_cache()\n",
        "\n",
        "    batch_bar.close()\n",
        "\n",
        "\n",
        "    return results"
      ],
      "metadata": {
        "id": "PW2iJJpY8DJT"
      },
      "execution_count": 55,
      "outputs": []
    },
    {
      "cell_type": "code",
      "source": [
        "test_loader.__len__()"
      ],
      "metadata": {
        "id": "ve_AZVk5UmTy"
      },
      "execution_count": null,
      "outputs": []
    },
    {
      "cell_type": "code",
      "source": [
        "test_results = test(best_model, test_loader)"
      ],
      "metadata": {
        "colab": {
          "base_uri": "https://localhost:8080/"
        },
        "id": "DJkJDupG-oVP",
        "outputId": "1347d06b-8b2b-4f7d-85ae-83a1a9d6b128"
      },
      "execution_count": 88,
      "outputs": [
        {
          "output_type": "stream",
          "name": "stderr",
          "text": []
        }
      ]
    },
    {
      "cell_type": "code",
      "source": [
        "len(test_results)"
      ],
      "metadata": {
        "colab": {
          "base_uri": "https://localhost:8080/"
        },
        "id": "jKM9Qy0DXzaf",
        "outputId": "5acf9cca-eeca-4125-d253-3938a3e10c14"
      },
      "execution_count": 57,
      "outputs": [
        {
          "output_type": "execute_result",
          "data": {
            "text/plain": [
              "2620"
            ]
          },
          "metadata": {},
          "execution_count": 57
        }
      ]
    },
    {
      "cell_type": "code",
      "source": [
        "with open(\"first_submission.csv\", \"w+\") as f:\n",
        "    f.write(\"index,label\\n\")\n",
        "    for i in range(len(test_results)):\n",
        "        f.write(\"{},{}\\n\".format(i, test_results[i]))"
      ],
      "metadata": {
        "id": "FC2rdYQcXnSb"
      },
      "execution_count": 89,
      "outputs": []
    },
    {
      "cell_type": "code",
      "source": [
        "!kaggle competitions submit -c attention-based-speech-recognition-slack -f first_submission.csv -m \"I made it!\""
      ],
      "metadata": {
        "colab": {
          "base_uri": "https://localhost:8080/"
        },
        "id": "WaamIASa9GTA",
        "outputId": "78d63be8-79c8-4844-ee61-9a31c3642bb4"
      },
      "execution_count": 90,
      "outputs": [
        {
          "output_type": "stream",
          "name": "stdout",
          "text": [
            "100% 289k/289k [00:02<00:00, 139kB/s]\n",
            "Successfully submitted to Attention-Based Speech Recognition (Slack)"
          ]
        }
      ]
    },
    {
      "cell_type": "code",
      "source": [
        "import pandas as pd\n",
        "pd.read_csv('first_submission.csv')"
      ],
      "metadata": {
        "id": "8_a00TyeY3M6",
        "colab": {
          "base_uri": "https://localhost:8080/",
          "height": 424
        },
        "outputId": "33b7e414-5035-47df-e37e-ee3a6092a926"
      },
      "execution_count": 91,
      "outputs": [
        {
          "output_type": "execute_result",
          "data": {
            "text/plain": [
              "      index                                              label\n",
              "0         0  HE HOPED THERE WOULD BE STOOPED FOR DINNER TUR...\n",
              "1         1          STUFFED INTO YOU HIS BELLY COUNSELLED HIM\n",
              "2         2  AFTER EARLY NIGHTFALL THE YELLOW LAMPS WOULD L...\n",
              "3         3            HOW OUR BURTY AND HE GOOD AND YOUR MIND\n",
              "4         4  NOME BUT THEN FRESH NELLY IS WAITING ON YOU CO...\n",
              "...     ...                                                ...\n",
              "2615   2615  OH TO SHOOT MY SOULS FULL MEANING IN TWO FUTUR...\n",
              "2616   2616  THAN I LONG TRIBE BY NATURAL EOLDS RECEIVED TH...\n",
              "2617   2617  I LOVE THEE FREELY AS MEN STRIVE FOR RIGHT I L...\n",
              "2618   2618  I LOVED THEE WITH THE PASSION PUT TO USE IN MY...\n",
              "2619   2619  I LOVE THEE WITH A LOVE I SEEMED TO LOOM WITH ...\n",
              "\n",
              "[2620 rows x 2 columns]"
            ],
            "text/html": [
              "\n",
              "  <div id=\"df-9f76bdfe-7a20-4a14-b989-e67486a9bca4\">\n",
              "    <div class=\"colab-df-container\">\n",
              "      <div>\n",
              "<style scoped>\n",
              "    .dataframe tbody tr th:only-of-type {\n",
              "        vertical-align: middle;\n",
              "    }\n",
              "\n",
              "    .dataframe tbody tr th {\n",
              "        vertical-align: top;\n",
              "    }\n",
              "\n",
              "    .dataframe thead th {\n",
              "        text-align: right;\n",
              "    }\n",
              "</style>\n",
              "<table border=\"1\" class=\"dataframe\">\n",
              "  <thead>\n",
              "    <tr style=\"text-align: right;\">\n",
              "      <th></th>\n",
              "      <th>index</th>\n",
              "      <th>label</th>\n",
              "    </tr>\n",
              "  </thead>\n",
              "  <tbody>\n",
              "    <tr>\n",
              "      <th>0</th>\n",
              "      <td>0</td>\n",
              "      <td>HE HOPED THERE WOULD BE STOOPED FOR DINNER TUR...</td>\n",
              "    </tr>\n",
              "    <tr>\n",
              "      <th>1</th>\n",
              "      <td>1</td>\n",
              "      <td>STUFFED INTO YOU HIS BELLY COUNSELLED HIM</td>\n",
              "    </tr>\n",
              "    <tr>\n",
              "      <th>2</th>\n",
              "      <td>2</td>\n",
              "      <td>AFTER EARLY NIGHTFALL THE YELLOW LAMPS WOULD L...</td>\n",
              "    </tr>\n",
              "    <tr>\n",
              "      <th>3</th>\n",
              "      <td>3</td>\n",
              "      <td>HOW OUR BURTY AND HE GOOD AND YOUR MIND</td>\n",
              "    </tr>\n",
              "    <tr>\n",
              "      <th>4</th>\n",
              "      <td>4</td>\n",
              "      <td>NOME BUT THEN FRESH NELLY IS WAITING ON YOU CO...</td>\n",
              "    </tr>\n",
              "    <tr>\n",
              "      <th>...</th>\n",
              "      <td>...</td>\n",
              "      <td>...</td>\n",
              "    </tr>\n",
              "    <tr>\n",
              "      <th>2615</th>\n",
              "      <td>2615</td>\n",
              "      <td>OH TO SHOOT MY SOULS FULL MEANING IN TWO FUTUR...</td>\n",
              "    </tr>\n",
              "    <tr>\n",
              "      <th>2616</th>\n",
              "      <td>2616</td>\n",
              "      <td>THAN I LONG TRIBE BY NATURAL EOLDS RECEIVED TH...</td>\n",
              "    </tr>\n",
              "    <tr>\n",
              "      <th>2617</th>\n",
              "      <td>2617</td>\n",
              "      <td>I LOVE THEE FREELY AS MEN STRIVE FOR RIGHT I L...</td>\n",
              "    </tr>\n",
              "    <tr>\n",
              "      <th>2618</th>\n",
              "      <td>2618</td>\n",
              "      <td>I LOVED THEE WITH THE PASSION PUT TO USE IN MY...</td>\n",
              "    </tr>\n",
              "    <tr>\n",
              "      <th>2619</th>\n",
              "      <td>2619</td>\n",
              "      <td>I LOVE THEE WITH A LOVE I SEEMED TO LOOM WITH ...</td>\n",
              "    </tr>\n",
              "  </tbody>\n",
              "</table>\n",
              "<p>2620 rows × 2 columns</p>\n",
              "</div>\n",
              "      <button class=\"colab-df-convert\" onclick=\"convertToInteractive('df-9f76bdfe-7a20-4a14-b989-e67486a9bca4')\"\n",
              "              title=\"Convert this dataframe to an interactive table.\"\n",
              "              style=\"display:none;\">\n",
              "        \n",
              "  <svg xmlns=\"http://www.w3.org/2000/svg\" height=\"24px\"viewBox=\"0 0 24 24\"\n",
              "       width=\"24px\">\n",
              "    <path d=\"M0 0h24v24H0V0z\" fill=\"none\"/>\n",
              "    <path d=\"M18.56 5.44l.94 2.06.94-2.06 2.06-.94-2.06-.94-.94-2.06-.94 2.06-2.06.94zm-11 1L8.5 8.5l.94-2.06 2.06-.94-2.06-.94L8.5 2.5l-.94 2.06-2.06.94zm10 10l.94 2.06.94-2.06 2.06-.94-2.06-.94-.94-2.06-.94 2.06-2.06.94z\"/><path d=\"M17.41 7.96l-1.37-1.37c-.4-.4-.92-.59-1.43-.59-.52 0-1.04.2-1.43.59L10.3 9.45l-7.72 7.72c-.78.78-.78 2.05 0 2.83L4 21.41c.39.39.9.59 1.41.59.51 0 1.02-.2 1.41-.59l7.78-7.78 2.81-2.81c.8-.78.8-2.07 0-2.86zM5.41 20L4 18.59l7.72-7.72 1.47 1.35L5.41 20z\"/>\n",
              "  </svg>\n",
              "      </button>\n",
              "      \n",
              "  <style>\n",
              "    .colab-df-container {\n",
              "      display:flex;\n",
              "      flex-wrap:wrap;\n",
              "      gap: 12px;\n",
              "    }\n",
              "\n",
              "    .colab-df-convert {\n",
              "      background-color: #E8F0FE;\n",
              "      border: none;\n",
              "      border-radius: 50%;\n",
              "      cursor: pointer;\n",
              "      display: none;\n",
              "      fill: #1967D2;\n",
              "      height: 32px;\n",
              "      padding: 0 0 0 0;\n",
              "      width: 32px;\n",
              "    }\n",
              "\n",
              "    .colab-df-convert:hover {\n",
              "      background-color: #E2EBFA;\n",
              "      box-shadow: 0px 1px 2px rgba(60, 64, 67, 0.3), 0px 1px 3px 1px rgba(60, 64, 67, 0.15);\n",
              "      fill: #174EA6;\n",
              "    }\n",
              "\n",
              "    [theme=dark] .colab-df-convert {\n",
              "      background-color: #3B4455;\n",
              "      fill: #D2E3FC;\n",
              "    }\n",
              "\n",
              "    [theme=dark] .colab-df-convert:hover {\n",
              "      background-color: #434B5C;\n",
              "      box-shadow: 0px 1px 3px 1px rgba(0, 0, 0, 0.15);\n",
              "      filter: drop-shadow(0px 1px 2px rgba(0, 0, 0, 0.3));\n",
              "      fill: #FFFFFF;\n",
              "    }\n",
              "  </style>\n",
              "\n",
              "      <script>\n",
              "        const buttonEl =\n",
              "          document.querySelector('#df-9f76bdfe-7a20-4a14-b989-e67486a9bca4 button.colab-df-convert');\n",
              "        buttonEl.style.display =\n",
              "          google.colab.kernel.accessAllowed ? 'block' : 'none';\n",
              "\n",
              "        async function convertToInteractive(key) {\n",
              "          const element = document.querySelector('#df-9f76bdfe-7a20-4a14-b989-e67486a9bca4');\n",
              "          const dataTable =\n",
              "            await google.colab.kernel.invokeFunction('convertToInteractive',\n",
              "                                                     [key], {});\n",
              "          if (!dataTable) return;\n",
              "\n",
              "          const docLinkHtml = 'Like what you see? Visit the ' +\n",
              "            '<a target=\"_blank\" href=https://colab.research.google.com/notebooks/data_table.ipynb>data table notebook</a>'\n",
              "            + ' to learn more about interactive tables.';\n",
              "          element.innerHTML = '';\n",
              "          dataTable['output_type'] = 'display_data';\n",
              "          await google.colab.output.renderOutput(dataTable, element);\n",
              "          const docLink = document.createElement('div');\n",
              "          docLink.innerHTML = docLinkHtml;\n",
              "          element.appendChild(docLink);\n",
              "        }\n",
              "      </script>\n",
              "    </div>\n",
              "  </div>\n",
              "  "
            ]
          },
          "metadata": {},
          "execution_count": 91
        }
      ]
    }
  ]
}