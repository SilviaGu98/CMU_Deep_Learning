{
  "cells": [
    {
      "cell_type": "markdown",
      "metadata": {
        "id": "F9ERgBpbcMmB"
      },
      "source": [
        "# HW1: Frame-Level Speech Recognition"
      ]
    },
    {
      "cell_type": "markdown",
      "metadata": {
        "id": "CLkH6GMGcWcE"
      },
      "source": [
        "Running Instruction: \n",
        "Just run this notebook.\n",
        "\n",
        "Architectures tried: 6-8 layers, including diamond, cylinder, pyrimaid, stack 2 pyrimaids\n",
        "\n",
        "Number of epochs trained for: 10\n",
        "\n",
        "Hyperparameters used: \n",
        "\n",
        "- Learning rate scheduler: CosineAnnealing, ReduceOnPlateu\n",
        "\n",
        "- Weight initialization: Kaiming and Xavier\n",
        "\n",
        "- Context: 20, 30\n",
        "\n",
        "- Dropout rate: 0.1, 0.2\n",
        "\n",
        "- Batch Size: 1024, 2048, 8192\n",
        "\n",
        "- Batch Normalization\n",
        "\n",
        "- Weight Decay: 0.01, 0.001, None\n",
        "\n",
        "- Activation function: Relu, LeakyRelu, Gelu\n",
        "\n",
        "\n",
        "Best combination: \n",
        "Architecture: 8 layers of diamond with Gelu activation and batchnormalization. \n",
        "Drop out rate : 0.2\n",
        "Learning rate scheduler: CosineAnnealing\n",
        "Weight initialization: Kaiming\n",
        "Context: 20\n",
        "Batch Size: 8192\n",
        "\n",
        "Network(\n",
        "  (model): Sequential(\n",
        "    (0): Linear(in_features=1107, out_features=512, bias=True)\n",
        "    (1): BatchNorm1d(512, eps=1e-05, momentum=0.1, affine=True, track_running_stats=True)\n",
        "    (2): GELU(approximate='none')\n",
        "    (3): Linear(in_features=512, out_features=1024, bias=True)\n",
        "    (4): BatchNorm1d(1024, eps=1e-05, momentum=0.1, affine=True, track_running_stats=True)\n",
        "    (5): GELU(approximate='none')\n",
        "    (6): Linear(in_features=1024, out_features=2048, bias=True)\n",
        "    (7): BatchNorm1d(2048, eps=1e-05, momentum=0.1, affine=True, track_running_stats=True)\n",
        "    (8): GELU(approximate='none')\n",
        "    (9): Dropout(p=0.2, inplace=False)\n",
        "    (10): Linear(in_features=2048, out_features=4096, bias=True)\n",
        "    (11): BatchNorm1d(4096, eps=1e-05, momentum=0.1, affine=True, track_running_stats=True)\n",
        "    (12): GELU(approximate='none')\n",
        "    (13): Dropout(p=0.2, inplace=False)\n",
        "    (14): Linear(in_features=4096, out_features=2048, bias=True)\n",
        "    (15): BatchNorm1d(2048, eps=1e-05, momentum=0.1, affine=True, track_running_stats=True)\n",
        "    (16): GELU(approximate='none')\n",
        "    (17): Linear(in_features=2048, out_features=1024, bias=True)\n",
        "    (18): BatchNorm1d(1024, eps=1e-05, momentum=0.1, affine=True, track_running_stats=True)\n",
        "    (19): GELU(approximate='none')\n",
        "    (20): Dropout(p=0.2, inplace=False)\n",
        "    (21): Linear(in_features=1024, out_features=512, bias=True)\n",
        "    (22): BatchNorm1d(512, eps=1e-05, momentum=0.1, affine=True, track_running_stats=True)\n",
        "    (23): GELU(approximate='none')\n",
        "    (24): Dropout(p=0.2, inplace=False)\n",
        "    (25): Linear(in_features=512, out_features=40, bias=True)\n",
        "  )\n",
        "\n",
        "data loading scheme: \n",
        "Followed the bootcamp, I counted the mfcc length and initialized the zero matrix with the length and padding process before load data to fill the zeroes."
      ]
    },
    {
      "cell_type": "markdown",
      "metadata": {
        "id": "z4vZbDmJvMp1"
      },
      "source": [
        "# Libraries"
      ]
    },
    {
      "cell_type": "code",
      "execution_count": null,
      "metadata": {
        "id": "rwYu9sSUnSho"
      },
      "outputs": [],
      "source": [
        "!pip install torchsummaryX wandb --quiet"
      ]
    },
    {
      "cell_type": "code",
      "execution_count": null,
      "metadata": {
        "colab": {
          "base_uri": "https://localhost:8080/"
        },
        "id": "qI4qfx7tiBZt",
        "outputId": "ebd38c7f-0e56-47b8-f25b-cce03b07be7a"
      },
      "outputs": [
        {
          "output_type": "stream",
          "name": "stdout",
          "text": [
            "Device:  cuda\n"
          ]
        }
      ],
      "source": [
        "import torch\n",
        "import numpy as np\n",
        "from torchsummaryX import summary\n",
        "import sklearn\n",
        "import gc\n",
        "import zipfile\n",
        "import pandas as pd\n",
        "from tqdm.auto import tqdm\n",
        "import os\n",
        "import datetime\n",
        "import wandb\n",
        "device = 'cuda' if torch.cuda.is_available() else 'cpu'\n",
        "print(\"Device: \", device)"
      ]
    },
    {
      "cell_type": "code",
      "execution_count": null,
      "metadata": {
        "id": "8yBgXjKV1O0Z"
      },
      "outputs": [],
      "source": [
        "### If you are using colab, you can import google drive to save model checkpoints in a folder\n",
        "# from google.colab import drive\n",
        "# drive.mount('/content/drive')"
      ]
    },
    {
      "cell_type": "code",
      "execution_count": null,
      "metadata": {
        "id": "N-9qE20hmCgQ"
      },
      "outputs": [],
      "source": [
        "### PHONEME LIST\n",
        "PHONEMES = [\n",
        "            '[SIL]',   'AA',    'AE',    'AH',    'AO',    'AW',    'AY',  \n",
        "            'B',     'CH',    'D',     'DH',    'EH',    'ER',    'EY',\n",
        "            'F',     'G',     'HH',    'IH',    'IY',    'JH',    'K',\n",
        "            'L',     'M',     'N',     'NG',    'OW',    'OY',    'P',\n",
        "            'R',     'S',     'SH',    'T',     'TH',    'UH',    'UW',\n",
        "            'V',     'W',     'Y',     'Z',     'ZH',    '[SOS]', '[EOS]']"
      ]
    },
    {
      "cell_type": "code",
      "source": [
        "Inverse_PHONEMES_MAP = {}\n",
        "for i,p in enumerate(PHONEMES):\n",
        "  Inverse_PHONEMES_MAP[i] = p"
      ],
      "metadata": {
        "id": "DJFEZY3tTDZ2"
      },
      "execution_count": null,
      "outputs": []
    },
    {
      "cell_type": "markdown",
      "metadata": {
        "id": "ZIi0Big7vPa9"
      },
      "source": [
        "# Kaggle"
      ]
    },
    {
      "cell_type": "markdown",
      "metadata": {
        "id": "BBCbeRhixGM7"
      },
      "source": [
        "This section contains code that helps you install kaggle's API, creating kaggle.json with you username and API key details. Make sure to input those in the given code to ensure you can download data from the competition successfully."
      ]
    },
    {
      "cell_type": "code",
      "execution_count": null,
      "metadata": {
        "id": "TPBUd7Cnl-Rx",
        "colab": {
          "base_uri": "https://localhost:8080/"
        },
        "outputId": "d7e7e5e9-b537-478d-e0a4-5cdc227ae75a"
      },
      "outputs": [
        {
          "output_type": "stream",
          "name": "stdout",
          "text": [
            "Looking in indexes: https://pypi.org/simple, https://us-python.pkg.dev/colab-wheels/public/simple/\n",
            "Collecting kaggle==1.5.8\n",
            "  Downloading kaggle-1.5.8.tar.gz (59 kB)\n",
            "\u001b[2K     \u001b[90m━━━━━━━━━━━━━━━━━━━━━━━━━━━━━━━━━━━━━━━━\u001b[0m \u001b[32m59.2/59.2 KB\u001b[0m \u001b[31m2.8 MB/s\u001b[0m eta \u001b[36m0:00:00\u001b[0m\n",
            "\u001b[?25h  Preparing metadata (setup.py) ... \u001b[?25l\u001b[?25hdone\n",
            "Building wheels for collected packages: kaggle\n",
            "  Building wheel for kaggle (setup.py) ... \u001b[?25l\u001b[?25hdone\n",
            "  Created wheel for kaggle: filename=kaggle-1.5.8-py3-none-any.whl size=73274 sha256=3093cb2393abbf5c6497ea086a2f03c8d9885a6cf535a8576a20fe9513b6e0ad\n",
            "  Stored in directory: /root/.cache/pip/wheels/f3/67/7b/a6d668747974998471d29b230e7221dd01330ac34faebe4af4\n",
            "Successfully built kaggle\n",
            "Installing collected packages: kaggle\n",
            "  Attempting uninstall: kaggle\n",
            "    Found existing installation: kaggle 1.5.12\n",
            "    Uninstalling kaggle-1.5.12:\n",
            "      Successfully uninstalled kaggle-1.5.12\n",
            "Successfully installed kaggle-1.5.8\n"
          ]
        }
      ],
      "source": [
        "!pip install --upgrade --force-reinstall --no-deps kaggle==1.5.8\n",
        "!mkdir /root/.kaggle\n",
        "\n",
        "with open(\"/root/.kaggle/kaggle.json\", \"w+\") as f:\n",
        "    f.write('{\"username\":\"yunxingu\",\"key\":\"b0d791b8d8e9237e047196d9e5f3c070\"}') \n",
        "    # Put your kaggle username & key here\n",
        "\n",
        "!chmod 600 /root/.kaggle/kaggle.json"
      ]
    },
    {
      "cell_type": "code",
      "execution_count": null,
      "metadata": {
        "id": "if2Somqfbje1",
        "colab": {
          "base_uri": "https://localhost:8080/"
        },
        "outputId": "9fa8a158-e18a-40ca-9926-d77bcf529034"
      },
      "outputs": [
        {
          "output_type": "stream",
          "name": "stdout",
          "text": [
            "Downloading 11-785-s23-hw1p2.zip to /content\n",
            "100% 16.0G/16.0G [01:18<00:00, 206MB/s]\n",
            "100% 16.0G/16.0G [01:18<00:00, 219MB/s]\n"
          ]
        }
      ],
      "source": [
        "# commands to download data from kaggle\n",
        "\n",
        "!kaggle competitions download -c 11-785-s23-hw1p2\n",
        "!mkdir '/content/data'\n",
        "\n",
        "!unzip -qo '11-785-s23-hw1p2.zip' -d '/content/data'"
      ]
    },
    {
      "cell_type": "code",
      "execution_count": null,
      "metadata": {
        "id": "qf36xpr86bBR"
      },
      "outputs": [],
      "source": [
        "# !mkdir '/content/data'\n",
        "\n",
        "# !unzip -qo '/content/drive/MyDrive/11685/hw1p2/drive-download-20230203T170752Z-001.zip' -d '/content/data'"
      ]
    },
    {
      "cell_type": "code",
      "execution_count": null,
      "metadata": {
        "id": "N0Tz8TJ4gqcT"
      },
      "outputs": [],
      "source": [
        "import random"
      ]
    },
    {
      "cell_type": "markdown",
      "metadata": {
        "id": "Vuzce0_TdcaR"
      },
      "source": [
        "# Dataset"
      ]
    },
    {
      "cell_type": "markdown",
      "metadata": {
        "id": "2_7QgMbBdgPp"
      },
      "source": [
        "This section covers the dataset/dataloader class for speech data. You will have to spend time writing code to create this class successfully. We have given you a lot of comments guiding you on what code to write at each stage, from top to bottom of the class. Please try and take your time figuring this out, as it will immensely help in creating dataset/dataloader classes for future homeworks.\n",
        "\n",
        "Before running the following cells, please take some time to analyse the structure of data. Try loading a single MFCC and its transcipt, print out the shapes and print out the values. Do the transcripts look like phonemes?"
      ]
    },
    {
      "cell_type": "code",
      "source": [],
      "metadata": {
        "id": "UBWtuIImOeOQ"
      },
      "execution_count": null,
      "outputs": []
    },
    {
      "cell_type": "code",
      "execution_count": null,
      "metadata": {
        "id": "1MejN8ABOemb"
      },
      "outputs": [],
      "source": [
        "# Dataset class to load train and validation data\n",
        "\n",
        "class AudioDataset(torch.utils.data.Dataset):\n",
        "\n",
        "    def __init__(self, root, phonemes = PHONEMES, context=0, partition= \"train-clean-100\"): # Feel free to add more arguments\n",
        "\n",
        "        self.context    = context\n",
        "        self.phonemes   = phonemes[:-2]\n",
        "        PHONEMES_MAP = {}\n",
        "        for i,p in enumerate(self.phonemes):\n",
        "          PHONEMES_MAP[p] = i\n",
        "        \n",
        "        \n",
        "        # TODO: MFCC directory - use partition to acces train/dev directories from kaggle data using root\n",
        "        self.mfcc_dir       = root+partition+'/mfcc/' \n",
        "        # TODO: Transcripts directory - use partition to acces train/dev directories from kaggle data using root\n",
        "        self.transcript_dir = root+partition+'/transcript/' \n",
        "\n",
        "        # TODO: List files in sefl.mfcc_dir using os.listdir in sorted order\n",
        "        mfcc_names          =  sorted(os.listdir(self.mfcc_dir))\n",
        "        # TODO: List files in self.transcript_dir using os.listdir in sorted order\n",
        "        transcript_names    =  sorted(os.listdir(self.transcript_dir))\n",
        "\n",
        "        # Making sure that we have the same no. of mfcc and transcripts\n",
        "        assert len(mfcc_names) == len(transcript_names) \n",
        "\n",
        "        length = len(mfcc_names)\n",
        "\n",
        "        T = 0\n",
        "\n",
        "        for i in range(length):\n",
        "          mfcc = np.load(self.mfcc_dir + mfcc_names[i])\n",
        "          T += mfcc.shape[0]\n",
        "        self.mfccs = np.zeros((T+2*context, mfcc.shape[1]), dtype = np.float32)\n",
        "        #  completed padding here\n",
        "        self.transcripts = np.zeros((T,), dtype = np.uint8)\n",
        "\n",
        "        cx, cy = context, 0\n",
        "\n",
        "        # TODO: Iterate through mfccs and transcripts\n",
        "        for i in range(length):\n",
        "        #   Load a single mfcc\n",
        "            mfcc        = np.load(self.mfcc_dir + mfcc_names[i])\n",
        "        #   Do Cepstral Normalization of mfcc (explained in writeup)\n",
        "            normalized_mfcc = (mfcc - np.mean(mfcc, axis = 0))/np.std(mfcc, axis = 0)\n",
        "        #   Load the corresponding transcript\n",
        "            transcript  = np.load(self.transcript_dir + transcript_names[i]) \n",
        "            transcript = transcript[1:-1] # Remove [SOS] and [EOS] from the transcript \n",
        "            \n",
        "            # Note that SOS will always be in the starting and EOS at end, as the name suggests.\n",
        "        #   Append each mfcc to self.mfcc, transcript to self.transcript\n",
        "            transcript = [PHONEMES_MAP[p] for p in transcript]\n",
        "\n",
        "            T_i = mfcc.shape[0]\n",
        "            self.mfccs[cx: cx+T_i] = mfcc\n",
        "            self.transcripts[cy: cy+T_i] = transcript\n",
        "            cx += T_i\n",
        "            cy += T_i      \n",
        "\n",
        "        # NOTE:\n",
        "        # Each mfcc is of shape T1 x 27, T2 x 27, ...\n",
        "        # Each transcript is of shape (T1+2),)( (T2+2),) before removing [SOS] and [EOS]\n",
        "\n",
        "        # Length of the dataset is now the length of concatenated mfccs/transcripts\n",
        "        self.length = T\n",
        "\n",
        "        # self.mfcc is an array of the format (Frames x Features). \n",
        "       \n",
        "        \n",
        "        # Now, if an element in self.transcript is 0, it means that it is 'SIL' (as per the above example)\n",
        "\n",
        "    def __len__(self):\n",
        "        return self.length\n",
        "\n",
        "    def __getitem__(self, ind):\n",
        "\n",
        "        ### Calculate starting timestep using offset and context (1 line)\n",
        "        # start_i = index + self.offset - self.context\n",
        "        start_i = ind - self.context\n",
        "        \n",
        "        ## Calculate ending timestep using offset and context (1 line)\n",
        "        # end_i = index + self.offset + self.context + 1\n",
        "        end_i = ind + self.context + 1\n",
        "\n",
        "        \n",
        "        # TODO: Based on context and offset, return a frame at given index with context frames to the left, and right.\n",
        "        # frames = self.mfccs[start_i:end_i]\n",
        "        frames = self.mfccs[ind:ind+2*self.context+1]\n",
        "        # After slicing, you get an array of shape 2*context+1 x 27. But our MLP needs 1d data and not 2d.\n",
        "        frames = frames.flatten() # TODO: Flatten to get 1d data\n",
        "\n",
        "        frames      = torch.FloatTensor(frames) # Convert to tensors\n",
        "        phonemes    = torch.tensor(self.transcripts[ind])       \n",
        "\n",
        "        return frames, phonemes"
      ]
    },
    {
      "cell_type": "code",
      "execution_count": null,
      "metadata": {
        "id": "YpLCvi3AJC5z"
      },
      "outputs": [],
      "source": [
        "# # Original Dataset class to load train and validation data\n",
        "\n",
        "# class AudioDataset(torch.utils.data.Dataset):\n",
        "\n",
        "#     def __init__(self, root, phonemes = PHONEMES, context=0, partition= \"train-clean-100\"): # Feel free to add more arguments\n",
        "\n",
        "#         self.context    = context\n",
        "#         self.phonemes   = phonemes[:-2]\n",
        "        \n",
        "#         # TODO: MFCC directory - use partition to acces train/dev directories from kaggle data using root\n",
        "#         self.mfcc_dir       = root+partition+'/mfcc/' \n",
        "#         # TODO: Transcripts directory - use partition to acces train/dev directories from kaggle data using root\n",
        "#         self.transcript_dir = root+partition+'/transcript/' \n",
        "\n",
        "#         # TODO: List files in sefl.mfcc_dir using os.listdir in sorted order\n",
        "#         mfcc_names          =  sorted(os.listdir(self.mfcc_dir))\n",
        "#         # TODO: List files in self.transcript_dir using os.listdir in sorted order\n",
        "#         transcript_names    =  sorted(os.listdir(self.transcript_dir))\n",
        "\n",
        "#         # Making sure that we have the same no. of mfcc and transcripts\n",
        "#         assert len(mfcc_names) == len(transcript_names) \n",
        "\n",
        "#         self.mfccs, self.transcripts = [], []\n",
        "\n",
        "#         # TODO: Iterate through mfccs and transcripts\n",
        "#         for i in range(len(mfcc_names)):\n",
        "#         #   Load a single mfcc\n",
        "#             mfcc        = np.load(self.mfcc_dir + mfcc_names[i])\n",
        "#         #   Do Cepstral Normalization of mfcc (explained in writeup)\n",
        "\n",
        "#             normalized_mfcc = (mfcc - np.mean(mfcc, axis = 0))/np.std(mfcc, axis = 0)\n",
        "#         #   Load the corresponding transcript\n",
        "#             transcript  = np.load(self.transcript_dir + transcript_names[i]) \n",
        "#             transcript = transcript[1:-1]\n",
        "\n",
        "#             # Remove [SOS] and [EOS] from the transcript \n",
        "#             # (Is there an efficient way to do this without traversing through the transcript?)\n",
        "#             # Note that SOS will always be in the starting and EOS at end, as the name suggests.\n",
        "#         #   Append each mfcc to self.mfcc, transcript to self.transcript\n",
        "#             self.mfccs.append(mfcc)\n",
        "#             self.transcripts.append(transcript)        \n",
        "\n",
        "#         # NOTE:\n",
        "#         # Each mfcc is of shape T1 x 27, T2 x 27, ...\n",
        "#         # Each transcript is of shape (T1+2),)( (T2+2),) before removing [SOS] and [EOS]\n",
        "\n",
        "#         # TODO: Concatenate all mfccs in self.mfccs such that \n",
        "#         # the final shape is T x 27 (Where T = T1 + T2 + ...) \n",
        "      \n",
        "#         self.mfccs  = np.concatenate(self.mfccs,  axis = 0)\n",
        "\n",
        "#         # TODO: Concatenate all transcripts in self.transcripts such that \n",
        "#         # the final shape is (T,) meaning, each time step has one phoneme output\n",
        "#         self.transcripts    = np.concatenate(self.transcripts,  axis = 0)\n",
        "#         # Hint: Use numpy to concatenate\n",
        "\n",
        "#         # Length of the dataset is now the length of concatenated mfccs/transcripts\n",
        "#         self.length = len(self.mfccs)\n",
        "\n",
        "#         # Take some time to think about what we have done. \n",
        "#         # self.mfcc is an array of the format (Frames x Features). \n",
        "#         # Our goal is to recognize phonemes of each frame\n",
        "#         # From hw0, you will be knowing what context is. \n",
        "#         # We can introduce context by padding zeros on top and bottom of self.mfcc\n",
        "#         self.mfccs = np.pad(self.mfccs, ((context,context),(0,0)), 'constant', constant_values = (0,0))\n",
        "\n",
        "#         # The available phonemes in the transcript are of string data type\n",
        "#         # But the neural network cannot predict strings as such. \n",
        "#         # Hence, we map these phonemes to integers\n",
        "\n",
        "#         # TODO: Map the phonemes to their corresponding list indexes in self.phonemes\n",
        "#         PHONEMES_MAP = {}\n",
        "#         for i,p in enumerate(self.phonemes):\n",
        "#           PHONEMES_MAP[p] = i\n",
        "#         self.transcripts = [PHONEMES_MAP[p] for p in self.transcripts]\n",
        "#         # Now, if an element in self.transcript is 0, it means that it is 'SIL' (as per the above example)\n",
        "\n",
        "#     def __len__(self):\n",
        "#         return self.length\n",
        "\n",
        "#     def __getitem__(self, ind):\n",
        "\n",
        "#         ### Calculate starting timestep using offset and context (1 line)\n",
        "#         # start_i = index + self.offset - self.context\n",
        "#         start_i = ind - self.context\n",
        "        \n",
        "#         ## Calculate ending timestep using offset and context (1 line)\n",
        "#         # end_i = index + self.offset + self.context + 1\n",
        "#         end_i = ind + self.context + 1\n",
        "\n",
        "        \n",
        "#         # TODO: Based on context and offset, return a frame at given index with context frames to the left, and right.\n",
        "#         # frames = self.mfccs[start_i:end_i]\n",
        "#         frames = self.mfccs[ind:ind+2*self.context+1]\n",
        "#         # After slicing, you get an array of shape 2*context+1 x 27. But our MLP needs 1d data and not 2d.\n",
        "#         frames = frames.flatten() # TODO: Flatten to get 1d data\n",
        "\n",
        "#         frames      = torch.FloatTensor(frames) # Convert to tensors\n",
        "#         phonemes    = torch.tensor(self.transcripts[ind])       \n",
        "\n",
        "#         return frames, phonemes"
      ]
    },
    {
      "cell_type": "code",
      "execution_count": null,
      "metadata": {
        "id": "e8KfVP39S6o7"
      },
      "outputs": [],
      "source": [
        "from zmq import Context\n",
        "class AudioTestDataset(torch.utils.data.Dataset):\n",
        "    def __init__(self, root, phonemes = PHONEMES, context=0, partition= \"test-clean\"): # Feel free to add more arguments\n",
        "\n",
        "        self.context    = context\n",
        "        self.phonemes   = phonemes[:-2]\n",
        "        \n",
        "        # TODO: MFCC directory - use partition to acces train/dev directories from kaggle data using root\n",
        "        self.mfcc_dir       = root+partition+'/mfcc/' \n",
        "\n",
        "        # TODO: List files in sefl.mfcc_dir using os.listdir in sorted order\n",
        "        mfcc_names          =  sorted(os.listdir(self.mfcc_dir))\n",
        "\n",
        "        self.mfccs = []\n",
        "\n",
        "        # TODO: Iterate through mfccs and transcripts\n",
        "        for i in range(len(mfcc_names)):\n",
        "        #   Load a single mfcc\n",
        "            mfcc        = np.load(self.mfcc_dir + mfcc_names[i])\n",
        "        #   Do Cepstral Normalization of mfcc (explained in writeup)\n",
        "\n",
        "            normalized_mfcc = (mfcc - np.mean(mfcc))/np.std(mfcc)\n",
        "\n",
        "            # Remove [SOS] and [EOS] from the transcript \n",
        "            # (Is there an efficient way to do this without traversing through the transcript?)\n",
        "            # Note that SOS will always be in the starting and EOS at end, as the name suggests.\n",
        "        #   Append each mfcc to self.mfcc, transcript to self.transcript\n",
        "            self.mfccs.append(mfcc)\n",
        "\n",
        "        # NOTE:\n",
        "        # Each mfcc is of shape T1 x 27, T2 x 27, ...\n",
        "        # Each transcript is of shape (T1+2),)( (T2+2),) before removing [SOS] and [EOS]\n",
        "\n",
        "        # TODO: Concatenate all mfccs in self.mfccs such that \n",
        "        # the final shape is T x 27 (Where T = T1 + T2 + ...) \n",
        "      \n",
        "        self.mfccs  = np.concatenate(self.mfccs,  axis = 0)\n",
        "\n",
        "        # TODO: Concatenate all transcripts in self.transcripts such that \n",
        "        # the final shape is (T,) meaning, each time step has one phoneme output\n",
        "        # Hint: Use numpy to concatenate\n",
        "\n",
        "        # Length of the dataset is now the length of concatenated mfccs/transcripts\n",
        "        self.length = len(self.mfccs)\n",
        "\n",
        "        # Take some time to think about what we have done. \n",
        "        # self.mfcc is an array of the format (Frames x Features). \n",
        "        # Our goal is to recognize phonemes of each frame\n",
        "        # From hw0, you will be knowing what context is. \n",
        "        # We can introduce context by padding zeros on top and bottom of self.mfcc\n",
        "        self.mfccs = np.pad(self.mfccs, ((self.context,self.context), (0,0)), 'constant', constant_values = (0,0))\n",
        "\n",
        "        # The available phonemes in the transcript are of string data type\n",
        "        # But the neural network cannot predict strings as such. \n",
        "        # Hence, we map these phonemes to integers\n",
        "\n",
        "\n",
        "        # Now, if an element in self.transcript is 0, it means that it is 'SIL' (as per the above example)\n",
        "\n",
        "    def __len__(self):\n",
        "        return self.length\n",
        "\n",
        "    def __getitem__(self, ind):\n",
        "\n",
        "        ### Calculate starting timestep using offset and context (1 line)\n",
        "        # start_i = index + self.offset - self.context\n",
        "        start_i = ind - self.context\n",
        "        \n",
        "        ## Calculate ending timestep using offset and context (1 line)\n",
        "        # end_i = index + self.offset + self.context + 1\n",
        "        end_i = ind + self.context + 1\n",
        "\n",
        "        \n",
        "        # TODO: Based on context and offset, return a frame at given index with context frames to the left, and right.\n",
        "        # frames = self.mfccs[start_i:end_i]\n",
        "        frames = self.mfccs[ind:ind+2*self.context+1]\n",
        "        # After slicing, you get an array of shape 2*context+1 x 27. But our MLP needs 1d data and not 2d.\n",
        "        frames = frames.flatten() # TODO: Flatten to get 1d data\n",
        "\n",
        "        frames      = torch.FloatTensor(frames) # Convert to tensors\n",
        "        \n",
        "\n",
        "        return frames\n",
        "\n",
        "    # TODO: Create a test dataset class similar to the previous class but you dont have transcripts for this\n",
        "    # Imp: Read the mfccs in sorted order, do NOT shuffle the data here or in your dataloader."
      ]
    },
    {
      "cell_type": "markdown",
      "metadata": {
        "id": "qNacQ8bpt9nw"
      },
      "source": [
        "# Parameters Configuration"
      ]
    },
    {
      "cell_type": "markdown",
      "metadata": {
        "id": "WE7tsinAuLNy"
      },
      "source": [
        "Storing your parameters and hyperparameters in a single configuration dictionary makes it easier to keep track of them during each experiment. It can also be used with weights and biases to log your parameters for each experiment and keep track of them across multiple experiments. "
      ]
    },
    {
      "cell_type": "code",
      "execution_count": null,
      "metadata": {
        "id": "PmKwlFqgt_Zq"
      },
      "outputs": [],
      "source": [
        "config = {\n",
        "    'epochs'        : 10,\n",
        "    'batch_size'    : 8192,\n",
        "    'context'       : 20,\n",
        "    'init_lr'       : 1e-3,\n",
        "    'dropout_rate': 0.2,\n",
        "    'architecture'  : '2pyramid-8'\n",
        "    # Add more as you need them - e.g dropout values, weight decay, scheduler parameters\n",
        "}"
      ]
    },
    {
      "cell_type": "markdown",
      "metadata": {
        "id": "2mlwaKlDt_2c"
      },
      "source": [
        "# Create Datasets"
      ]
    },
    {
      "cell_type": "code",
      "execution_count": null,
      "metadata": {
        "id": "7xi7V8x8W9z4"
      },
      "outputs": [],
      "source": [
        "#TODO: Create a dataset object using the AudioDataset class for the training data \n",
        "train_data = AudioDataset('/content/data/11-785-s23-hw1p2/', phonemes = PHONEMES, context=config['context'], partition= \"train-clean-360\") \n",
        "\n",
        "# TODO: Create a dataset object using the AudioDataset class for the validation data \n",
        "val_data = AudioDataset('/content/data/11-785-s23-hw1p2/', phonemes = PHONEMES, context=config['context'], partition= \"dev-clean\") \n",
        "\n",
        "# TODO: Create a dataset object using the AudioTestDataset class for the test data \n",
        "test_data = AudioTestDataset('/content/data/11-785-s23-hw1p2/', phonemes = PHONEMES, context=config['context'], partition= \"test-clean\") "
      ]
    },
    {
      "cell_type": "code",
      "source": [
        "# val_data[1]"
      ],
      "metadata": {
        "id": "NSiXGa7xK9ZL"
      },
      "execution_count": null,
      "outputs": []
    },
    {
      "cell_type": "code",
      "source": [
        "# phs = [val_data[i][1].detach().numpy().item() for i in range(len(val_data))]"
      ],
      "metadata": {
        "id": "3IaikIADMQC-"
      },
      "execution_count": null,
      "outputs": []
    },
    {
      "cell_type": "code",
      "source": [
        "# phs = np.array(phs)"
      ],
      "metadata": {
        "id": "7YiRogAmM1Rn"
      },
      "execution_count": null,
      "outputs": []
    },
    {
      "cell_type": "code",
      "source": [
        "# np.sum(phs == 0)"
      ],
      "metadata": {
        "id": "5J9Tw9aFJouL"
      },
      "execution_count": null,
      "outputs": []
    },
    {
      "cell_type": "code",
      "source": [
        "# len(phs)"
      ],
      "metadata": {
        "id": "i4yZfBALM6iG"
      },
      "execution_count": null,
      "outputs": []
    },
    {
      "cell_type": "code",
      "source": [
        "# np.unique(phs,return_counts=True)"
      ],
      "metadata": {
        "id": "oy3BrvK5NHZa"
      },
      "execution_count": null,
      "outputs": []
    },
    {
      "cell_type": "code",
      "execution_count": null,
      "metadata": {
        "id": "4mzoYfTKu14s",
        "colab": {
          "base_uri": "https://localhost:8080/"
        },
        "outputId": "9ddb2a20-3ba9-4282-e34b-88e0b6510770"
      },
      "outputs": [
        {
          "output_type": "stream",
          "name": "stdout",
          "text": [
            "Batch size     :  8192\n",
            "Context        :  20\n",
            "Input size     :  1107\n",
            "Output symbols :  42\n",
            "Train dataset samples = 130453995, batches = 15925\n",
            "Validation dataset samples = 1928204, batches = 236\n",
            "Test dataset samples = 1934138, batches = 237\n"
          ]
        }
      ],
      "source": [
        "# Define dataloaders for train, val and test datasets\n",
        "# Dataloaders will yield a batch of frames and phonemes of given batch_size at every iteration\n",
        "# We shuffle train dataloader but not val & test dataloader. Why?\n",
        "\n",
        "train_loader = torch.utils.data.DataLoader(\n",
        "    dataset     = train_data, \n",
        "    num_workers = 4,\n",
        "    batch_size  = config['batch_size'], \n",
        "    pin_memory  = True,\n",
        "    shuffle     = True\n",
        ")\n",
        "\n",
        "val_loader = torch.utils.data.DataLoader(\n",
        "    dataset     = val_data, \n",
        "    num_workers = 2,\n",
        "    batch_size  = config['batch_size'],\n",
        "    pin_memory  = True,\n",
        "    shuffle     = False\n",
        ")\n",
        "\n",
        "test_loader = torch.utils.data.DataLoader(\n",
        "    dataset     = test_data, \n",
        "    num_workers = 0, \n",
        "    batch_size  = config['batch_size'], \n",
        "    pin_memory  = True, \n",
        "    shuffle     = False\n",
        ")\n",
        "\n",
        "\n",
        "print(\"Batch size     : \", config['batch_size'])\n",
        "print(\"Context        : \", config['context'])\n",
        "print(\"Input size     : \", (2*config['context']+1)*27)\n",
        "print(\"Output symbols : \", len(PHONEMES))\n",
        "\n",
        "print(\"Train dataset samples = {}, batches = {}\".format(train_data.__len__(), len(train_loader)))\n",
        "print(\"Validation dataset samples = {}, batches = {}\".format(val_data.__len__(), len(val_loader)))\n",
        "print(\"Test dataset samples = {}, batches = {}\".format(test_data.__len__(), len(test_loader)))"
      ]
    },
    {
      "cell_type": "code",
      "source": [
        "# test_loader = torch.utils.data.DataLoader(\n",
        "#     dataset     = test_data, \n",
        "#     num_workers = 0, \n",
        "#     batch_size  = config['batch_size'], \n",
        "#     pin_memory  = True, \n",
        "#     shuffle     = False\n",
        "# )"
      ],
      "metadata": {
        "id": "WkSaFJOFMzgB"
      },
      "execution_count": null,
      "outputs": []
    },
    {
      "cell_type": "code",
      "execution_count": null,
      "metadata": {
        "id": "n-GV3UvgLSoF",
        "colab": {
          "base_uri": "https://localhost:8080/"
        },
        "outputId": "94468d0e-64cc-4069-a163-819883edd052"
      },
      "outputs": [
        {
          "output_type": "stream",
          "name": "stdout",
          "text": [
            "torch.Size([8192, 1107]) torch.Size([8192])\n"
          ]
        }
      ],
      "source": [
        "# Testing code to check if your data loaders are working\n",
        "for i, data in enumerate(train_loader):\n",
        "    frames, phoneme = data\n",
        "    print(frames.shape, phoneme.shape)\n",
        "    break"
      ]
    },
    {
      "cell_type": "markdown",
      "metadata": {
        "id": "Nxjwve20JRJ2"
      },
      "source": [
        "# Network Architecture\n"
      ]
    },
    {
      "cell_type": "markdown",
      "metadata": {
        "id": "3NJzT-mRw6iy"
      },
      "source": [
        "This section defines your network architecture for the homework. We have given you a sample architecture that can easily clear the very low cutoff for the early submission deadline."
      ]
    },
    {
      "cell_type": "code",
      "source": [
        "def weights_init(m):\n",
        "    if isinstance(m, torch.nn.Linear):\n",
        "        # torch.nn.init.xavier_uniform(m.weight)\n",
        "        torch.nn.init.kaiming_normal_(m.weight)\n",
        "        m.bias.data.fill_(0.01)\n"
      ],
      "metadata": {
        "id": "yzGT620SmCHQ"
      },
      "execution_count": null,
      "outputs": []
    },
    {
      "cell_type": "code",
      "execution_count": null,
      "metadata": {
        "id": "OvcpontXQq9j"
      },
      "outputs": [],
      "source": [
        "# This architecture will make you cross the very low cutoff\n",
        "# However, you need to run a lot of experiments to cross the medium or high cutoff\n",
        "class Network(torch.nn.Module):\n",
        "\n",
        "    def __init__(self, input_size, output_size):\n",
        "\n",
        "        super(Network, self).__init__()\n",
        "\n",
        "        self.model = torch.nn.Sequential(\n",
        "            torch.nn.Linear(input_size, 512),\n",
        "            torch.nn.BatchNorm1d(512),\n",
        "            torch.nn.GELU(),\n",
        "            torch.nn.Linear(512, 1024),\n",
        "            torch.nn.BatchNorm1d(1024),\n",
        "            torch.nn.GELU(),\n",
        "            torch.nn.Linear(1024, 2048),\n",
        "            torch.nn.BatchNorm1d(2048),\n",
        "            torch.nn.GELU(),\n",
        "            torch.nn.Dropout(config['dropout_rate']),\n",
        "            torch.nn.Linear(2048, 3000),\n",
        "            torch.nn.BatchNorm1d(3000),\n",
        "            torch.nn.GELU(),\n",
        "            torch.nn.Dropout(config['dropout_rate']),\n",
        "            torch.nn.Linear(3000, 2048),\n",
        "            torch.nn.BatchNorm1d(2048),\n",
        "            torch.nn.GELU(),\n",
        "            torch.nn.Linear(2048, 1024),\n",
        "            torch.nn.BatchNorm1d(1024),\n",
        "            torch.nn.GELU(),\n",
        "            torch.nn.Dropout(config['dropout_rate']),\n",
        "            torch.nn.Linear(1024, 512),\n",
        "            torch.nn.BatchNorm1d(512),\n",
        "            torch.nn.GELU(),\n",
        "            torch.nn.Dropout(config['dropout_rate']),\n",
        "            torch.nn.Linear(512, output_size)\n",
        "        )\n",
        "        self.model.apply(weights_init)      \n",
        "\n",
        "    def forward(self, x):\n",
        "        out = self.model(x)\n",
        "\n",
        "        return out"
      ]
    },
    {
      "cell_type": "markdown",
      "metadata": {
        "id": "HejoSXe3vMVU"
      },
      "source": [
        "# Define Model, Loss Function and Optimizer"
      ]
    },
    {
      "cell_type": "markdown",
      "metadata": {
        "id": "xAhGBH7-xxth"
      },
      "source": [
        "Here we define the model, loss function, optimizer and optionally a learning rate scheduler. "
      ]
    },
    {
      "cell_type": "code",
      "execution_count": null,
      "metadata": {
        "id": "_qtrEM1ZvLje",
        "colab": {
          "base_uri": "https://localhost:8080/",
          "height": 1000
        },
        "outputId": "ef2a5bde-43fa-4c95-a2cf-de1caf2b9654"
      },
      "outputs": [
        {
          "output_type": "stream",
          "name": "stdout",
          "text": [
            "=========================================================================\n",
            "                         Kernel Shape  Output Shape     Params  Mult-Adds\n",
            "Layer                                                                    \n",
            "0_model.Linear_0          [1107, 512]   [8192, 512]   567.296k   566.784k\n",
            "1_model.BatchNorm1d_1           [512]   [8192, 512]     1.024k      512.0\n",
            "2_model.GELU_2                      -   [8192, 512]          -          -\n",
            "3_model.Linear_3          [512, 1024]  [8192, 1024]   525.312k   524.288k\n",
            "4_model.BatchNorm1d_4          [1024]  [8192, 1024]     2.048k     1.024k\n",
            "5_model.GELU_5                      -  [8192, 1024]          -          -\n",
            "6_model.Linear_6         [1024, 2048]  [8192, 2048]    2.0992M  2.097152M\n",
            "7_model.BatchNorm1d_7          [2048]  [8192, 2048]     4.096k     2.048k\n",
            "8_model.GELU_8                      -  [8192, 2048]          -          -\n",
            "9_model.Dropout_9                   -  [8192, 2048]          -          -\n",
            "10_model.Linear_10       [2048, 4096]  [8192, 4096]  8.392704M  8.388608M\n",
            "11_model.BatchNorm1d_11        [4096]  [8192, 4096]     8.192k     4.096k\n",
            "12_model.GELU_12                    -  [8192, 4096]          -          -\n",
            "13_model.Dropout_13                 -  [8192, 4096]          -          -\n",
            "14_model.Linear_14       [4096, 2048]  [8192, 2048]  8.390656M  8.388608M\n",
            "15_model.BatchNorm1d_15        [2048]  [8192, 2048]     4.096k     2.048k\n",
            "16_model.GELU_16                    -  [8192, 2048]          -          -\n",
            "17_model.Linear_17       [2048, 1024]  [8192, 1024]  2.098176M  2.097152M\n",
            "18_model.BatchNorm1d_18        [1024]  [8192, 1024]     2.048k     1.024k\n",
            "19_model.GELU_19                    -  [8192, 1024]          -          -\n",
            "20_model.Dropout_20                 -  [8192, 1024]          -          -\n",
            "21_model.Linear_21        [1024, 512]   [8192, 512]     524.8k   524.288k\n",
            "22_model.BatchNorm1d_22         [512]   [8192, 512]     1.024k      512.0\n",
            "23_model.GELU_23                    -   [8192, 512]          -          -\n",
            "24_model.Dropout_24                 -   [8192, 512]          -          -\n",
            "25_model.Linear_25          [512, 40]    [8192, 40]     20.52k     20.48k\n",
            "-------------------------------------------------------------------------\n",
            "                          Totals\n",
            "Total params          22.641192M\n",
            "Trainable params      22.641192M\n",
            "Non-trainable params         0.0\n",
            "Mult-Adds             22.618624M\n",
            "=========================================================================\n"
          ]
        },
        {
          "output_type": "stream",
          "name": "stderr",
          "text": [
            "/usr/local/lib/python3.8/dist-packages/torchsummaryX/torchsummaryX.py:101: FutureWarning: Dropping of nuisance columns in DataFrame reductions (with 'numeric_only=None') is deprecated; in a future version this will raise TypeError.  Select only valid columns before calling the reduction.\n",
            "  df_sum = df.sum()\n"
          ]
        },
        {
          "output_type": "execute_result",
          "data": {
            "text/plain": [
              "                         Kernel Shape  Output Shape     Params  Mult-Adds\n",
              "Layer                                                                    \n",
              "0_model.Linear_0          [1107, 512]   [8192, 512]   567296.0   566784.0\n",
              "1_model.BatchNorm1d_1           [512]   [8192, 512]     1024.0      512.0\n",
              "2_model.GELU_2                      -   [8192, 512]        NaN        NaN\n",
              "3_model.Linear_3          [512, 1024]  [8192, 1024]   525312.0   524288.0\n",
              "4_model.BatchNorm1d_4          [1024]  [8192, 1024]     2048.0     1024.0\n",
              "5_model.GELU_5                      -  [8192, 1024]        NaN        NaN\n",
              "6_model.Linear_6         [1024, 2048]  [8192, 2048]  2099200.0  2097152.0\n",
              "7_model.BatchNorm1d_7          [2048]  [8192, 2048]     4096.0     2048.0\n",
              "8_model.GELU_8                      -  [8192, 2048]        NaN        NaN\n",
              "9_model.Dropout_9                   -  [8192, 2048]        NaN        NaN\n",
              "10_model.Linear_10       [2048, 4096]  [8192, 4096]  8392704.0  8388608.0\n",
              "11_model.BatchNorm1d_11        [4096]  [8192, 4096]     8192.0     4096.0\n",
              "12_model.GELU_12                    -  [8192, 4096]        NaN        NaN\n",
              "13_model.Dropout_13                 -  [8192, 4096]        NaN        NaN\n",
              "14_model.Linear_14       [4096, 2048]  [8192, 2048]  8390656.0  8388608.0\n",
              "15_model.BatchNorm1d_15        [2048]  [8192, 2048]     4096.0     2048.0\n",
              "16_model.GELU_16                    -  [8192, 2048]        NaN        NaN\n",
              "17_model.Linear_17       [2048, 1024]  [8192, 1024]  2098176.0  2097152.0\n",
              "18_model.BatchNorm1d_18        [1024]  [8192, 1024]     2048.0     1024.0\n",
              "19_model.GELU_19                    -  [8192, 1024]        NaN        NaN\n",
              "20_model.Dropout_20                 -  [8192, 1024]        NaN        NaN\n",
              "21_model.Linear_21        [1024, 512]   [8192, 512]   524800.0   524288.0\n",
              "22_model.BatchNorm1d_22         [512]   [8192, 512]     1024.0      512.0\n",
              "23_model.GELU_23                    -   [8192, 512]        NaN        NaN\n",
              "24_model.Dropout_24                 -   [8192, 512]        NaN        NaN\n",
              "25_model.Linear_25          [512, 40]    [8192, 40]    20520.0    20480.0"
            ],
            "text/html": [
              "\n",
              "  <div id=\"df-b4f246f5-6ec6-4175-a18d-c382b66197ff\">\n",
              "    <div class=\"colab-df-container\">\n",
              "      <div>\n",
              "<style scoped>\n",
              "    .dataframe tbody tr th:only-of-type {\n",
              "        vertical-align: middle;\n",
              "    }\n",
              "\n",
              "    .dataframe tbody tr th {\n",
              "        vertical-align: top;\n",
              "    }\n",
              "\n",
              "    .dataframe thead th {\n",
              "        text-align: right;\n",
              "    }\n",
              "</style>\n",
              "<table border=\"1\" class=\"dataframe\">\n",
              "  <thead>\n",
              "    <tr style=\"text-align: right;\">\n",
              "      <th></th>\n",
              "      <th>Kernel Shape</th>\n",
              "      <th>Output Shape</th>\n",
              "      <th>Params</th>\n",
              "      <th>Mult-Adds</th>\n",
              "    </tr>\n",
              "    <tr>\n",
              "      <th>Layer</th>\n",
              "      <th></th>\n",
              "      <th></th>\n",
              "      <th></th>\n",
              "      <th></th>\n",
              "    </tr>\n",
              "  </thead>\n",
              "  <tbody>\n",
              "    <tr>\n",
              "      <th>0_model.Linear_0</th>\n",
              "      <td>[1107, 512]</td>\n",
              "      <td>[8192, 512]</td>\n",
              "      <td>567296.0</td>\n",
              "      <td>566784.0</td>\n",
              "    </tr>\n",
              "    <tr>\n",
              "      <th>1_model.BatchNorm1d_1</th>\n",
              "      <td>[512]</td>\n",
              "      <td>[8192, 512]</td>\n",
              "      <td>1024.0</td>\n",
              "      <td>512.0</td>\n",
              "    </tr>\n",
              "    <tr>\n",
              "      <th>2_model.GELU_2</th>\n",
              "      <td>-</td>\n",
              "      <td>[8192, 512]</td>\n",
              "      <td>NaN</td>\n",
              "      <td>NaN</td>\n",
              "    </tr>\n",
              "    <tr>\n",
              "      <th>3_model.Linear_3</th>\n",
              "      <td>[512, 1024]</td>\n",
              "      <td>[8192, 1024]</td>\n",
              "      <td>525312.0</td>\n",
              "      <td>524288.0</td>\n",
              "    </tr>\n",
              "    <tr>\n",
              "      <th>4_model.BatchNorm1d_4</th>\n",
              "      <td>[1024]</td>\n",
              "      <td>[8192, 1024]</td>\n",
              "      <td>2048.0</td>\n",
              "      <td>1024.0</td>\n",
              "    </tr>\n",
              "    <tr>\n",
              "      <th>5_model.GELU_5</th>\n",
              "      <td>-</td>\n",
              "      <td>[8192, 1024]</td>\n",
              "      <td>NaN</td>\n",
              "      <td>NaN</td>\n",
              "    </tr>\n",
              "    <tr>\n",
              "      <th>6_model.Linear_6</th>\n",
              "      <td>[1024, 2048]</td>\n",
              "      <td>[8192, 2048]</td>\n",
              "      <td>2099200.0</td>\n",
              "      <td>2097152.0</td>\n",
              "    </tr>\n",
              "    <tr>\n",
              "      <th>7_model.BatchNorm1d_7</th>\n",
              "      <td>[2048]</td>\n",
              "      <td>[8192, 2048]</td>\n",
              "      <td>4096.0</td>\n",
              "      <td>2048.0</td>\n",
              "    </tr>\n",
              "    <tr>\n",
              "      <th>8_model.GELU_8</th>\n",
              "      <td>-</td>\n",
              "      <td>[8192, 2048]</td>\n",
              "      <td>NaN</td>\n",
              "      <td>NaN</td>\n",
              "    </tr>\n",
              "    <tr>\n",
              "      <th>9_model.Dropout_9</th>\n",
              "      <td>-</td>\n",
              "      <td>[8192, 2048]</td>\n",
              "      <td>NaN</td>\n",
              "      <td>NaN</td>\n",
              "    </tr>\n",
              "    <tr>\n",
              "      <th>10_model.Linear_10</th>\n",
              "      <td>[2048, 4096]</td>\n",
              "      <td>[8192, 4096]</td>\n",
              "      <td>8392704.0</td>\n",
              "      <td>8388608.0</td>\n",
              "    </tr>\n",
              "    <tr>\n",
              "      <th>11_model.BatchNorm1d_11</th>\n",
              "      <td>[4096]</td>\n",
              "      <td>[8192, 4096]</td>\n",
              "      <td>8192.0</td>\n",
              "      <td>4096.0</td>\n",
              "    </tr>\n",
              "    <tr>\n",
              "      <th>12_model.GELU_12</th>\n",
              "      <td>-</td>\n",
              "      <td>[8192, 4096]</td>\n",
              "      <td>NaN</td>\n",
              "      <td>NaN</td>\n",
              "    </tr>\n",
              "    <tr>\n",
              "      <th>13_model.Dropout_13</th>\n",
              "      <td>-</td>\n",
              "      <td>[8192, 4096]</td>\n",
              "      <td>NaN</td>\n",
              "      <td>NaN</td>\n",
              "    </tr>\n",
              "    <tr>\n",
              "      <th>14_model.Linear_14</th>\n",
              "      <td>[4096, 2048]</td>\n",
              "      <td>[8192, 2048]</td>\n",
              "      <td>8390656.0</td>\n",
              "      <td>8388608.0</td>\n",
              "    </tr>\n",
              "    <tr>\n",
              "      <th>15_model.BatchNorm1d_15</th>\n",
              "      <td>[2048]</td>\n",
              "      <td>[8192, 2048]</td>\n",
              "      <td>4096.0</td>\n",
              "      <td>2048.0</td>\n",
              "    </tr>\n",
              "    <tr>\n",
              "      <th>16_model.GELU_16</th>\n",
              "      <td>-</td>\n",
              "      <td>[8192, 2048]</td>\n",
              "      <td>NaN</td>\n",
              "      <td>NaN</td>\n",
              "    </tr>\n",
              "    <tr>\n",
              "      <th>17_model.Linear_17</th>\n",
              "      <td>[2048, 1024]</td>\n",
              "      <td>[8192, 1024]</td>\n",
              "      <td>2098176.0</td>\n",
              "      <td>2097152.0</td>\n",
              "    </tr>\n",
              "    <tr>\n",
              "      <th>18_model.BatchNorm1d_18</th>\n",
              "      <td>[1024]</td>\n",
              "      <td>[8192, 1024]</td>\n",
              "      <td>2048.0</td>\n",
              "      <td>1024.0</td>\n",
              "    </tr>\n",
              "    <tr>\n",
              "      <th>19_model.GELU_19</th>\n",
              "      <td>-</td>\n",
              "      <td>[8192, 1024]</td>\n",
              "      <td>NaN</td>\n",
              "      <td>NaN</td>\n",
              "    </tr>\n",
              "    <tr>\n",
              "      <th>20_model.Dropout_20</th>\n",
              "      <td>-</td>\n",
              "      <td>[8192, 1024]</td>\n",
              "      <td>NaN</td>\n",
              "      <td>NaN</td>\n",
              "    </tr>\n",
              "    <tr>\n",
              "      <th>21_model.Linear_21</th>\n",
              "      <td>[1024, 512]</td>\n",
              "      <td>[8192, 512]</td>\n",
              "      <td>524800.0</td>\n",
              "      <td>524288.0</td>\n",
              "    </tr>\n",
              "    <tr>\n",
              "      <th>22_model.BatchNorm1d_22</th>\n",
              "      <td>[512]</td>\n",
              "      <td>[8192, 512]</td>\n",
              "      <td>1024.0</td>\n",
              "      <td>512.0</td>\n",
              "    </tr>\n",
              "    <tr>\n",
              "      <th>23_model.GELU_23</th>\n",
              "      <td>-</td>\n",
              "      <td>[8192, 512]</td>\n",
              "      <td>NaN</td>\n",
              "      <td>NaN</td>\n",
              "    </tr>\n",
              "    <tr>\n",
              "      <th>24_model.Dropout_24</th>\n",
              "      <td>-</td>\n",
              "      <td>[8192, 512]</td>\n",
              "      <td>NaN</td>\n",
              "      <td>NaN</td>\n",
              "    </tr>\n",
              "    <tr>\n",
              "      <th>25_model.Linear_25</th>\n",
              "      <td>[512, 40]</td>\n",
              "      <td>[8192, 40]</td>\n",
              "      <td>20520.0</td>\n",
              "      <td>20480.0</td>\n",
              "    </tr>\n",
              "  </tbody>\n",
              "</table>\n",
              "</div>\n",
              "      <button class=\"colab-df-convert\" onclick=\"convertToInteractive('df-b4f246f5-6ec6-4175-a18d-c382b66197ff')\"\n",
              "              title=\"Convert this dataframe to an interactive table.\"\n",
              "              style=\"display:none;\">\n",
              "        \n",
              "  <svg xmlns=\"http://www.w3.org/2000/svg\" height=\"24px\"viewBox=\"0 0 24 24\"\n",
              "       width=\"24px\">\n",
              "    <path d=\"M0 0h24v24H0V0z\" fill=\"none\"/>\n",
              "    <path d=\"M18.56 5.44l.94 2.06.94-2.06 2.06-.94-2.06-.94-.94-2.06-.94 2.06-2.06.94zm-11 1L8.5 8.5l.94-2.06 2.06-.94-2.06-.94L8.5 2.5l-.94 2.06-2.06.94zm10 10l.94 2.06.94-2.06 2.06-.94-2.06-.94-.94-2.06-.94 2.06-2.06.94z\"/><path d=\"M17.41 7.96l-1.37-1.37c-.4-.4-.92-.59-1.43-.59-.52 0-1.04.2-1.43.59L10.3 9.45l-7.72 7.72c-.78.78-.78 2.05 0 2.83L4 21.41c.39.39.9.59 1.41.59.51 0 1.02-.2 1.41-.59l7.78-7.78 2.81-2.81c.8-.78.8-2.07 0-2.86zM5.41 20L4 18.59l7.72-7.72 1.47 1.35L5.41 20z\"/>\n",
              "  </svg>\n",
              "      </button>\n",
              "      \n",
              "  <style>\n",
              "    .colab-df-container {\n",
              "      display:flex;\n",
              "      flex-wrap:wrap;\n",
              "      gap: 12px;\n",
              "    }\n",
              "\n",
              "    .colab-df-convert {\n",
              "      background-color: #E8F0FE;\n",
              "      border: none;\n",
              "      border-radius: 50%;\n",
              "      cursor: pointer;\n",
              "      display: none;\n",
              "      fill: #1967D2;\n",
              "      height: 32px;\n",
              "      padding: 0 0 0 0;\n",
              "      width: 32px;\n",
              "    }\n",
              "\n",
              "    .colab-df-convert:hover {\n",
              "      background-color: #E2EBFA;\n",
              "      box-shadow: 0px 1px 2px rgba(60, 64, 67, 0.3), 0px 1px 3px 1px rgba(60, 64, 67, 0.15);\n",
              "      fill: #174EA6;\n",
              "    }\n",
              "\n",
              "    [theme=dark] .colab-df-convert {\n",
              "      background-color: #3B4455;\n",
              "      fill: #D2E3FC;\n",
              "    }\n",
              "\n",
              "    [theme=dark] .colab-df-convert:hover {\n",
              "      background-color: #434B5C;\n",
              "      box-shadow: 0px 1px 3px 1px rgba(0, 0, 0, 0.15);\n",
              "      filter: drop-shadow(0px 1px 2px rgba(0, 0, 0, 0.3));\n",
              "      fill: #FFFFFF;\n",
              "    }\n",
              "  </style>\n",
              "\n",
              "      <script>\n",
              "        const buttonEl =\n",
              "          document.querySelector('#df-b4f246f5-6ec6-4175-a18d-c382b66197ff button.colab-df-convert');\n",
              "        buttonEl.style.display =\n",
              "          google.colab.kernel.accessAllowed ? 'block' : 'none';\n",
              "\n",
              "        async function convertToInteractive(key) {\n",
              "          const element = document.querySelector('#df-b4f246f5-6ec6-4175-a18d-c382b66197ff');\n",
              "          const dataTable =\n",
              "            await google.colab.kernel.invokeFunction('convertToInteractive',\n",
              "                                                     [key], {});\n",
              "          if (!dataTable) return;\n",
              "\n",
              "          const docLinkHtml = 'Like what you see? Visit the ' +\n",
              "            '<a target=\"_blank\" href=https://colab.research.google.com/notebooks/data_table.ipynb>data table notebook</a>'\n",
              "            + ' to learn more about interactive tables.';\n",
              "          element.innerHTML = '';\n",
              "          dataTable['output_type'] = 'display_data';\n",
              "          await google.colab.output.renderOutput(dataTable, element);\n",
              "          const docLink = document.createElement('div');\n",
              "          docLink.innerHTML = docLinkHtml;\n",
              "          element.appendChild(docLink);\n",
              "        }\n",
              "      </script>\n",
              "    </div>\n",
              "  </div>\n",
              "  "
            ]
          },
          "metadata": {},
          "execution_count": 21
        }
      ],
      "source": [
        "INPUT_SIZE  = (2*config['context'] + 1) * 27 # Why is this the case?\n",
        "model       = Network(INPUT_SIZE, len(train_data.phonemes)).to(device)\n",
        "summary(model, frames.to(device))\n",
        "# Check number of parameters of your network\n",
        "# Remember, you are limited to 20 million parameters for HW1 (including ensembles)"
      ]
    },
    {
      "cell_type": "code",
      "source": [
        "# pretrained_model = torch.load('/content/model.pt')"
      ],
      "metadata": {
        "id": "v_gd4ozHHWgi"
      },
      "execution_count": null,
      "outputs": []
    },
    {
      "cell_type": "code",
      "execution_count": null,
      "metadata": {
        "id": "UROGEVJevKD-"
      },
      "outputs": [],
      "source": [
        "criterion = torch.nn.CrossEntropyLoss() # Defining Loss function. \n",
        "# We use CE because the task is multi-class classification \n",
        "\n",
        "optimizer = torch.optim.Adam(model.parameters(), lr= config['init_lr']) #Defining Optimizer\n",
        "scheduler = torch.optim.lr_scheduler.CosineAnnealingLR(optimizer, T_max = 20, eta_min = 1e-4)\n",
        "# scheduler = torch.optim.lr_scheduler.ReduceLROnPlateau(optimizer, 'min')\n",
        "\n",
        "# Recommended : Define Scheduler for Learning Rate, \n",
        "# including but not limited to StepLR, MultiStepLR, CosineAnnealingLR, ReduceLROnPlateau, etc. \n",
        "# You can refer to Pytorch documentation for more information on how to use them.\n",
        "\n",
        "scaler = torch.cuda.amp.GradScaler()\n",
        "# Is your training time very high? \n",
        "# Look into mixed precision training if your GPU (Tesla T4, V100, etc) can make use of it \n",
        "# Refer - https://pytorch.org/docs/stable/notes/amp_examples.html"
      ]
    },
    {
      "cell_type": "markdown",
      "metadata": {
        "id": "IBwunYpyugFg"
      },
      "source": [
        "# Training and Validation Functions"
      ]
    },
    {
      "cell_type": "markdown",
      "metadata": {
        "id": "1JgeNhx4x2-P"
      },
      "source": [
        "This section covers the training, and validation functions for each epoch of running your experiment with a given model architecture. The code has been provided to you, but we recommend going through the comments to understand the workflow to enable you to write these loops for future HWs."
      ]
    },
    {
      "cell_type": "code",
      "execution_count": null,
      "metadata": {
        "id": "XblOHEVtKab2",
        "colab": {
          "base_uri": "https://localhost:8080/"
        },
        "outputId": "2672aa2b-c289-472f-ee44-b6df59923fbb"
      },
      "outputs": [
        {
          "output_type": "execute_result",
          "data": {
            "text/plain": [
              "1197"
            ]
          },
          "metadata": {},
          "execution_count": 24
        }
      ],
      "source": [
        "torch.cuda.empty_cache()\n",
        "gc.collect()"
      ]
    },
    {
      "cell_type": "code",
      "execution_count": null,
      "metadata": {
        "id": "8wjPz7DHqKcL"
      },
      "outputs": [],
      "source": [
        "# from torch.optim import lr_scheduler\n",
        "def train(model, dataloader, optimizer, criterion):\n",
        "\n",
        "    model.train()\n",
        "    tloss, tacc = 0, 0 # Monitoring loss and accuracy\n",
        "    batch_bar   = tqdm(total=len(train_loader), dynamic_ncols=True, leave=False, position=0, desc='Train')\n",
        "    lr_schedule = []\n",
        "    \n",
        "    for i, (frames, phonemes) in enumerate(dataloader):\n",
        "        \n",
        "        ### Initialize Gradients\n",
        "        optimizer.zero_grad()\n",
        "\n",
        "        with torch.autocast(device_type='cuda', dtype=torch.float16):\n",
        "\n",
        "          ### Move Data to Device (Ideally GPU)\n",
        "          frames      = frames.to(device)\n",
        "          phonemes    = phonemes.to(device)\n",
        "\n",
        "          ### Forward Propagation\n",
        "          logits  = model(frames)\n",
        "\n",
        "          ### Loss Calculation\n",
        "          loss    = criterion(logits, phonemes)\n",
        "\n",
        "        ### Backward Propagation\n",
        "        # loss.backward() \n",
        "        scaler.scale(loss).backward()\n",
        "        \n",
        "        ### Gradient Descent\n",
        "        # optimizer.step() \n",
        "        scaler.step(optimizer)  \n",
        "\n",
        "        tloss   += loss.item()\n",
        "        tacc    += torch.sum(torch.argmax(logits, dim= 1) == phonemes).item()/logits.shape[0]\n",
        "\n",
        "        batch_bar.set_postfix(loss=\"{:.04f}\".format(float(tloss / (i + 1))), \n",
        "                              acc=\"{:.04f}%\".format(float(tacc*100 / (i + 1))))\n",
        "        batch_bar.update()\n",
        "        # scaler.update()\n",
        "\n",
        "\n",
        "        ### Release memory\n",
        "        del frames, phonemes, logits\n",
        "        torch.cuda.empty_cache()\n",
        "  \n",
        "    batch_bar.close()\n",
        "    tloss   /= len(train_loader)\n",
        "    tacc    /= len(train_loader)\n",
        "\n",
        "    return tloss, tacc"
      ]
    },
    {
      "cell_type": "code",
      "execution_count": null,
      "metadata": {
        "id": "Q5npQNFH315V"
      },
      "outputs": [],
      "source": [
        "def eval(model, dataloader):\n",
        "\n",
        "    model.eval() # set model in evaluation mode\n",
        "    vloss, vacc = 0, 0 # Monitoring loss and accuracy\n",
        "    batch_bar   = tqdm(total=len(val_loader), dynamic_ncols=True, position=0, leave=False, desc='Val')\n",
        "\n",
        "    for i, (frames, phonemes) in enumerate(dataloader):\n",
        "\n",
        "        ### Move data to device (ideally GPU)\n",
        "        frames      = frames.to(device)\n",
        "        phonemes    = phonemes.to(device)\n",
        "\n",
        "        # makes sure that there are no gradients computed as we are not training the model now\n",
        "        with torch.inference_mode(): \n",
        "            ### Forward Propagation\n",
        "            logits  = model(frames)\n",
        "            ### Loss Calculation\n",
        "            loss    = criterion(logits, phonemes)\n",
        "\n",
        "        vloss   += loss.item()\n",
        "        vacc    += torch.sum(torch.argmax(logits, dim= 1) == phonemes).item()/logits.shape[0]\n",
        "        \n",
        "        # Do you think we need loss.backward() and optimizer.step() here?\n",
        "\n",
        "        batch_bar.set_postfix(loss=\"{:.04f}\".format(float(vloss / (i + 1))), \n",
        "                              acc=\"{:.04f}%\".format(float(vacc*100 / (i + 1))))\n",
        "        batch_bar.update()\n",
        "    \n",
        "        ### Release memory\n",
        "        del frames, phonemes, logits\n",
        "        torch.cuda.empty_cache()\n",
        "\n",
        "    batch_bar.close()\n",
        "    vloss   /= len(val_loader)\n",
        "    vacc    /= len(val_loader)\n",
        "\n",
        "    return vloss, vacc"
      ]
    },
    {
      "cell_type": "markdown",
      "metadata": {
        "id": "yMd_XxPku5qp"
      },
      "source": [
        "# Weights and Biases Setup"
      ]
    },
    {
      "cell_type": "markdown",
      "metadata": {
        "id": "tjIbhR1wwbgI"
      },
      "source": [
        "This section is to enable logging metrics and files with Weights and Biases. Please refer to wandb documentationa and recitation 0 that covers the use of weights and biases for logging, hyperparameter tuning and monitoring your runs for your homeworks. Using this tool makes it very easy to show results when submitting your code and models for homeworks, and also extremely useful for study groups to organize and run ablations under a single team in wandb. \n",
        "\n",
        "We have written code for you to make use of it out of the box, so that you start using wandb for all your HWs from the beginning."
      ]
    },
    {
      "cell_type": "code",
      "execution_count": null,
      "metadata": {
        "id": "SCDYx5VEu6qI",
        "colab": {
          "base_uri": "https://localhost:8080/"
        },
        "outputId": "fc3464c9-5b1f-40cf-fbb0-4f5cb51e2a00"
      },
      "outputs": [
        {
          "output_type": "stream",
          "name": "stderr",
          "text": [
            "ERROR:wandb.jupyter:Failed to detect the name of this notebook, you can set it manually with the WANDB_NOTEBOOK_NAME environment variable to enable code saving.\n",
            "\u001b[34m\u001b[1mwandb\u001b[0m: Currently logged in as: \u001b[33msilviagu\u001b[0m (\u001b[33m11785-team\u001b[0m). Use \u001b[1m`wandb login --relogin`\u001b[0m to force relogin\n",
            "\u001b[34m\u001b[1mwandb\u001b[0m: \u001b[33mWARNING\u001b[0m If you're specifying your api key in code, ensure this code is not shared publicly.\n",
            "\u001b[34m\u001b[1mwandb\u001b[0m: \u001b[33mWARNING\u001b[0m Consider setting the WANDB_API_KEY environment variable, or running `wandb login` from the command line.\n",
            "\u001b[34m\u001b[1mwandb\u001b[0m: Appending key for api.wandb.ai to your netrc file: /root/.netrc\n"
          ]
        },
        {
          "output_type": "execute_result",
          "data": {
            "text/plain": [
              "True"
            ]
          },
          "metadata": {},
          "execution_count": 27
        }
      ],
      "source": [
        "wandb.login(key=\"eac70e317e1b0b232f1e96dda29ff11405e8b4bc\") #API Key is in your wandb account, under settings (wandb.ai/settings)"
      ]
    },
    {
      "cell_type": "code",
      "execution_count": null,
      "metadata": {
        "id": "xvUnYd3Bw2up",
        "colab": {
          "base_uri": "https://localhost:8080/",
          "height": 104
        },
        "outputId": "ae535b63-3495-42a0-9811-2bab6649be83"
      },
      "outputs": [
        {
          "output_type": "display_data",
          "data": {
            "text/plain": [
              "<IPython.core.display.HTML object>"
            ],
            "text/html": [
              "Tracking run with wandb version 0.13.10"
            ]
          },
          "metadata": {}
        },
        {
          "output_type": "display_data",
          "data": {
            "text/plain": [
              "<IPython.core.display.HTML object>"
            ],
            "text/html": [
              "Run data is saved locally in <code>/content/wandb/run-20230216_220656-iutfdrm7</code>"
            ]
          },
          "metadata": {}
        },
        {
          "output_type": "display_data",
          "data": {
            "text/plain": [
              "<IPython.core.display.HTML object>"
            ],
            "text/html": [
              "Syncing run <strong><a href='https://wandb.ai/11785-team/hw1p2/runs/iutfdrm7' target=\"_blank\">silvia-8diamonds-GELU-batchnorm-dropout-kaiming-Annealing-360</a></strong> to <a href='https://wandb.ai/11785-team/hw1p2' target=\"_blank\">Weights & Biases</a> (<a href='https://wandb.me/run' target=\"_blank\">docs</a>)<br/>"
            ]
          },
          "metadata": {}
        },
        {
          "output_type": "display_data",
          "data": {
            "text/plain": [
              "<IPython.core.display.HTML object>"
            ],
            "text/html": [
              " View project at <a href='https://wandb.ai/11785-team/hw1p2' target=\"_blank\">https://wandb.ai/11785-team/hw1p2</a>"
            ]
          },
          "metadata": {}
        },
        {
          "output_type": "display_data",
          "data": {
            "text/plain": [
              "<IPython.core.display.HTML object>"
            ],
            "text/html": [
              " View run at <a href='https://wandb.ai/11785-team/hw1p2/runs/iutfdrm7' target=\"_blank\">https://wandb.ai/11785-team/hw1p2/runs/iutfdrm7</a>"
            ]
          },
          "metadata": {}
        }
      ],
      "source": [
        "# Create your wandb run\n",
        "run = wandb.init(\n",
        "    name    = \"silvia-8diamonds-GELU-batchnorm-dropout-kaiming-Annealing-360\", ### Wandb creates random run names if you skip this field, we recommend you give useful names\n",
        "    reinit  = True, ### Allows reinitalizing runs when you re-run this cell\n",
        "    #id     = \"y28t31uz\", ### Insert specific run id here if you want to resume a previous run\n",
        "    #resume = \"must\", ### You need this to resume previous runs, but comment out reinit = True when using this\n",
        "    project = \"hw1p2\", ### Project should be created in your wandb account \n",
        "    config  = config ### Wandb Config for your run\n",
        ")"
      ]
    },
    {
      "cell_type": "code",
      "execution_count": null,
      "metadata": {
        "id": "wft15E_IxYFi",
        "colab": {
          "base_uri": "https://localhost:8080/"
        },
        "outputId": "abbae665-7c38-44a9-93b4-c2d31350df93"
      },
      "outputs": [
        {
          "output_type": "execute_result",
          "data": {
            "text/plain": [
              "[]"
            ]
          },
          "metadata": {},
          "execution_count": 29
        }
      ],
      "source": [
        "### Save your model architecture as a string with str(model) \n",
        "model_arch  = str(model)\n",
        "\n",
        "### Save it in a txt file \n",
        "arch_file   = open(\"8diamond-LRelu-batchnorm-dropout-kaiming.txt\", \"w\")\n",
        "file_write  = arch_file.write(model_arch)\n",
        "arch_file.close()\n",
        "\n",
        "### log it in your wandb run with wandb.save()\n",
        "wandb.save('8dpyramids-GELU-batchnorm-dropout.txt')"
      ]
    },
    {
      "cell_type": "markdown",
      "metadata": {
        "id": "nclx_04fu7Dd"
      },
      "source": [
        "# Experiment"
      ]
    },
    {
      "cell_type": "markdown",
      "metadata": {
        "id": "MdLMWfEpyGOB"
      },
      "source": [
        "Now, it is time to finally run your ablations! Have fun!"
      ]
    },
    {
      "cell_type": "code",
      "source": [
        "\n",
        "def save_ckp(state, is_best, checkpoint_path, best_model_path):\n",
        "    \"\"\"\n",
        "    state: checkpoint we want to save\n",
        "    is_best: is this the best checkpoint; min validation loss\n",
        "    checkpoint_path: path to save checkpoint\n",
        "    best_model_path: path to save best model\n",
        "    \"\"\"\n",
        "    f_path = checkpoint_path\n",
        "    # save checkpoint data to the path given, checkpoint_path\n",
        "    torch.save(state, f_path)\n",
        "    # if it is a best model, min validation loss\n",
        "    if is_best:\n",
        "        best_fpath = best_model_path\n",
        "        # copy that checkpoint file to best path given, best_model_path\n",
        "        shutil.copyfile(f_path, best_fpath)"
      ],
      "metadata": {
        "id": "3rWJOg3Sj-Fc"
      },
      "execution_count": null,
      "outputs": []
    },
    {
      "cell_type": "code",
      "execution_count": null,
      "metadata": {
        "id": "MG4F77Nm0Am9",
        "colab": {
          "base_uri": "https://localhost:8080/",
          "height": 406,
          "referenced_widgets": [
            "e9a345b29c154e0b882ece1c57b528c7",
            "27495865e8734d499c731493f1603820",
            "c1d5e75f136d4e30b4eeb5f2baa62360",
            "118c889a6dab4f4187ee5955c9c0a6ef",
            "1a10de5511a24c06b727fe1d7f4b87fd",
            "5c627339346f4c6493506655f52d7513",
            "c15bcd185ae74b4dacd33f5da0022dbf",
            "c9bba264c33a4bc0a95c66891ed25964",
            "fa67143c4caf4aa0bcec83e32f3bf8ec",
            "5755fd1d993442fa8a06e4026b6bb2d1",
            "4e86d0aabb2243249803b5d13438c6b4",
            "c480b259be7c42f7bcfc8b0480fac359",
            "404bba34ae36487188736df6f9cde87f",
            "5638638408474adeb3f0347a870bacf0",
            "fddfc843fd4a49b2b9f5ec3291798aa1",
            "053fc6ec719e4755976da16233b0e61a",
            "fe23b82e93af4df0beb2e9717cdd7add"
          ]
        },
        "outputId": "5d05c3a7-1e0b-417a-8724-7fce01d6b9c4"
      },
      "outputs": [
        {
          "metadata": {
            "tags": null
          },
          "name": "stdout",
          "output_type": "stream",
          "text": [
            "\n",
            "Epoch 1/10\n"
          ]
        },
        {
          "data": {
            "application/vnd.jupyter.widget-view+json": {
              "model_id": "e9a345b29c154e0b882ece1c57b528c7",
              "version_major": 2,
              "version_minor": 0
            },
            "text/plain": [
              "Train:   0%|          | 0/15925 [00:00<?, ?it/s]"
            ]
          },
          "metadata": {},
          "output_type": "display_data"
        },
        {
          "data": {
            "application/vnd.jupyter.widget-view+json": {
              "model_id": "c480b259be7c42f7bcfc8b0480fac359",
              "version_major": 2,
              "version_minor": 0
            },
            "text/plain": [
              "Val:   0%|          | 0/236 [00:00<?, ?it/s]"
            ]
          },
          "metadata": {},
          "output_type": "display_data"
        },
        {
          "metadata": {
            "tags": null
          },
          "name": "stdout",
          "output_type": "stream",
          "text": [
            "\tTrain Acc 80.5680%\tTrain Loss 0.5846\t Learning Rate 0.0010000\n",
            "\tVal Acc 83.6381%\tVal Loss 0.4792\n",
            "\n",
            "Epoch 2/10\n"
          ]
        },
        {
          "data": {
            "application/vnd.jupyter.widget-view+json": {
              "model_id": "404bba34ae36487188736df6f9cde87f",
              "version_major": 2,
              "version_minor": 0
            },
            "text/plain": [
              "Train:   0%|          | 0/15925 [00:00<?, ?it/s]"
            ]
          },
          "metadata": {},
          "output_type": "display_data"
        },
        {
          "data": {
            "application/vnd.jupyter.widget-view+json": {
              "model_id": "5638638408474adeb3f0347a870bacf0",
              "version_major": 2,
              "version_minor": 0
            },
            "text/plain": [
              "Val:   0%|          | 0/236 [00:00<?, ?it/s]"
            ]
          },
          "metadata": {},
          "output_type": "display_data"
        },
        {
          "metadata": {
            "tags": null
          },
          "name": "stdout",
          "output_type": "stream",
          "text": [
            "\tTrain Acc 85.1732%\tTrain Loss 0.4301\t Learning Rate 0.0009945\n",
            "\tVal Acc 85.0488%\tVal Loss 0.4353\n",
            "\n",
            "Epoch 3/10\n"
          ]
        },
        {
          "data": {
            "application/vnd.jupyter.widget-view+json": {
              "model_id": "fddfc843fd4a49b2b9f5ec3291798aa1",
              "version_major": 2,
              "version_minor": 0
            },
            "text/plain": [
              "Train:   0%|          | 0/15925 [00:00<?, ?it/s]"
            ]
          },
          "metadata": {},
          "output_type": "display_data"
        },
        {
          "data": {
            "application/vnd.jupyter.widget-view+json": {
              "model_id": "053fc6ec719e4755976da16233b0e61a",
              "version_major": 2,
              "version_minor": 0
            },
            "text/plain": [
              "Val:   0%|          | 0/236 [00:00<?, ?it/s]"
            ]
          },
          "metadata": {},
          "output_type": "display_data"
        },
        {
          "metadata": {
            "tags": null
          },
          "name": "stdout",
          "output_type": "stream",
          "text": [
            "\tTrain Acc 86.4411%\tTrain Loss 0.3873\t Learning Rate 0.0009780\n",
            "\tVal Acc 85.6087%\tVal Loss 0.4197\n",
            "\n",
            "Epoch 4/10\n"
          ]
        },
        {
          "data": {
            "application/vnd.jupyter.widget-view+json": {
              "model_id": "fe23b82e93af4df0beb2e9717cdd7add",
              "version_major": 2,
              "version_minor": 0
            },
            "text/plain": [
              "Train:   0%|          | 0/15925 [00:00<?, ?it/s]"
            ]
          },
          "metadata": {},
          "output_type": "display_data"
        }
      ],
      "source": [
        "# Iterate over number of epochs to train and evaluate your model\n",
        "torch.cuda.empty_cache()\n",
        "gc.collect()\n",
        "wandb.watch(model, log=\"all\")\n",
        "\n",
        "\n",
        "\n",
        "\n",
        "for epoch in range(config['epochs']):\n",
        "\n",
        "    print(\"\\nEpoch {}/{}\".format(epoch+1, config['epochs']))\n",
        "\n",
        "    curr_lr                 = float(optimizer.param_groups[0]['lr'])\n",
        "    train_loss, train_acc   = train(model, train_loader, optimizer, criterion)\n",
        "    scheduler.step()\n",
        "    val_loss, val_acc       = eval(model, val_loader)\n",
        "\n",
        "    # scheduler.step(val_loss) # for reduce plateu\n",
        "\n",
        "    print(\"\\tTrain Acc {:.04f}%\\tTrain Loss {:.04f}\\t Learning Rate {:.07f}\".format(train_acc*100, train_loss, curr_lr))\n",
        "    print(\"\\tVal Acc {:.04f}%\\tVal Loss {:.04f}\".format(val_acc*100, val_loss))\n",
        "\n",
        "    ### Log metrics at each epoch in your run \n",
        "    # Optionally, you can log at each batch inside train/eval functions \n",
        "    # (explore wandb documentation/wandb recitation)\n",
        "    wandb.log({'train_acc': train_acc*100, 'train_loss': train_loss, \n",
        "               'val_acc': val_acc*100, 'valid_loss': val_loss, 'lr': curr_lr})\n",
        "\n",
        "    ### Highly Recommended: Save checkpoint in drive and/or wandb if accuracy is better than your current best\n",
        "    torch.save({'epoch': epoch,\n",
        "              'model_state_dict': model.state_dict(),\n",
        "              'optimizer_state_dict': optimizer.state_dict(),\n",
        "              'scheduler_state_dict' : scheduler.state_dict(),\n",
        "              'loss': val_loss}, \n",
        "        '/content/model.pt')\n",
        "    # torch.save(model.state_dict(), '/content/model.pt')\n",
        "\n",
        "### Finish your wandb run\n",
        "run.finish()"
      ]
    },
    {
      "cell_type": "code",
      "source": [
        "#tips: ReduceLROnPlateau scheduler with Gelu, deeper network-consider stacking pyramids, "
      ],
      "metadata": {
        "id": "uQ_bbzz7qYqH"
      },
      "execution_count": null,
      "outputs": []
    },
    {
      "cell_type": "markdown",
      "metadata": {
        "id": "_kXwf5YUo_4A"
      },
      "source": [
        "# Testing and submission to Kaggle"
      ]
    },
    {
      "cell_type": "markdown",
      "metadata": {
        "id": "WI1hSFYLpJvH"
      },
      "source": [
        "Before we get to the following code, make sure to see the format of submission given in *sample_submission.csv*. Once you have done so, it is time to fill the following function to complete your inference on test data. Refer the eval function from previous cells to get an idea of how to go about completing this function."
      ]
    },
    {
      "cell_type": "code",
      "execution_count": null,
      "metadata": {
        "id": "R-SU9fZ3xHtk"
      },
      "outputs": [],
      "source": [
        "def test(model, test_loader):\n",
        "    ### What you call for model to perform inference?\n",
        "    model.eval() # TODO train or eval?\n",
        "\n",
        "    ### List to store predicted phonemes of test data\n",
        "    test_predictions = []\n",
        "\n",
        "    ### Which mode do you need to avoid gradients?\n",
        "    # with torch.inference_mode(): # TODO\n",
        "    with torch.no_grad():\n",
        "\n",
        "        for i, mfccs in enumerate(tqdm(test_loader)):\n",
        "            # print(i, mfccs)\n",
        "\n",
        "            mfccs   = mfccs.to(device)             \n",
        "            \n",
        "            logits  = model(mfccs)\n",
        "\n",
        "            ### Get most likely predicted phoneme with argmax\n",
        "            \n",
        "            predicted_phonemes = torch.argmax(logits, dim= 1)\n",
        "            predicted_phonemes_array = predicted_phonemes.cpu().detach().numpy()\n",
        "            # print(predicted_phonemes_array)\n",
        "\n",
        "            ### How do you store predicted_phonemes with test_predictions? Hint, look at eval \n",
        "            test_predictions = test_predictions + predicted_phonemes_array.tolist()\n",
        "\n",
        "    return test_predictions"
      ]
    },
    {
      "cell_type": "code",
      "source": [
        "wandb.finish()"
      ],
      "metadata": {
        "id": "wiN3VgecJjZb"
      },
      "execution_count": null,
      "outputs": []
    },
    {
      "cell_type": "code",
      "source": [
        "wandb.init(mode=\"disabled\")"
      ],
      "metadata": {
        "id": "sO65okbZJjP9"
      },
      "execution_count": null,
      "outputs": []
    },
    {
      "cell_type": "code",
      "execution_count": null,
      "metadata": {
        "id": "wG9v6Xmxu7wp"
      },
      "outputs": [],
      "source": [
        "predictions = test(model, test_loader)"
      ]
    },
    {
      "cell_type": "code",
      "source": [
        "prediction_labels = [Inverse_PHONEMES_MAP[i] for i in predictions]"
      ],
      "metadata": {
        "id": "1VEWbOGLCzVH"
      },
      "execution_count": null,
      "outputs": []
    },
    {
      "cell_type": "code",
      "execution_count": null,
      "metadata": {
        "id": "ZE1hRnvf0bFz"
      },
      "outputs": [],
      "source": [
        "### Create CSV file with predictions\n",
        "with open(\"/content/data/11-785-s23-hw1p2/submission.csv\", \"w+\") as f:\n",
        "    f.write(\"id,label\\n\")\n",
        "    for i in range(len(prediction_labels)):\n",
        "        f.write(\"{},{}\\n\".format(i, prediction_labels[i]))"
      ]
    },
    {
      "cell_type": "code",
      "execution_count": null,
      "metadata": {
        "id": "LjcammuCxMKN"
      },
      "outputs": [],
      "source": [
        "## Submit to kaggle competition using kaggle API (Uncomment below to use)\n",
        "!kaggle competitions submit -c 11-785-s23-hw1p2 -f /content/data/11-785-s23-hw1p2/submission.csv -m \"Test Submission\"\n",
        "\n",
        "### However, its always safer to download the csv file and then upload to kaggle"
      ]
    }
  ],
  "metadata": {
    "accelerator": "GPU",
    "colab": {
      "machine_shape": "hm",
      "provenance": []
    },
    "gpuClass": "standard",
    "kernelspec": {
      "display_name": "Python 3.9.10 64-bit",
      "language": "python",
      "name": "python3"
    },
    "language_info": {
      "name": "python",
      "version": "3.9.10"
    },
    "vscode": {
      "interpreter": {
        "hash": "b0fa6594d8f4cbf19f97940f81e996739fb7646882a419484c72d19e05852a7e"
      }
    },
    "widgets": {
      "application/vnd.jupyter.widget-state+json": {
        "e9a345b29c154e0b882ece1c57b528c7": {
          "model_module": "@jupyter-widgets/controls",
          "model_name": "HBoxModel",
          "model_module_version": "1.5.0",
          "state": {
            "_dom_classes": [],
            "_model_module": "@jupyter-widgets/controls",
            "_model_module_version": "1.5.0",
            "_model_name": "HBoxModel",
            "_view_count": null,
            "_view_module": "@jupyter-widgets/controls",
            "_view_module_version": "1.5.0",
            "_view_name": "HBoxView",
            "box_style": "",
            "children": [
              "IPY_MODEL_27495865e8734d499c731493f1603820",
              "IPY_MODEL_c1d5e75f136d4e30b4eeb5f2baa62360",
              "IPY_MODEL_118c889a6dab4f4187ee5955c9c0a6ef"
            ],
            "layout": "IPY_MODEL_1a10de5511a24c06b727fe1d7f4b87fd"
          }
        },
        "27495865e8734d499c731493f1603820": {
          "model_module": "@jupyter-widgets/controls",
          "model_name": "HTMLModel",
          "model_module_version": "1.5.0",
          "state": {
            "_dom_classes": [],
            "_model_module": "@jupyter-widgets/controls",
            "_model_module_version": "1.5.0",
            "_model_name": "HTMLModel",
            "_view_count": null,
            "_view_module": "@jupyter-widgets/controls",
            "_view_module_version": "1.5.0",
            "_view_name": "HTMLView",
            "description": "",
            "description_tooltip": null,
            "layout": "IPY_MODEL_5c627339346f4c6493506655f52d7513",
            "placeholder": "​",
            "style": "IPY_MODEL_c15bcd185ae74b4dacd33f5da0022dbf",
            "value": "Train:  85%"
          }
        },
        "c1d5e75f136d4e30b4eeb5f2baa62360": {
          "model_module": "@jupyter-widgets/controls",
          "model_name": "FloatProgressModel",
          "model_module_version": "1.5.0",
          "state": {
            "_dom_classes": [],
            "_model_module": "@jupyter-widgets/controls",
            "_model_module_version": "1.5.0",
            "_model_name": "FloatProgressModel",
            "_view_count": null,
            "_view_module": "@jupyter-widgets/controls",
            "_view_module_version": "1.5.0",
            "_view_name": "ProgressView",
            "bar_style": "",
            "description": "",
            "description_tooltip": null,
            "layout": "IPY_MODEL_c9bba264c33a4bc0a95c66891ed25964",
            "max": 15925,
            "min": 0,
            "orientation": "horizontal",
            "style": "IPY_MODEL_fa67143c4caf4aa0bcec83e32f3bf8ec",
            "value": 13462
          }
        },
        "118c889a6dab4f4187ee5955c9c0a6ef": {
          "model_module": "@jupyter-widgets/controls",
          "model_name": "HTMLModel",
          "model_module_version": "1.5.0",
          "state": {
            "_dom_classes": [],
            "_model_module": "@jupyter-widgets/controls",
            "_model_module_version": "1.5.0",
            "_model_name": "HTMLModel",
            "_view_count": null,
            "_view_module": "@jupyter-widgets/controls",
            "_view_module_version": "1.5.0",
            "_view_name": "HTMLView",
            "description": "",
            "description_tooltip": null,
            "layout": "IPY_MODEL_5755fd1d993442fa8a06e4026b6bb2d1",
            "placeholder": "​",
            "style": "IPY_MODEL_4e86d0aabb2243249803b5d13438c6b4",
            "value": " 13462/15925 [1:15:17&lt;13:41,  3.00it/s, acc=79.9643%, loss=0.6049]"
          }
        },
        "1a10de5511a24c06b727fe1d7f4b87fd": {
          "model_module": "@jupyter-widgets/base",
          "model_name": "LayoutModel",
          "model_module_version": "1.2.0",
          "state": {
            "_model_module": "@jupyter-widgets/base",
            "_model_module_version": "1.2.0",
            "_model_name": "LayoutModel",
            "_view_count": null,
            "_view_module": "@jupyter-widgets/base",
            "_view_module_version": "1.2.0",
            "_view_name": "LayoutView",
            "align_content": null,
            "align_items": null,
            "align_self": null,
            "border": null,
            "bottom": null,
            "display": "inline-flex",
            "flex": null,
            "flex_flow": "row wrap",
            "grid_area": null,
            "grid_auto_columns": null,
            "grid_auto_flow": null,
            "grid_auto_rows": null,
            "grid_column": null,
            "grid_gap": null,
            "grid_row": null,
            "grid_template_areas": null,
            "grid_template_columns": null,
            "grid_template_rows": null,
            "height": null,
            "justify_content": null,
            "justify_items": null,
            "left": null,
            "margin": null,
            "max_height": null,
            "max_width": null,
            "min_height": null,
            "min_width": null,
            "object_fit": null,
            "object_position": null,
            "order": null,
            "overflow": null,
            "overflow_x": null,
            "overflow_y": null,
            "padding": null,
            "right": null,
            "top": null,
            "visibility": null,
            "width": "100%"
          }
        },
        "5c627339346f4c6493506655f52d7513": {
          "model_module": "@jupyter-widgets/base",
          "model_name": "LayoutModel",
          "model_module_version": "1.2.0",
          "state": {
            "_model_module": "@jupyter-widgets/base",
            "_model_module_version": "1.2.0",
            "_model_name": "LayoutModel",
            "_view_count": null,
            "_view_module": "@jupyter-widgets/base",
            "_view_module_version": "1.2.0",
            "_view_name": "LayoutView",
            "align_content": null,
            "align_items": null,
            "align_self": null,
            "border": null,
            "bottom": null,
            "display": null,
            "flex": null,
            "flex_flow": null,
            "grid_area": null,
            "grid_auto_columns": null,
            "grid_auto_flow": null,
            "grid_auto_rows": null,
            "grid_column": null,
            "grid_gap": null,
            "grid_row": null,
            "grid_template_areas": null,
            "grid_template_columns": null,
            "grid_template_rows": null,
            "height": null,
            "justify_content": null,
            "justify_items": null,
            "left": null,
            "margin": null,
            "max_height": null,
            "max_width": null,
            "min_height": null,
            "min_width": null,
            "object_fit": null,
            "object_position": null,
            "order": null,
            "overflow": null,
            "overflow_x": null,
            "overflow_y": null,
            "padding": null,
            "right": null,
            "top": null,
            "visibility": null,
            "width": null
          }
        },
        "c15bcd185ae74b4dacd33f5da0022dbf": {
          "model_module": "@jupyter-widgets/controls",
          "model_name": "DescriptionStyleModel",
          "model_module_version": "1.5.0",
          "state": {
            "_model_module": "@jupyter-widgets/controls",
            "_model_module_version": "1.5.0",
            "_model_name": "DescriptionStyleModel",
            "_view_count": null,
            "_view_module": "@jupyter-widgets/base",
            "_view_module_version": "1.2.0",
            "_view_name": "StyleView",
            "description_width": ""
          }
        },
        "c9bba264c33a4bc0a95c66891ed25964": {
          "model_module": "@jupyter-widgets/base",
          "model_name": "LayoutModel",
          "model_module_version": "1.2.0",
          "state": {
            "_model_module": "@jupyter-widgets/base",
            "_model_module_version": "1.2.0",
            "_model_name": "LayoutModel",
            "_view_count": null,
            "_view_module": "@jupyter-widgets/base",
            "_view_module_version": "1.2.0",
            "_view_name": "LayoutView",
            "align_content": null,
            "align_items": null,
            "align_self": null,
            "border": null,
            "bottom": null,
            "display": null,
            "flex": "2",
            "flex_flow": null,
            "grid_area": null,
            "grid_auto_columns": null,
            "grid_auto_flow": null,
            "grid_auto_rows": null,
            "grid_column": null,
            "grid_gap": null,
            "grid_row": null,
            "grid_template_areas": null,
            "grid_template_columns": null,
            "grid_template_rows": null,
            "height": null,
            "justify_content": null,
            "justify_items": null,
            "left": null,
            "margin": null,
            "max_height": null,
            "max_width": null,
            "min_height": null,
            "min_width": null,
            "object_fit": null,
            "object_position": null,
            "order": null,
            "overflow": null,
            "overflow_x": null,
            "overflow_y": null,
            "padding": null,
            "right": null,
            "top": null,
            "visibility": null,
            "width": null
          }
        },
        "fa67143c4caf4aa0bcec83e32f3bf8ec": {
          "model_module": "@jupyter-widgets/controls",
          "model_name": "ProgressStyleModel",
          "model_module_version": "1.5.0",
          "state": {
            "_model_module": "@jupyter-widgets/controls",
            "_model_module_version": "1.5.0",
            "_model_name": "ProgressStyleModel",
            "_view_count": null,
            "_view_module": "@jupyter-widgets/base",
            "_view_module_version": "1.2.0",
            "_view_name": "StyleView",
            "bar_color": null,
            "description_width": ""
          }
        },
        "5755fd1d993442fa8a06e4026b6bb2d1": {
          "model_module": "@jupyter-widgets/base",
          "model_name": "LayoutModel",
          "model_module_version": "1.2.0",
          "state": {
            "_model_module": "@jupyter-widgets/base",
            "_model_module_version": "1.2.0",
            "_model_name": "LayoutModel",
            "_view_count": null,
            "_view_module": "@jupyter-widgets/base",
            "_view_module_version": "1.2.0",
            "_view_name": "LayoutView",
            "align_content": null,
            "align_items": null,
            "align_self": null,
            "border": null,
            "bottom": null,
            "display": null,
            "flex": null,
            "flex_flow": null,
            "grid_area": null,
            "grid_auto_columns": null,
            "grid_auto_flow": null,
            "grid_auto_rows": null,
            "grid_column": null,
            "grid_gap": null,
            "grid_row": null,
            "grid_template_areas": null,
            "grid_template_columns": null,
            "grid_template_rows": null,
            "height": null,
            "justify_content": null,
            "justify_items": null,
            "left": null,
            "margin": null,
            "max_height": null,
            "max_width": null,
            "min_height": null,
            "min_width": null,
            "object_fit": null,
            "object_position": null,
            "order": null,
            "overflow": null,
            "overflow_x": null,
            "overflow_y": null,
            "padding": null,
            "right": null,
            "top": null,
            "visibility": null,
            "width": null
          }
        },
        "4e86d0aabb2243249803b5d13438c6b4": {
          "model_module": "@jupyter-widgets/controls",
          "model_name": "DescriptionStyleModel",
          "model_module_version": "1.5.0",
          "state": {
            "_model_module": "@jupyter-widgets/controls",
            "_model_module_version": "1.5.0",
            "_model_name": "DescriptionStyleModel",
            "_view_count": null,
            "_view_module": "@jupyter-widgets/base",
            "_view_module_version": "1.2.0",
            "_view_name": "StyleView",
            "description_width": ""
          }
        }
      }
    }
  },
  "nbformat": 4,
  "nbformat_minor": 0
}